{
  "nbformat": 4,
  "nbformat_minor": 0,
  "metadata": {
    "colab": {
      "name": "Untitled3.ipynb",
      "provenance": [],
      "authorship_tag": "ABX9TyNP5SVqKy7GWqmqWsr0KRDp",
      "include_colab_link": true
    },
    "kernelspec": {
      "name": "python3",
      "display_name": "Python 3"
    }
  },
  "cells": [
    {
      "cell_type": "markdown",
      "metadata": {
        "id": "view-in-github",
        "colab_type": "text"
      },
      "source": [
        "<a href=\"https://colab.research.google.com/github/SALMASHERIF93/Applied-Data-Science-Capestone/blob/master/4.ipynb\" target=\"_parent\"><img src=\"https://colab.research.google.com/assets/colab-badge.svg\" alt=\"Open In Colab\"/></a>"
      ]
    },
    {
      "cell_type": "code",
      "metadata": {
        "id": "MbW5VZ48DXeH",
        "colab_type": "code",
        "colab": {
          "base_uri": "https://localhost:8080/",
          "height": 204
        },
        "outputId": "613d632b-ff0e-4856-ee3e-37b3d0c62889"
      },
      "source": [
        "from bs4 import BeautifulSoup\n",
        "import numpy as np\n",
        "import pandas as pd\n",
        "pd.set_option('display.max_columns', None)\n",
        "pd.set_option('display.max_rows', None)\n",
        "import json\n",
        "print('numpy, pandas, ..., imported...')\n",
        "!pip -q install geopy\n",
        "print('geopy installed...')\n",
        "from geopy.geocoders import Nominatim\n",
        "print('Nominatim imported...')\n",
        "import requests\n",
        "print('requests imported...')\n",
        "from pandas.io.json import json_normalize\n",
        "print('json_normalize imported...')\n",
        "import matplotlib.cm as cm\n",
        "import matplotlib.colors as colors\n",
        "print('matplotlib imported...')\n",
        "from sklearn.cluster import KMeans\n",
        "print('Kmeans imported...')\n",
        "!pip -q install geocoder\n",
        "import geocoder\n",
        "import time\n",
        "!pip -q install folium\n",
        "print('folium installed...')\n",
        "import folium \n",
        "print('folium imported...')\n",
        "print('...Done')"
      ],
      "execution_count": null,
      "outputs": [
        {
          "output_type": "stream",
          "text": [
            "numpy, pandas, ..., imported...\n",
            "geopy installed...\n",
            "Nominatim imported...\n",
            "requests imported...\n",
            "json_normalize imported...\n",
            "matplotlib imported...\n",
            "Kmeans imported...\n",
            "\u001b[K     |████████████████████████████████| 102kB 2.3MB/s \n",
            "\u001b[?25hfolium installed...\n",
            "folium imported...\n",
            "...Done\n"
          ],
          "name": "stdout"
        }
      ]
    },
    {
      "cell_type": "code",
      "metadata": {
        "id": "QgO1NNPdDZYP",
        "colab_type": "code",
        "colab": {
          "base_uri": "https://localhost:8080/",
          "height": 34
        },
        "outputId": "f30790e6-42b6-4f7a-b3a2-a7d265e1907b"
      },
      "source": [
        "wikipedia_link = 'https://en.wikipedia.org/wiki/List_of_areas_of_London'\n",
        "headers = {'User-Agent': 'Mozilla/5.0 (Windows NT 10.0; Win64; x64; rv:64.0) Gecko/20100101 Firefox/64.0'}\n",
        "wikipedia_page = requests.get(wikipedia_link, headers = headers)\n",
        "wikipedia_page"
      ],
      "execution_count": null,
      "outputs": [
        {
          "output_type": "execute_result",
          "data": {
            "text/plain": [
              "<Response [200]>"
            ]
          },
          "metadata": {
            "tags": []
          },
          "execution_count": 46
        }
      ]
    },
    {
      "cell_type": "code",
      "metadata": {
        "id": "oBJAqJ7lDZeu",
        "colab_type": "code",
        "colab": {}
      },
      "source": [
        "soup = BeautifulSoup(wikipedia_page.content, 'html.parser')\n",
        "table = soup.find('table', {'class':'wikitable sortable'}).tbody"
      ],
      "execution_count": null,
      "outputs": []
    },
    {
      "cell_type": "code",
      "metadata": {
        "id": "nI5SLbJeDZcY",
        "colab_type": "code",
        "colab": {}
      },
      "source": [
        "rows = table.find_all('tr')"
      ],
      "execution_count": null,
      "outputs": []
    },
    {
      "cell_type": "code",
      "metadata": {
        "id": "1NNEKbWBD-ip",
        "colab_type": "code",
        "colab": {}
      },
      "source": [
        "columns = [i.text.replace('\\n', '')\n",
        "           for i in rows[0].find_all('th')]"
      ],
      "execution_count": null,
      "outputs": []
    },
    {
      "cell_type": "code",
      "metadata": {
        "id": "YpS558rfD-rF",
        "colab_type": "code",
        "colab": {
          "base_uri": "https://localhost:8080/",
          "height": 49
        },
        "outputId": "e73a6973-7936-4736-b676-6202f31caa90"
      },
      "source": [
        "df = pd.DataFrame(columns = columns)\n",
        "df"
      ],
      "execution_count": null,
      "outputs": [
        {
          "output_type": "execute_result",
          "data": {
            "text/html": [
              "<div>\n",
              "<style scoped>\n",
              "    .dataframe tbody tr th:only-of-type {\n",
              "        vertical-align: middle;\n",
              "    }\n",
              "\n",
              "    .dataframe tbody tr th {\n",
              "        vertical-align: top;\n",
              "    }\n",
              "\n",
              "    .dataframe thead th {\n",
              "        text-align: right;\n",
              "    }\n",
              "</style>\n",
              "<table border=\"1\" class=\"dataframe\">\n",
              "  <thead>\n",
              "    <tr style=\"text-align: right;\">\n",
              "      <th></th>\n",
              "      <th>Location</th>\n",
              "      <th>London borough</th>\n",
              "      <th>Post town</th>\n",
              "      <th>Postcode district</th>\n",
              "      <th>Dial code</th>\n",
              "      <th>OS grid ref</th>\n",
              "    </tr>\n",
              "  </thead>\n",
              "  <tbody>\n",
              "  </tbody>\n",
              "</table>\n",
              "</div>"
            ],
            "text/plain": [
              "Empty DataFrame\n",
              "Columns: [Location, London borough, Post town, Postcode district, Dial code, OS grid ref]\n",
              "Index: []"
            ]
          },
          "metadata": {
            "tags": []
          },
          "execution_count": 50
        }
      ]
    },
    {
      "cell_type": "code",
      "metadata": {
        "id": "g4tLr4QqD-2C",
        "colab_type": "code",
        "colab": {}
      },
      "source": [
        "for i in range(1, len(rows)):\n",
        "    tds = rows[i].find_all('td')\n",
        "    if len(tds) == 7:\n",
        "        values = [tds[0].text, tds[1].text, tds[2].text.replace('\\n', ''.replace('\\xa0','')), tds[3].text, tds[4].text.replace('\\n', ''.replace('\\xa0','')), tds[5].text.replace('\\n', ''.replace('\\xa0','')), tds[6].text.replace('\\n', ''.replace('\\xa0',''))]\n",
        "    else:\n",
        "        values = [td.text.replace('\\n', '').replace('\\xa0','') for td in tds]\n",
        "        \n",
        "        df = df.append(pd.Series(values, index = columns), ignore_index = True)\n",
        "        df"
      ],
      "execution_count": null,
      "outputs": []
    },
    {
      "cell_type": "code",
      "metadata": {
        "id": "KqRbmmTuD-0Q",
        "colab_type": "code",
        "colab": {
          "base_uri": "https://localhost:8080/",
          "height": 204
        },
        "outputId": "1a03fbcc-6b6c-4ef4-f415-4b5a1647d70e"
      },
      "source": [
        "df.head(5)"
      ],
      "execution_count": null,
      "outputs": [
        {
          "output_type": "execute_result",
          "data": {
            "text/html": [
              "<div>\n",
              "<style scoped>\n",
              "    .dataframe tbody tr th:only-of-type {\n",
              "        vertical-align: middle;\n",
              "    }\n",
              "\n",
              "    .dataframe tbody tr th {\n",
              "        vertical-align: top;\n",
              "    }\n",
              "\n",
              "    .dataframe thead th {\n",
              "        text-align: right;\n",
              "    }\n",
              "</style>\n",
              "<table border=\"1\" class=\"dataframe\">\n",
              "  <thead>\n",
              "    <tr style=\"text-align: right;\">\n",
              "      <th></th>\n",
              "      <th>Location</th>\n",
              "      <th>London borough</th>\n",
              "      <th>Post town</th>\n",
              "      <th>Postcode district</th>\n",
              "      <th>Dial code</th>\n",
              "      <th>OS grid ref</th>\n",
              "    </tr>\n",
              "  </thead>\n",
              "  <tbody>\n",
              "    <tr>\n",
              "      <th>0</th>\n",
              "      <td>Abbey Wood</td>\n",
              "      <td>Bexley,  Greenwich [7]</td>\n",
              "      <td>LONDON</td>\n",
              "      <td>SE2</td>\n",
              "      <td>020</td>\n",
              "      <td>TQ465785</td>\n",
              "    </tr>\n",
              "    <tr>\n",
              "      <th>1</th>\n",
              "      <td>Acton</td>\n",
              "      <td>Ealing, Hammersmith and Fulham[8]</td>\n",
              "      <td>LONDON</td>\n",
              "      <td>W3, W4</td>\n",
              "      <td>020</td>\n",
              "      <td>TQ205805</td>\n",
              "    </tr>\n",
              "    <tr>\n",
              "      <th>2</th>\n",
              "      <td>Addington</td>\n",
              "      <td>Croydon[8]</td>\n",
              "      <td>CROYDON</td>\n",
              "      <td>CR0</td>\n",
              "      <td>020</td>\n",
              "      <td>TQ375645</td>\n",
              "    </tr>\n",
              "    <tr>\n",
              "      <th>3</th>\n",
              "      <td>Addiscombe</td>\n",
              "      <td>Croydon[8]</td>\n",
              "      <td>CROYDON</td>\n",
              "      <td>CR0</td>\n",
              "      <td>020</td>\n",
              "      <td>TQ345665</td>\n",
              "    </tr>\n",
              "    <tr>\n",
              "      <th>4</th>\n",
              "      <td>Albany Park</td>\n",
              "      <td>Bexley</td>\n",
              "      <td>BEXLEY, SIDCUP</td>\n",
              "      <td>DA5, DA14</td>\n",
              "      <td>020</td>\n",
              "      <td>TQ478728</td>\n",
              "    </tr>\n",
              "  </tbody>\n",
              "</table>\n",
              "</div>"
            ],
            "text/plain": [
              "      Location                     London borough       Post town  \\\n",
              "0   Abbey Wood             Bexley,  Greenwich [7]          LONDON   \n",
              "1        Acton  Ealing, Hammersmith and Fulham[8]          LONDON   \n",
              "2    Addington                         Croydon[8]         CROYDON   \n",
              "3   Addiscombe                         Croydon[8]         CROYDON   \n",
              "4  Albany Park                             Bexley  BEXLEY, SIDCUP   \n",
              "\n",
              "  Postcode district Dial code OS grid ref  \n",
              "0               SE2       020    TQ465785  \n",
              "1            W3, W4       020    TQ205805  \n",
              "2               CR0       020    TQ375645  \n",
              "3               CR0       020    TQ345665  \n",
              "4         DA5, DA14       020    TQ478728  "
            ]
          },
          "metadata": {
            "tags": []
          },
          "execution_count": 52
        }
      ]
    },
    {
      "cell_type": "code",
      "metadata": {
        "id": "cVlUaFHUD-zI",
        "colab_type": "code",
        "colab": {}
      },
      "source": [
        "df = df.rename(index=str, columns = {'Location': 'Location', 'London\\xa0borough': 'Borough', 'Post town': 'Post-town', 'Postcode\\xa0district': 'Postcode', 'Dial\\xa0code': 'Dial-code', 'OS grid ref': 'OSGridRef'})"
      ],
      "execution_count": null,
      "outputs": []
    },
    {
      "cell_type": "code",
      "metadata": {
        "id": "fmBegZVXD-ws",
        "colab_type": "code",
        "colab": {
          "base_uri": "https://localhost:8080/",
          "height": 204
        },
        "outputId": "2baf3c86-00df-42c5-a45e-1d9c59e33607"
      },
      "source": [
        "df.head(5)"
      ],
      "execution_count": null,
      "outputs": [
        {
          "output_type": "execute_result",
          "data": {
            "text/html": [
              "<div>\n",
              "<style scoped>\n",
              "    .dataframe tbody tr th:only-of-type {\n",
              "        vertical-align: middle;\n",
              "    }\n",
              "\n",
              "    .dataframe tbody tr th {\n",
              "        vertical-align: top;\n",
              "    }\n",
              "\n",
              "    .dataframe thead th {\n",
              "        text-align: right;\n",
              "    }\n",
              "</style>\n",
              "<table border=\"1\" class=\"dataframe\">\n",
              "  <thead>\n",
              "    <tr style=\"text-align: right;\">\n",
              "      <th></th>\n",
              "      <th>Location</th>\n",
              "      <th>Borough</th>\n",
              "      <th>Post-town</th>\n",
              "      <th>Postcode</th>\n",
              "      <th>Dial-code</th>\n",
              "      <th>OSGridRef</th>\n",
              "    </tr>\n",
              "  </thead>\n",
              "  <tbody>\n",
              "    <tr>\n",
              "      <th>0</th>\n",
              "      <td>Abbey Wood</td>\n",
              "      <td>Bexley,  Greenwich [7]</td>\n",
              "      <td>LONDON</td>\n",
              "      <td>SE2</td>\n",
              "      <td>020</td>\n",
              "      <td>TQ465785</td>\n",
              "    </tr>\n",
              "    <tr>\n",
              "      <th>1</th>\n",
              "      <td>Acton</td>\n",
              "      <td>Ealing, Hammersmith and Fulham[8]</td>\n",
              "      <td>LONDON</td>\n",
              "      <td>W3, W4</td>\n",
              "      <td>020</td>\n",
              "      <td>TQ205805</td>\n",
              "    </tr>\n",
              "    <tr>\n",
              "      <th>2</th>\n",
              "      <td>Addington</td>\n",
              "      <td>Croydon[8]</td>\n",
              "      <td>CROYDON</td>\n",
              "      <td>CR0</td>\n",
              "      <td>020</td>\n",
              "      <td>TQ375645</td>\n",
              "    </tr>\n",
              "    <tr>\n",
              "      <th>3</th>\n",
              "      <td>Addiscombe</td>\n",
              "      <td>Croydon[8]</td>\n",
              "      <td>CROYDON</td>\n",
              "      <td>CR0</td>\n",
              "      <td>020</td>\n",
              "      <td>TQ345665</td>\n",
              "    </tr>\n",
              "    <tr>\n",
              "      <th>4</th>\n",
              "      <td>Albany Park</td>\n",
              "      <td>Bexley</td>\n",
              "      <td>BEXLEY, SIDCUP</td>\n",
              "      <td>DA5, DA14</td>\n",
              "      <td>020</td>\n",
              "      <td>TQ478728</td>\n",
              "    </tr>\n",
              "  </tbody>\n",
              "</table>\n",
              "</div>"
            ],
            "text/plain": [
              "      Location                            Borough       Post-town   Postcode  \\\n",
              "0   Abbey Wood             Bexley,  Greenwich [7]          LONDON        SE2   \n",
              "1        Acton  Ealing, Hammersmith and Fulham[8]          LONDON     W3, W4   \n",
              "2    Addington                         Croydon[8]         CROYDON        CR0   \n",
              "3   Addiscombe                         Croydon[8]         CROYDON        CR0   \n",
              "4  Albany Park                             Bexley  BEXLEY, SIDCUP  DA5, DA14   \n",
              "\n",
              "  Dial-code OSGridRef  \n",
              "0       020  TQ465785  \n",
              "1       020  TQ205805  \n",
              "2       020  TQ375645  \n",
              "3       020  TQ345665  \n",
              "4       020  TQ478728  "
            ]
          },
          "metadata": {
            "tags": []
          },
          "execution_count": 54
        }
      ]
    },
    {
      "cell_type": "code",
      "metadata": {
        "id": "1-ckQjn4D-ot",
        "colab_type": "code",
        "colab": {}
      },
      "source": [
        "df['Borough'] = df['Borough'].map(lambda x: x.rstrip(']').rstrip('0123456789').rstrip('['))"
      ],
      "execution_count": null,
      "outputs": []
    },
    {
      "cell_type": "code",
      "metadata": {
        "id": "XpjaZD3ZD-mJ",
        "colab_type": "code",
        "colab": {
          "base_uri": "https://localhost:8080/",
          "height": 34
        },
        "outputId": "b572504a-530a-4eb1-d811-b9cd43322548"
      },
      "source": [
        "df.shape\n"
      ],
      "execution_count": null,
      "outputs": [
        {
          "output_type": "execute_result",
          "data": {
            "text/plain": [
              "(533, 6)"
            ]
          },
          "metadata": {
            "tags": []
          },
          "execution_count": 56
        }
      ]
    },
    {
      "cell_type": "code",
      "metadata": {
        "id": "NRxYFi0qD-fv",
        "colab_type": "code",
        "colab": {
          "base_uri": "https://localhost:8080/",
          "height": 204
        },
        "outputId": "729981ff-b995-4a41-d83e-b9545e482673"
      },
      "source": [
        "df.head(5)\n"
      ],
      "execution_count": null,
      "outputs": [
        {
          "output_type": "execute_result",
          "data": {
            "text/html": [
              "<div>\n",
              "<style scoped>\n",
              "    .dataframe tbody tr th:only-of-type {\n",
              "        vertical-align: middle;\n",
              "    }\n",
              "\n",
              "    .dataframe tbody tr th {\n",
              "        vertical-align: top;\n",
              "    }\n",
              "\n",
              "    .dataframe thead th {\n",
              "        text-align: right;\n",
              "    }\n",
              "</style>\n",
              "<table border=\"1\" class=\"dataframe\">\n",
              "  <thead>\n",
              "    <tr style=\"text-align: right;\">\n",
              "      <th></th>\n",
              "      <th>Location</th>\n",
              "      <th>Borough</th>\n",
              "      <th>Post-town</th>\n",
              "      <th>Postcode</th>\n",
              "      <th>Dial-code</th>\n",
              "      <th>OSGridRef</th>\n",
              "    </tr>\n",
              "  </thead>\n",
              "  <tbody>\n",
              "    <tr>\n",
              "      <th>0</th>\n",
              "      <td>Abbey Wood</td>\n",
              "      <td>Bexley,  Greenwich</td>\n",
              "      <td>LONDON</td>\n",
              "      <td>SE2</td>\n",
              "      <td>020</td>\n",
              "      <td>TQ465785</td>\n",
              "    </tr>\n",
              "    <tr>\n",
              "      <th>1</th>\n",
              "      <td>Acton</td>\n",
              "      <td>Ealing, Hammersmith and Fulham</td>\n",
              "      <td>LONDON</td>\n",
              "      <td>W3, W4</td>\n",
              "      <td>020</td>\n",
              "      <td>TQ205805</td>\n",
              "    </tr>\n",
              "    <tr>\n",
              "      <th>2</th>\n",
              "      <td>Addington</td>\n",
              "      <td>Croydon</td>\n",
              "      <td>CROYDON</td>\n",
              "      <td>CR0</td>\n",
              "      <td>020</td>\n",
              "      <td>TQ375645</td>\n",
              "    </tr>\n",
              "    <tr>\n",
              "      <th>3</th>\n",
              "      <td>Addiscombe</td>\n",
              "      <td>Croydon</td>\n",
              "      <td>CROYDON</td>\n",
              "      <td>CR0</td>\n",
              "      <td>020</td>\n",
              "      <td>TQ345665</td>\n",
              "    </tr>\n",
              "    <tr>\n",
              "      <th>4</th>\n",
              "      <td>Albany Park</td>\n",
              "      <td>Bexley</td>\n",
              "      <td>BEXLEY, SIDCUP</td>\n",
              "      <td>DA5, DA14</td>\n",
              "      <td>020</td>\n",
              "      <td>TQ478728</td>\n",
              "    </tr>\n",
              "  </tbody>\n",
              "</table>\n",
              "</div>"
            ],
            "text/plain": [
              "      Location                         Borough       Post-town   Postcode  \\\n",
              "0   Abbey Wood             Bexley,  Greenwich           LONDON        SE2   \n",
              "1        Acton  Ealing, Hammersmith and Fulham          LONDON     W3, W4   \n",
              "2    Addington                         Croydon         CROYDON        CR0   \n",
              "3   Addiscombe                         Croydon         CROYDON        CR0   \n",
              "4  Albany Park                          Bexley  BEXLEY, SIDCUP  DA5, DA14   \n",
              "\n",
              "  Dial-code OSGridRef  \n",
              "0       020  TQ465785  \n",
              "1       020  TQ205805  \n",
              "2       020  TQ375645  \n",
              "3       020  TQ345665  \n",
              "4       020  TQ478728  "
            ]
          },
          "metadata": {
            "tags": []
          },
          "execution_count": 57
        }
      ]
    },
    {
      "cell_type": "code",
      "metadata": {
        "id": "Ozw9B9oVE3D3",
        "colab_type": "code",
        "colab": {}
      },
      "source": [
        "df0 = df.drop('Postcode', axis=1).join(df['Postcode'].str.split(',', expand=True).stack().reset_index(level=1, drop=True).rename('Postcode'))\n"
      ],
      "execution_count": null,
      "outputs": []
    },
    {
      "cell_type": "code",
      "metadata": {
        "id": "FgFTXyxsE3K6",
        "colab_type": "code",
        "colab": {
          "base_uri": "https://localhost:8080/",
          "height": 34
        },
        "outputId": "a3cb8d29-1b0e-45da-f6ad-d61b53e1e9bc"
      },
      "source": [
        "df0.shape\n"
      ],
      "execution_count": null,
      "outputs": [
        {
          "output_type": "execute_result",
          "data": {
            "text/plain": [
              "(637, 6)"
            ]
          },
          "metadata": {
            "tags": []
          },
          "execution_count": 59
        }
      ]
    },
    {
      "cell_type": "code",
      "metadata": {
        "id": "JHwElNkKE3Y-",
        "colab_type": "code",
        "colab": {}
      },
      "source": [
        "df1 = df0[['Location', 'Borough', 'Postcode', 'Post-town']].reset_index(drop=True)\n"
      ],
      "execution_count": null,
      "outputs": []
    },
    {
      "cell_type": "code",
      "metadata": {
        "id": "X_zii356E3sf",
        "colab_type": "code",
        "colab": {
          "base_uri": "https://localhost:8080/",
          "height": 204
        },
        "outputId": "99897405-2da0-4848-9f88-0bef77852437"
      },
      "source": [
        "df1.head(5)\n"
      ],
      "execution_count": null,
      "outputs": [
        {
          "output_type": "execute_result",
          "data": {
            "text/html": [
              "<div>\n",
              "<style scoped>\n",
              "    .dataframe tbody tr th:only-of-type {\n",
              "        vertical-align: middle;\n",
              "    }\n",
              "\n",
              "    .dataframe tbody tr th {\n",
              "        vertical-align: top;\n",
              "    }\n",
              "\n",
              "    .dataframe thead th {\n",
              "        text-align: right;\n",
              "    }\n",
              "</style>\n",
              "<table border=\"1\" class=\"dataframe\">\n",
              "  <thead>\n",
              "    <tr style=\"text-align: right;\">\n",
              "      <th></th>\n",
              "      <th>Location</th>\n",
              "      <th>Borough</th>\n",
              "      <th>Postcode</th>\n",
              "      <th>Post-town</th>\n",
              "    </tr>\n",
              "  </thead>\n",
              "  <tbody>\n",
              "    <tr>\n",
              "      <th>0</th>\n",
              "      <td>Abbey Wood</td>\n",
              "      <td>Bexley,  Greenwich</td>\n",
              "      <td>SE2</td>\n",
              "      <td>LONDON</td>\n",
              "    </tr>\n",
              "    <tr>\n",
              "      <th>1</th>\n",
              "      <td>Acton</td>\n",
              "      <td>Ealing, Hammersmith and Fulham</td>\n",
              "      <td>W3</td>\n",
              "      <td>LONDON</td>\n",
              "    </tr>\n",
              "    <tr>\n",
              "      <th>2</th>\n",
              "      <td>Acton</td>\n",
              "      <td>Ealing, Hammersmith and Fulham</td>\n",
              "      <td>W4</td>\n",
              "      <td>LONDON</td>\n",
              "    </tr>\n",
              "    <tr>\n",
              "      <th>3</th>\n",
              "      <td>Angel</td>\n",
              "      <td>Islington</td>\n",
              "      <td>EC1</td>\n",
              "      <td>LONDON</td>\n",
              "    </tr>\n",
              "    <tr>\n",
              "      <th>4</th>\n",
              "      <td>Angel</td>\n",
              "      <td>Islington</td>\n",
              "      <td>N1</td>\n",
              "      <td>LONDON</td>\n",
              "    </tr>\n",
              "  </tbody>\n",
              "</table>\n",
              "</div>"
            ],
            "text/plain": [
              "     Location                         Borough Postcode Post-town\n",
              "0  Abbey Wood             Bexley,  Greenwich       SE2    LONDON\n",
              "1       Acton  Ealing, Hammersmith and Fulham       W3    LONDON\n",
              "2       Acton  Ealing, Hammersmith and Fulham       W4    LONDON\n",
              "3       Angel                       Islington      EC1    LONDON\n",
              "4       Angel                       Islington       N1    LONDON"
            ]
          },
          "metadata": {
            "tags": []
          },
          "execution_count": 61
        }
      ]
    },
    {
      "cell_type": "code",
      "metadata": {
        "id": "18sgyG_IE3zc",
        "colab_type": "code",
        "colab": {
          "base_uri": "https://localhost:8080/",
          "height": 34
        },
        "outputId": "d7eb43bf-0cd0-4fc6-8bb3-d2c0c431c865"
      },
      "source": [
        "df1.shape\n"
      ],
      "execution_count": null,
      "outputs": [
        {
          "output_type": "execute_result",
          "data": {
            "text/plain": [
              "(637, 4)"
            ]
          },
          "metadata": {
            "tags": []
          },
          "execution_count": 62
        }
      ]
    },
    {
      "cell_type": "code",
      "metadata": {
        "id": "CkTZQbHxE3xF",
        "colab_type": "code",
        "colab": {}
      },
      "source": [
        "df2 = df1\n",
        "df21 = df2[df2['Post-town'].str.contains('LONDON')]"
      ],
      "execution_count": null,
      "outputs": []
    },
    {
      "cell_type": "code",
      "metadata": {
        "id": "as_VoIW3E3Wh",
        "colab_type": "code",
        "colab": {
          "base_uri": "https://localhost:8080/",
          "height": 204
        },
        "outputId": "461b6f38-9455-4ae0-d6f0-080ba6267813"
      },
      "source": [
        "df21.head(5)\n"
      ],
      "execution_count": null,
      "outputs": [
        {
          "output_type": "execute_result",
          "data": {
            "text/html": [
              "<div>\n",
              "<style scoped>\n",
              "    .dataframe tbody tr th:only-of-type {\n",
              "        vertical-align: middle;\n",
              "    }\n",
              "\n",
              "    .dataframe tbody tr th {\n",
              "        vertical-align: top;\n",
              "    }\n",
              "\n",
              "    .dataframe thead th {\n",
              "        text-align: right;\n",
              "    }\n",
              "</style>\n",
              "<table border=\"1\" class=\"dataframe\">\n",
              "  <thead>\n",
              "    <tr style=\"text-align: right;\">\n",
              "      <th></th>\n",
              "      <th>Location</th>\n",
              "      <th>Borough</th>\n",
              "      <th>Postcode</th>\n",
              "      <th>Post-town</th>\n",
              "    </tr>\n",
              "  </thead>\n",
              "  <tbody>\n",
              "    <tr>\n",
              "      <th>0</th>\n",
              "      <td>Abbey Wood</td>\n",
              "      <td>Bexley,  Greenwich</td>\n",
              "      <td>SE2</td>\n",
              "      <td>LONDON</td>\n",
              "    </tr>\n",
              "    <tr>\n",
              "      <th>1</th>\n",
              "      <td>Acton</td>\n",
              "      <td>Ealing, Hammersmith and Fulham</td>\n",
              "      <td>W3</td>\n",
              "      <td>LONDON</td>\n",
              "    </tr>\n",
              "    <tr>\n",
              "      <th>2</th>\n",
              "      <td>Acton</td>\n",
              "      <td>Ealing, Hammersmith and Fulham</td>\n",
              "      <td>W4</td>\n",
              "      <td>LONDON</td>\n",
              "    </tr>\n",
              "    <tr>\n",
              "      <th>3</th>\n",
              "      <td>Angel</td>\n",
              "      <td>Islington</td>\n",
              "      <td>EC1</td>\n",
              "      <td>LONDON</td>\n",
              "    </tr>\n",
              "    <tr>\n",
              "      <th>4</th>\n",
              "      <td>Angel</td>\n",
              "      <td>Islington</td>\n",
              "      <td>N1</td>\n",
              "      <td>LONDON</td>\n",
              "    </tr>\n",
              "  </tbody>\n",
              "</table>\n",
              "</div>"
            ],
            "text/plain": [
              "     Location                         Borough Postcode Post-town\n",
              "0  Abbey Wood             Bexley,  Greenwich       SE2    LONDON\n",
              "1       Acton  Ealing, Hammersmith and Fulham       W3    LONDON\n",
              "2       Acton  Ealing, Hammersmith and Fulham       W4    LONDON\n",
              "3       Angel                       Islington      EC1    LONDON\n",
              "4       Angel                       Islington       N1    LONDON"
            ]
          },
          "metadata": {
            "tags": []
          },
          "execution_count": 64
        }
      ]
    },
    {
      "cell_type": "code",
      "metadata": {
        "id": "J6L6v59mE3TM",
        "colab_type": "code",
        "colab": {
          "base_uri": "https://localhost:8080/",
          "height": 34
        },
        "outputId": "be5183a6-e034-434c-da0e-d33f73cb4b62"
      },
      "source": [
        "df21.shape\n"
      ],
      "execution_count": null,
      "outputs": [
        {
          "output_type": "execute_result",
          "data": {
            "text/plain": [
              "(381, 4)"
            ]
          },
          "metadata": {
            "tags": []
          },
          "execution_count": 65
        }
      ]
    },
    {
      "cell_type": "code",
      "metadata": {
        "id": "JzvkrfDKE3Rs",
        "colab_type": "code",
        "colab": {}
      },
      "source": [
        "df3 = df21[['Location', 'Borough', 'Postcode']].reset_index(drop=True)\n"
      ],
      "execution_count": null,
      "outputs": []
    },
    {
      "cell_type": "code",
      "metadata": {
        "id": "FUPKECM9E3Pv",
        "colab_type": "code",
        "colab": {
          "base_uri": "https://localhost:8080/",
          "height": 359
        },
        "outputId": "dffc836f-4fd4-46bd-f6a5-850500fe295e"
      },
      "source": [
        "df3.head(10)\n"
      ],
      "execution_count": null,
      "outputs": [
        {
          "output_type": "execute_result",
          "data": {
            "text/html": [
              "<div>\n",
              "<style scoped>\n",
              "    .dataframe tbody tr th:only-of-type {\n",
              "        vertical-align: middle;\n",
              "    }\n",
              "\n",
              "    .dataframe tbody tr th {\n",
              "        vertical-align: top;\n",
              "    }\n",
              "\n",
              "    .dataframe thead th {\n",
              "        text-align: right;\n",
              "    }\n",
              "</style>\n",
              "<table border=\"1\" class=\"dataframe\">\n",
              "  <thead>\n",
              "    <tr style=\"text-align: right;\">\n",
              "      <th></th>\n",
              "      <th>Location</th>\n",
              "      <th>Borough</th>\n",
              "      <th>Postcode</th>\n",
              "    </tr>\n",
              "  </thead>\n",
              "  <tbody>\n",
              "    <tr>\n",
              "      <th>0</th>\n",
              "      <td>Abbey Wood</td>\n",
              "      <td>Bexley,  Greenwich</td>\n",
              "      <td>SE2</td>\n",
              "    </tr>\n",
              "    <tr>\n",
              "      <th>1</th>\n",
              "      <td>Acton</td>\n",
              "      <td>Ealing, Hammersmith and Fulham</td>\n",
              "      <td>W3</td>\n",
              "    </tr>\n",
              "    <tr>\n",
              "      <th>2</th>\n",
              "      <td>Acton</td>\n",
              "      <td>Ealing, Hammersmith and Fulham</td>\n",
              "      <td>W4</td>\n",
              "    </tr>\n",
              "    <tr>\n",
              "      <th>3</th>\n",
              "      <td>Angel</td>\n",
              "      <td>Islington</td>\n",
              "      <td>EC1</td>\n",
              "    </tr>\n",
              "    <tr>\n",
              "      <th>4</th>\n",
              "      <td>Angel</td>\n",
              "      <td>Islington</td>\n",
              "      <td>N1</td>\n",
              "    </tr>\n",
              "    <tr>\n",
              "      <th>5</th>\n",
              "      <td>Church End</td>\n",
              "      <td>Brent</td>\n",
              "      <td>NW10</td>\n",
              "    </tr>\n",
              "    <tr>\n",
              "      <th>6</th>\n",
              "      <td>Church End</td>\n",
              "      <td>Barnet</td>\n",
              "      <td>N3</td>\n",
              "    </tr>\n",
              "    <tr>\n",
              "      <th>7</th>\n",
              "      <td>Clapham</td>\n",
              "      <td>Lambeth, Wandsworth</td>\n",
              "      <td>SW4</td>\n",
              "    </tr>\n",
              "    <tr>\n",
              "      <th>8</th>\n",
              "      <td>Clerkenwell</td>\n",
              "      <td>Islington</td>\n",
              "      <td>EC1</td>\n",
              "    </tr>\n",
              "    <tr>\n",
              "      <th>9</th>\n",
              "      <td>Colindale</td>\n",
              "      <td>Barnet</td>\n",
              "      <td>NW9</td>\n",
              "    </tr>\n",
              "  </tbody>\n",
              "</table>\n",
              "</div>"
            ],
            "text/plain": [
              "      Location                         Borough Postcode\n",
              "0   Abbey Wood             Bexley,  Greenwich       SE2\n",
              "1        Acton  Ealing, Hammersmith and Fulham       W3\n",
              "2        Acton  Ealing, Hammersmith and Fulham       W4\n",
              "3        Angel                       Islington      EC1\n",
              "4        Angel                       Islington       N1\n",
              "5   Church End                           Brent     NW10\n",
              "6   Church End                          Barnet       N3\n",
              "7      Clapham             Lambeth, Wandsworth      SW4\n",
              "8  Clerkenwell                       Islington      EC1\n",
              "9    Colindale                          Barnet      NW9"
            ]
          },
          "metadata": {
            "tags": []
          },
          "execution_count": 67
        }
      ]
    },
    {
      "cell_type": "code",
      "metadata": {
        "id": "p4QJOFGmE3JQ",
        "colab_type": "code",
        "colab": {}
      },
      "source": [
        "df_london = df3\n",
        "df_london.to_csv('LondonLocations.csv', index = False)"
      ],
      "execution_count": null,
      "outputs": []
    },
    {
      "cell_type": "code",
      "metadata": {
        "id": "Chnq4-CtFz5n",
        "colab_type": "code",
        "colab": {
          "base_uri": "https://localhost:8080/",
          "height": 204
        },
        "outputId": "f4c41a47-aa22-4dc1-851c-2384b82fa440"
      },
      "source": [
        "df_london.head(5)\n"
      ],
      "execution_count": null,
      "outputs": [
        {
          "output_type": "execute_result",
          "data": {
            "text/html": [
              "<div>\n",
              "<style scoped>\n",
              "    .dataframe tbody tr th:only-of-type {\n",
              "        vertical-align: middle;\n",
              "    }\n",
              "\n",
              "    .dataframe tbody tr th {\n",
              "        vertical-align: top;\n",
              "    }\n",
              "\n",
              "    .dataframe thead th {\n",
              "        text-align: right;\n",
              "    }\n",
              "</style>\n",
              "<table border=\"1\" class=\"dataframe\">\n",
              "  <thead>\n",
              "    <tr style=\"text-align: right;\">\n",
              "      <th></th>\n",
              "      <th>Location</th>\n",
              "      <th>Borough</th>\n",
              "      <th>Postcode</th>\n",
              "    </tr>\n",
              "  </thead>\n",
              "  <tbody>\n",
              "    <tr>\n",
              "      <th>0</th>\n",
              "      <td>Abbey Wood</td>\n",
              "      <td>Bexley,  Greenwich</td>\n",
              "      <td>SE2</td>\n",
              "    </tr>\n",
              "    <tr>\n",
              "      <th>1</th>\n",
              "      <td>Acton</td>\n",
              "      <td>Ealing, Hammersmith and Fulham</td>\n",
              "      <td>W3</td>\n",
              "    </tr>\n",
              "    <tr>\n",
              "      <th>2</th>\n",
              "      <td>Acton</td>\n",
              "      <td>Ealing, Hammersmith and Fulham</td>\n",
              "      <td>W4</td>\n",
              "    </tr>\n",
              "    <tr>\n",
              "      <th>3</th>\n",
              "      <td>Angel</td>\n",
              "      <td>Islington</td>\n",
              "      <td>EC1</td>\n",
              "    </tr>\n",
              "    <tr>\n",
              "      <th>4</th>\n",
              "      <td>Angel</td>\n",
              "      <td>Islington</td>\n",
              "      <td>N1</td>\n",
              "    </tr>\n",
              "  </tbody>\n",
              "</table>\n",
              "</div>"
            ],
            "text/plain": [
              "     Location                         Borough Postcode\n",
              "0  Abbey Wood             Bexley,  Greenwich       SE2\n",
              "1       Acton  Ealing, Hammersmith and Fulham       W3\n",
              "2       Acton  Ealing, Hammersmith and Fulham       W4\n",
              "3       Angel                       Islington      EC1\n",
              "4       Angel                       Islington       N1"
            ]
          },
          "metadata": {
            "tags": []
          },
          "execution_count": 69
        }
      ]
    },
    {
      "cell_type": "code",
      "metadata": {
        "id": "YAvTMGa_F0Bs",
        "colab_type": "code",
        "colab": {}
      },
      "source": [
        "df_london.Postcode = df_london.Postcode.str.strip()\n"
      ],
      "execution_count": null,
      "outputs": []
    },
    {
      "cell_type": "code",
      "metadata": {
        "id": "0TYsllz9F0NP",
        "colab_type": "code",
        "colab": {
          "base_uri": "https://localhost:8080/",
          "height": 204
        },
        "outputId": "5a2dc69f-0629-484c-9873-47776946b8cf"
      },
      "source": [
        "df_london.head(5)\n"
      ],
      "execution_count": null,
      "outputs": [
        {
          "output_type": "execute_result",
          "data": {
            "text/html": [
              "<div>\n",
              "<style scoped>\n",
              "    .dataframe tbody tr th:only-of-type {\n",
              "        vertical-align: middle;\n",
              "    }\n",
              "\n",
              "    .dataframe tbody tr th {\n",
              "        vertical-align: top;\n",
              "    }\n",
              "\n",
              "    .dataframe thead th {\n",
              "        text-align: right;\n",
              "    }\n",
              "</style>\n",
              "<table border=\"1\" class=\"dataframe\">\n",
              "  <thead>\n",
              "    <tr style=\"text-align: right;\">\n",
              "      <th></th>\n",
              "      <th>Location</th>\n",
              "      <th>Borough</th>\n",
              "      <th>Postcode</th>\n",
              "    </tr>\n",
              "  </thead>\n",
              "  <tbody>\n",
              "    <tr>\n",
              "      <th>0</th>\n",
              "      <td>Abbey Wood</td>\n",
              "      <td>Bexley,  Greenwich</td>\n",
              "      <td>SE2</td>\n",
              "    </tr>\n",
              "    <tr>\n",
              "      <th>1</th>\n",
              "      <td>Acton</td>\n",
              "      <td>Ealing, Hammersmith and Fulham</td>\n",
              "      <td>W3</td>\n",
              "    </tr>\n",
              "    <tr>\n",
              "      <th>2</th>\n",
              "      <td>Acton</td>\n",
              "      <td>Ealing, Hammersmith and Fulham</td>\n",
              "      <td>W4</td>\n",
              "    </tr>\n",
              "    <tr>\n",
              "      <th>3</th>\n",
              "      <td>Angel</td>\n",
              "      <td>Islington</td>\n",
              "      <td>EC1</td>\n",
              "    </tr>\n",
              "    <tr>\n",
              "      <th>4</th>\n",
              "      <td>Angel</td>\n",
              "      <td>Islington</td>\n",
              "      <td>N1</td>\n",
              "    </tr>\n",
              "  </tbody>\n",
              "</table>\n",
              "</div>"
            ],
            "text/plain": [
              "     Location                         Borough Postcode\n",
              "0  Abbey Wood             Bexley,  Greenwich       SE2\n",
              "1       Acton  Ealing, Hammersmith and Fulham       W3\n",
              "2       Acton  Ealing, Hammersmith and Fulham       W4\n",
              "3       Angel                       Islington      EC1\n",
              "4       Angel                       Islington       N1"
            ]
          },
          "metadata": {
            "tags": []
          },
          "execution_count": 71
        }
      ]
    },
    {
      "cell_type": "code",
      "metadata": {
        "id": "s1ARkY-2F0b6",
        "colab_type": "code",
        "colab": {}
      },
      "source": [
        "df_se = df_london[df_london['Postcode'].str.startswith(('SE'))].reset_index(drop=True)\n"
      ],
      "execution_count": null,
      "outputs": []
    },
    {
      "cell_type": "code",
      "metadata": {
        "id": "_GgkCTHFF0kA",
        "colab_type": "code",
        "colab": {
          "base_uri": "https://localhost:8080/",
          "height": 359
        },
        "outputId": "51d93c61-5fc3-48f9-a10b-1b49700a91ee"
      },
      "source": [
        "df_se.head(10)\n"
      ],
      "execution_count": null,
      "outputs": [
        {
          "output_type": "execute_result",
          "data": {
            "text/html": [
              "<div>\n",
              "<style scoped>\n",
              "    .dataframe tbody tr th:only-of-type {\n",
              "        vertical-align: middle;\n",
              "    }\n",
              "\n",
              "    .dataframe tbody tr th {\n",
              "        vertical-align: top;\n",
              "    }\n",
              "\n",
              "    .dataframe thead th {\n",
              "        text-align: right;\n",
              "    }\n",
              "</style>\n",
              "<table border=\"1\" class=\"dataframe\">\n",
              "  <thead>\n",
              "    <tr style=\"text-align: right;\">\n",
              "      <th></th>\n",
              "      <th>Location</th>\n",
              "      <th>Borough</th>\n",
              "      <th>Postcode</th>\n",
              "    </tr>\n",
              "  </thead>\n",
              "  <tbody>\n",
              "    <tr>\n",
              "      <th>0</th>\n",
              "      <td>Abbey Wood</td>\n",
              "      <td>Bexley,  Greenwich</td>\n",
              "      <td>SE2</td>\n",
              "    </tr>\n",
              "    <tr>\n",
              "      <th>1</th>\n",
              "      <td>Crofton Park</td>\n",
              "      <td>Lewisham</td>\n",
              "      <td>SE4</td>\n",
              "    </tr>\n",
              "    <tr>\n",
              "      <th>2</th>\n",
              "      <td>Crossness</td>\n",
              "      <td>Bexley</td>\n",
              "      <td>SE2</td>\n",
              "    </tr>\n",
              "    <tr>\n",
              "      <th>3</th>\n",
              "      <td>Crystal Palace</td>\n",
              "      <td>Bromley</td>\n",
              "      <td>SE19</td>\n",
              "    </tr>\n",
              "    <tr>\n",
              "      <th>4</th>\n",
              "      <td>Crystal Palace</td>\n",
              "      <td>Bromley</td>\n",
              "      <td>SE20</td>\n",
              "    </tr>\n",
              "    <tr>\n",
              "      <th>5</th>\n",
              "      <td>Crystal Palace</td>\n",
              "      <td>Bromley</td>\n",
              "      <td>SE26</td>\n",
              "    </tr>\n",
              "    <tr>\n",
              "      <th>6</th>\n",
              "      <td>Denmark Hill</td>\n",
              "      <td>Southwark</td>\n",
              "      <td>SE5</td>\n",
              "    </tr>\n",
              "    <tr>\n",
              "      <th>7</th>\n",
              "      <td>Deptford</td>\n",
              "      <td>Lewisham</td>\n",
              "      <td>SE8</td>\n",
              "    </tr>\n",
              "    <tr>\n",
              "      <th>8</th>\n",
              "      <td>Dulwich</td>\n",
              "      <td>Southwark</td>\n",
              "      <td>SE21</td>\n",
              "    </tr>\n",
              "    <tr>\n",
              "      <th>9</th>\n",
              "      <td>East Dulwich</td>\n",
              "      <td>Southwark</td>\n",
              "      <td>SE22</td>\n",
              "    </tr>\n",
              "  </tbody>\n",
              "</table>\n",
              "</div>"
            ],
            "text/plain": [
              "         Location              Borough Postcode\n",
              "0      Abbey Wood  Bexley,  Greenwich       SE2\n",
              "1    Crofton Park             Lewisham      SE4\n",
              "2       Crossness               Bexley      SE2\n",
              "3  Crystal Palace              Bromley     SE19\n",
              "4  Crystal Palace              Bromley     SE20\n",
              "5  Crystal Palace              Bromley     SE26\n",
              "6    Denmark Hill            Southwark      SE5\n",
              "7        Deptford             Lewisham      SE8\n",
              "8         Dulwich            Southwark     SE21\n",
              "9    East Dulwich            Southwark     SE22"
            ]
          },
          "metadata": {
            "tags": []
          },
          "execution_count": 73
        }
      ]
    },
    {
      "cell_type": "code",
      "metadata": {
        "id": "Q5Y1UdEHF0oe",
        "colab_type": "code",
        "colab": {}
      },
      "source": [
        "demograph_link = 'https://en.wikipedia.org/wiki/Demography_of_London'\n",
        "headers = {'User-Agent': 'Mozilla/5.0 (Windows NT 10.0; Win64; x64; rv:64.0) Gecko/20100101 Firefox/64.0'}\n",
        "demograph_page = requests.get(demograph_link, headers = headers)\n",
        "soup1 = BeautifulSoup(demograph_page.content, 'html.parser')\n",
        "table1 = soup1.find('table', {'class':'wikitable sortable'}).tbody\n",
        "rows1 = table1.find_all('tr')\n",
        "columns1 = [i.text.replace('\\n', '')\n",
        "           for i in rows1[0].find_all('th')]"
      ],
      "execution_count": null,
      "outputs": []
    },
    {
      "cell_type": "code",
      "metadata": {
        "id": "WhhR3u2oF0iB",
        "colab_type": "code",
        "colab": {
          "base_uri": "https://localhost:8080/",
          "height": 34
        },
        "outputId": "a9be587c-9857-431f-df69-5a0f76385492"
      },
      "source": [
        "columns1\n"
      ],
      "execution_count": null,
      "outputs": [
        {
          "output_type": "execute_result",
          "data": {
            "text/plain": [
              "['Local authority', 'White', 'Mixed', 'Asian', 'Black', 'Other']"
            ]
          },
          "metadata": {
            "tags": []
          },
          "execution_count": 75
        }
      ]
    },
    {
      "cell_type": "code",
      "metadata": {
        "id": "FwSMv4VQF0ga",
        "colab_type": "code",
        "colab": {}
      },
      "source": [
        "demo_london = pd.DataFrame(columns = columns1)\n"
      ],
      "execution_count": null,
      "outputs": []
    },
    {
      "cell_type": "code",
      "metadata": {
        "id": "a0ZSXMA5F0ZV",
        "colab_type": "code",
        "colab": {
          "base_uri": "https://localhost:8080/",
          "height": 49
        },
        "outputId": "bfdb08a5-dba4-46a3-ab44-f69d39bd9f3f"
      },
      "source": [
        "demo_london.head(5)\n"
      ],
      "execution_count": null,
      "outputs": [
        {
          "output_type": "execute_result",
          "data": {
            "text/html": [
              "<div>\n",
              "<style scoped>\n",
              "    .dataframe tbody tr th:only-of-type {\n",
              "        vertical-align: middle;\n",
              "    }\n",
              "\n",
              "    .dataframe tbody tr th {\n",
              "        vertical-align: top;\n",
              "    }\n",
              "\n",
              "    .dataframe thead th {\n",
              "        text-align: right;\n",
              "    }\n",
              "</style>\n",
              "<table border=\"1\" class=\"dataframe\">\n",
              "  <thead>\n",
              "    <tr style=\"text-align: right;\">\n",
              "      <th></th>\n",
              "      <th>Local authority</th>\n",
              "      <th>White</th>\n",
              "      <th>Mixed</th>\n",
              "      <th>Asian</th>\n",
              "      <th>Black</th>\n",
              "      <th>Other</th>\n",
              "    </tr>\n",
              "  </thead>\n",
              "  <tbody>\n",
              "  </tbody>\n",
              "</table>\n",
              "</div>"
            ],
            "text/plain": [
              "Empty DataFrame\n",
              "Columns: [Local authority, White, Mixed, Asian, Black, Other]\n",
              "Index: []"
            ]
          },
          "metadata": {
            "tags": []
          },
          "execution_count": 77
        }
      ]
    },
    {
      "cell_type": "code",
      "metadata": {
        "id": "G6UdhXb3F0WN",
        "colab_type": "code",
        "colab": {}
      },
      "source": [
        "for j in range(1, len(rows1)):\n",
        "    tds1 = rows1[j].find_all('td')\n",
        "    if len(tds1) == 7:\n",
        "        values1 = [tds1[0].text, tds1[1].text, tds1[2].text.replace('\\n', ''.replace('\\xa0','')), tds1[3].text, tds1[4].text.replace('\\n', ''.replace('\\xa0','')), tds1[5].text.replace('\\n', ''.replace('\\xa0',''))]\n",
        "    else:\n",
        "        values1 = [td1.text.replace('\\n', '').replace('\\xa0','') for td1 in tds1]\n",
        "        \n",
        "        demo_london = demo_london.append(pd.Series(values1, index = columns1), ignore_index = True)"
      ],
      "execution_count": null,
      "outputs": []
    },
    {
      "cell_type": "code",
      "metadata": {
        "id": "HdYx9REUF0Ux",
        "colab_type": "code",
        "colab": {}
      },
      "source": [
        "demo_london['Black'] = demo_london['Black'].astype('float')\n"
      ],
      "execution_count": null,
      "outputs": []
    },
    {
      "cell_type": "code",
      "metadata": {
        "id": "ovbfPiGPF0Sy",
        "colab_type": "code",
        "colab": {}
      },
      "source": [
        "demo_london_sorted = demo_london.sort_values(by='Black', ascending = False)\n"
      ],
      "execution_count": null,
      "outputs": []
    },
    {
      "cell_type": "code",
      "metadata": {
        "id": "XU4dXElJF0KG",
        "colab_type": "code",
        "colab": {
          "base_uri": "https://localhost:8080/",
          "height": 204
        },
        "outputId": "13b832f5-e856-4904-8d8f-5cdc7a8ae8d1"
      },
      "source": [
        "demo_london_sorted.head(5)\n"
      ],
      "execution_count": null,
      "outputs": [
        {
          "output_type": "execute_result",
          "data": {
            "text/html": [
              "<div>\n",
              "<style scoped>\n",
              "    .dataframe tbody tr th:only-of-type {\n",
              "        vertical-align: middle;\n",
              "    }\n",
              "\n",
              "    .dataframe tbody tr th {\n",
              "        vertical-align: top;\n",
              "    }\n",
              "\n",
              "    .dataframe thead th {\n",
              "        text-align: right;\n",
              "    }\n",
              "</style>\n",
              "<table border=\"1\" class=\"dataframe\">\n",
              "  <thead>\n",
              "    <tr style=\"text-align: right;\">\n",
              "      <th></th>\n",
              "      <th>Local authority</th>\n",
              "      <th>White</th>\n",
              "      <th>Mixed</th>\n",
              "      <th>Asian</th>\n",
              "      <th>Black</th>\n",
              "      <th>Other</th>\n",
              "    </tr>\n",
              "  </thead>\n",
              "  <tbody>\n",
              "    <tr>\n",
              "      <th>22</th>\n",
              "      <td>Lewisham</td>\n",
              "      <td>53.5</td>\n",
              "      <td>7.4</td>\n",
              "      <td>9.3</td>\n",
              "      <td>27.2</td>\n",
              "      <td>2.6</td>\n",
              "    </tr>\n",
              "    <tr>\n",
              "      <th>27</th>\n",
              "      <td>Southwark</td>\n",
              "      <td>54.3</td>\n",
              "      <td>6.2</td>\n",
              "      <td>9.4</td>\n",
              "      <td>26.9</td>\n",
              "      <td>3.3</td>\n",
              "    </tr>\n",
              "    <tr>\n",
              "      <th>21</th>\n",
              "      <td>Lambeth</td>\n",
              "      <td>57.1</td>\n",
              "      <td>7.6</td>\n",
              "      <td>6.9</td>\n",
              "      <td>25.9</td>\n",
              "      <td>2.4</td>\n",
              "    </tr>\n",
              "    <tr>\n",
              "      <th>11</th>\n",
              "      <td>Hackney</td>\n",
              "      <td>54.7</td>\n",
              "      <td>6.4</td>\n",
              "      <td>10.5</td>\n",
              "      <td>23.1</td>\n",
              "      <td>5.3</td>\n",
              "    </tr>\n",
              "    <tr>\n",
              "      <th>7</th>\n",
              "      <td>Croydon</td>\n",
              "      <td>55.1</td>\n",
              "      <td>6.6</td>\n",
              "      <td>16.4</td>\n",
              "      <td>20.2</td>\n",
              "      <td>1.8</td>\n",
              "    </tr>\n",
              "  </tbody>\n",
              "</table>\n",
              "</div>"
            ],
            "text/plain": [
              "   Local authority White Mixed Asian  Black Other\n",
              "22        Lewisham  53.5   7.4   9.3   27.2   2.6\n",
              "27       Southwark  54.3   6.2   9.4   26.9   3.3\n",
              "21         Lambeth  57.1   7.6   6.9   25.9   2.4\n",
              "11         Hackney  54.7   6.4  10.5   23.1   5.3\n",
              "7          Croydon  55.1   6.6  16.4   20.2   1.8"
            ]
          },
          "metadata": {
            "tags": []
          },
          "execution_count": 81
        }
      ]
    },
    {
      "cell_type": "code",
      "metadata": {
        "id": "NrBXyu1MF0Ht",
        "colab_type": "code",
        "colab": {
          "base_uri": "https://localhost:8080/",
          "height": 1000
        },
        "outputId": "263d8797-fa58-4581-c1ea-c9e726f206c9"
      },
      "source": [
        "df_se\n"
      ],
      "execution_count": null,
      "outputs": [
        {
          "output_type": "execute_result",
          "data": {
            "text/html": [
              "<div>\n",
              "<style scoped>\n",
              "    .dataframe tbody tr th:only-of-type {\n",
              "        vertical-align: middle;\n",
              "    }\n",
              "\n",
              "    .dataframe tbody tr th {\n",
              "        vertical-align: top;\n",
              "    }\n",
              "\n",
              "    .dataframe thead th {\n",
              "        text-align: right;\n",
              "    }\n",
              "</style>\n",
              "<table border=\"1\" class=\"dataframe\">\n",
              "  <thead>\n",
              "    <tr style=\"text-align: right;\">\n",
              "      <th></th>\n",
              "      <th>Location</th>\n",
              "      <th>Borough</th>\n",
              "      <th>Postcode</th>\n",
              "    </tr>\n",
              "  </thead>\n",
              "  <tbody>\n",
              "    <tr>\n",
              "      <th>0</th>\n",
              "      <td>Abbey Wood</td>\n",
              "      <td>Bexley,  Greenwich</td>\n",
              "      <td>SE2</td>\n",
              "    </tr>\n",
              "    <tr>\n",
              "      <th>1</th>\n",
              "      <td>Crofton Park</td>\n",
              "      <td>Lewisham</td>\n",
              "      <td>SE4</td>\n",
              "    </tr>\n",
              "    <tr>\n",
              "      <th>2</th>\n",
              "      <td>Crossness</td>\n",
              "      <td>Bexley</td>\n",
              "      <td>SE2</td>\n",
              "    </tr>\n",
              "    <tr>\n",
              "      <th>3</th>\n",
              "      <td>Crystal Palace</td>\n",
              "      <td>Bromley</td>\n",
              "      <td>SE19</td>\n",
              "    </tr>\n",
              "    <tr>\n",
              "      <th>4</th>\n",
              "      <td>Crystal Palace</td>\n",
              "      <td>Bromley</td>\n",
              "      <td>SE20</td>\n",
              "    </tr>\n",
              "    <tr>\n",
              "      <th>5</th>\n",
              "      <td>Crystal Palace</td>\n",
              "      <td>Bromley</td>\n",
              "      <td>SE26</td>\n",
              "    </tr>\n",
              "    <tr>\n",
              "      <th>6</th>\n",
              "      <td>Denmark Hill</td>\n",
              "      <td>Southwark</td>\n",
              "      <td>SE5</td>\n",
              "    </tr>\n",
              "    <tr>\n",
              "      <th>7</th>\n",
              "      <td>Deptford</td>\n",
              "      <td>Lewisham</td>\n",
              "      <td>SE8</td>\n",
              "    </tr>\n",
              "    <tr>\n",
              "      <th>8</th>\n",
              "      <td>Dulwich</td>\n",
              "      <td>Southwark</td>\n",
              "      <td>SE21</td>\n",
              "    </tr>\n",
              "    <tr>\n",
              "      <th>9</th>\n",
              "      <td>East Dulwich</td>\n",
              "      <td>Southwark</td>\n",
              "      <td>SE22</td>\n",
              "    </tr>\n",
              "    <tr>\n",
              "      <th>10</th>\n",
              "      <td>Elephant and Castle</td>\n",
              "      <td>Southwark</td>\n",
              "      <td>SE1</td>\n",
              "    </tr>\n",
              "    <tr>\n",
              "      <th>11</th>\n",
              "      <td>Elephant and Castle</td>\n",
              "      <td>Southwark</td>\n",
              "      <td>SE11</td>\n",
              "    </tr>\n",
              "    <tr>\n",
              "      <th>12</th>\n",
              "      <td>Elephant and Castle</td>\n",
              "      <td>Southwark</td>\n",
              "      <td>SE17</td>\n",
              "    </tr>\n",
              "    <tr>\n",
              "      <th>13</th>\n",
              "      <td>Eltham</td>\n",
              "      <td>Greenwich</td>\n",
              "      <td>SE9</td>\n",
              "    </tr>\n",
              "    <tr>\n",
              "      <th>14</th>\n",
              "      <td>Falconwood</td>\n",
              "      <td>Bexley, Greenwich</td>\n",
              "      <td>SE9</td>\n",
              "    </tr>\n",
              "    <tr>\n",
              "      <th>15</th>\n",
              "      <td>Bankside</td>\n",
              "      <td>Southwark</td>\n",
              "      <td>SE1</td>\n",
              "    </tr>\n",
              "    <tr>\n",
              "      <th>16</th>\n",
              "      <td>Forest Hill</td>\n",
              "      <td>Lewisham</td>\n",
              "      <td>SE23</td>\n",
              "    </tr>\n",
              "    <tr>\n",
              "      <th>17</th>\n",
              "      <td>Gipsy Hill</td>\n",
              "      <td>Lambeth</td>\n",
              "      <td>SE19</td>\n",
              "    </tr>\n",
              "    <tr>\n",
              "      <th>18</th>\n",
              "      <td>Gipsy Hill</td>\n",
              "      <td>Lambeth</td>\n",
              "      <td>SE27</td>\n",
              "    </tr>\n",
              "    <tr>\n",
              "      <th>19</th>\n",
              "      <td>Greenwich</td>\n",
              "      <td>Greenwich</td>\n",
              "      <td>SE10</td>\n",
              "    </tr>\n",
              "    <tr>\n",
              "      <th>20</th>\n",
              "      <td>Grove Park</td>\n",
              "      <td>Lewisham</td>\n",
              "      <td>SE12</td>\n",
              "    </tr>\n",
              "    <tr>\n",
              "      <th>21</th>\n",
              "      <td>Herne Hill</td>\n",
              "      <td>Lambeth</td>\n",
              "      <td>SE24</td>\n",
              "    </tr>\n",
              "    <tr>\n",
              "      <th>22</th>\n",
              "      <td>Hither Green</td>\n",
              "      <td>Lewisham</td>\n",
              "      <td>SE13</td>\n",
              "    </tr>\n",
              "    <tr>\n",
              "      <th>23</th>\n",
              "      <td>Honor Oak</td>\n",
              "      <td>Lewisham</td>\n",
              "      <td>SE23</td>\n",
              "    </tr>\n",
              "    <tr>\n",
              "      <th>24</th>\n",
              "      <td>Horn Park</td>\n",
              "      <td>Greenwich, Lewisham</td>\n",
              "      <td>SE12</td>\n",
              "    </tr>\n",
              "    <tr>\n",
              "      <th>25</th>\n",
              "      <td>Kennington</td>\n",
              "      <td>Lambeth, Southwark</td>\n",
              "      <td>SE11</td>\n",
              "    </tr>\n",
              "    <tr>\n",
              "      <th>26</th>\n",
              "      <td>Kidbrooke</td>\n",
              "      <td>Greenwich</td>\n",
              "      <td>SE3</td>\n",
              "    </tr>\n",
              "    <tr>\n",
              "      <th>27</th>\n",
              "      <td>Ladywell</td>\n",
              "      <td>Lewisham</td>\n",
              "      <td>SE4</td>\n",
              "    </tr>\n",
              "    <tr>\n",
              "      <th>28</th>\n",
              "      <td>Ladywell</td>\n",
              "      <td>Lewisham</td>\n",
              "      <td>SE13</td>\n",
              "    </tr>\n",
              "    <tr>\n",
              "      <th>29</th>\n",
              "      <td>Lambeth</td>\n",
              "      <td>Lambeth</td>\n",
              "      <td>SE1</td>\n",
              "    </tr>\n",
              "    <tr>\n",
              "      <th>30</th>\n",
              "      <td>Lee</td>\n",
              "      <td>Lewisham</td>\n",
              "      <td>SE12</td>\n",
              "    </tr>\n",
              "    <tr>\n",
              "      <th>31</th>\n",
              "      <td>Lewisham</td>\n",
              "      <td>Lewisham</td>\n",
              "      <td>SE13</td>\n",
              "    </tr>\n",
              "    <tr>\n",
              "      <th>32</th>\n",
              "      <td>Beckenham</td>\n",
              "      <td>Bromley</td>\n",
              "      <td>SE20</td>\n",
              "    </tr>\n",
              "    <tr>\n",
              "      <th>33</th>\n",
              "      <td>Longlands</td>\n",
              "      <td>Bexley</td>\n",
              "      <td>SE9</td>\n",
              "    </tr>\n",
              "    <tr>\n",
              "      <th>34</th>\n",
              "      <td>Maze Hill</td>\n",
              "      <td>Greenwich</td>\n",
              "      <td>SE10</td>\n",
              "    </tr>\n",
              "    <tr>\n",
              "      <th>35</th>\n",
              "      <td>Middle Park</td>\n",
              "      <td>Greenwich</td>\n",
              "      <td>SE9</td>\n",
              "    </tr>\n",
              "    <tr>\n",
              "      <th>36</th>\n",
              "      <td>Mottingham</td>\n",
              "      <td>Bromley</td>\n",
              "      <td>SE9</td>\n",
              "    </tr>\n",
              "    <tr>\n",
              "      <th>37</th>\n",
              "      <td>New Cross</td>\n",
              "      <td>Lewisham</td>\n",
              "      <td>SE14</td>\n",
              "    </tr>\n",
              "    <tr>\n",
              "      <th>38</th>\n",
              "      <td>New Eltham</td>\n",
              "      <td>Greenwich</td>\n",
              "      <td>SE9</td>\n",
              "    </tr>\n",
              "    <tr>\n",
              "      <th>39</th>\n",
              "      <td>Newington</td>\n",
              "      <td>Southwark</td>\n",
              "      <td>SE1</td>\n",
              "    </tr>\n",
              "    <tr>\n",
              "      <th>40</th>\n",
              "      <td>Newington</td>\n",
              "      <td>Southwark</td>\n",
              "      <td>SE17</td>\n",
              "    </tr>\n",
              "    <tr>\n",
              "      <th>41</th>\n",
              "      <td>Nunhead</td>\n",
              "      <td>Southwark</td>\n",
              "      <td>SE15</td>\n",
              "    </tr>\n",
              "    <tr>\n",
              "      <th>42</th>\n",
              "      <td>Oval</td>\n",
              "      <td>Lambeth</td>\n",
              "      <td>SE11</td>\n",
              "    </tr>\n",
              "    <tr>\n",
              "      <th>43</th>\n",
              "      <td>Bellingham</td>\n",
              "      <td>Lewisham</td>\n",
              "      <td>SE6</td>\n",
              "    </tr>\n",
              "    <tr>\n",
              "      <th>44</th>\n",
              "      <td>Peckham</td>\n",
              "      <td>Southwark</td>\n",
              "      <td>SE15</td>\n",
              "    </tr>\n",
              "    <tr>\n",
              "      <th>45</th>\n",
              "      <td>Penge</td>\n",
              "      <td>Bromley</td>\n",
              "      <td>SE20</td>\n",
              "    </tr>\n",
              "    <tr>\n",
              "      <th>46</th>\n",
              "      <td>Plumstead</td>\n",
              "      <td>Greenwich</td>\n",
              "      <td>SE18</td>\n",
              "    </tr>\n",
              "    <tr>\n",
              "      <th>47</th>\n",
              "      <td>Rotherhithe</td>\n",
              "      <td>Southwark</td>\n",
              "      <td>SE16</td>\n",
              "    </tr>\n",
              "    <tr>\n",
              "      <th>48</th>\n",
              "      <td>Selhurst</td>\n",
              "      <td>Croydon</td>\n",
              "      <td>SE25</td>\n",
              "    </tr>\n",
              "    <tr>\n",
              "      <th>49</th>\n",
              "      <td>Shooter's Hill</td>\n",
              "      <td>Greenwich</td>\n",
              "      <td>SE18</td>\n",
              "    </tr>\n",
              "    <tr>\n",
              "      <th>50</th>\n",
              "      <td>Bermondsey</td>\n",
              "      <td>Southwark</td>\n",
              "      <td>SE1</td>\n",
              "    </tr>\n",
              "    <tr>\n",
              "      <th>51</th>\n",
              "      <td>South Norwood</td>\n",
              "      <td>Croydon</td>\n",
              "      <td>SE25</td>\n",
              "    </tr>\n",
              "    <tr>\n",
              "      <th>52</th>\n",
              "      <td>Southend</td>\n",
              "      <td>Lewisham</td>\n",
              "      <td>SE6</td>\n",
              "    </tr>\n",
              "    <tr>\n",
              "      <th>53</th>\n",
              "      <td>St Johns</td>\n",
              "      <td>Lewisham</td>\n",
              "      <td>SE4</td>\n",
              "    </tr>\n",
              "    <tr>\n",
              "      <th>54</th>\n",
              "      <td>Bexleyheath (also Bexley New Town)</td>\n",
              "      <td>Bexley</td>\n",
              "      <td>SE2</td>\n",
              "    </tr>\n",
              "    <tr>\n",
              "      <th>55</th>\n",
              "      <td>Surrey Quays</td>\n",
              "      <td>Southwark</td>\n",
              "      <td>SE16</td>\n",
              "    </tr>\n",
              "    <tr>\n",
              "      <th>56</th>\n",
              "      <td>Sydenham (also Lower Sydenham, Upper Sydenham)</td>\n",
              "      <td>Lewisham, Bromley</td>\n",
              "      <td>SE26</td>\n",
              "    </tr>\n",
              "    <tr>\n",
              "      <th>57</th>\n",
              "      <td>Sydenham Hill</td>\n",
              "      <td>Lewisham, Southwark</td>\n",
              "      <td>SE21</td>\n",
              "    </tr>\n",
              "    <tr>\n",
              "      <th>58</th>\n",
              "      <td>Sydenham Hill</td>\n",
              "      <td>Lewisham, Southwark</td>\n",
              "      <td>SE26</td>\n",
              "    </tr>\n",
              "    <tr>\n",
              "      <th>59</th>\n",
              "      <td>Thamesmead</td>\n",
              "      <td>Bexley, Greenwich</td>\n",
              "      <td>SE28</td>\n",
              "    </tr>\n",
              "    <tr>\n",
              "      <th>60</th>\n",
              "      <td>Thamesmead</td>\n",
              "      <td>Bexley, Greenwich</td>\n",
              "      <td>SE2</td>\n",
              "    </tr>\n",
              "    <tr>\n",
              "      <th>61</th>\n",
              "      <td>Tulse Hill</td>\n",
              "      <td>Lambeth</td>\n",
              "      <td>SE24</td>\n",
              "    </tr>\n",
              "    <tr>\n",
              "      <th>62</th>\n",
              "      <td>Tulse Hill</td>\n",
              "      <td>Lambeth</td>\n",
              "      <td>SE27</td>\n",
              "    </tr>\n",
              "    <tr>\n",
              "      <th>63</th>\n",
              "      <td>Upper Norwood</td>\n",
              "      <td>Croydon</td>\n",
              "      <td>SE19</td>\n",
              "    </tr>\n",
              "    <tr>\n",
              "      <th>64</th>\n",
              "      <td>Walworth</td>\n",
              "      <td>Southwark</td>\n",
              "      <td>SE17</td>\n",
              "    </tr>\n",
              "    <tr>\n",
              "      <th>65</th>\n",
              "      <td>Well Hall</td>\n",
              "      <td>Greenwich</td>\n",
              "      <td>SE9</td>\n",
              "    </tr>\n",
              "    <tr>\n",
              "      <th>66</th>\n",
              "      <td>Blackheath</td>\n",
              "      <td>Lewisham</td>\n",
              "      <td>SE3</td>\n",
              "    </tr>\n",
              "    <tr>\n",
              "      <th>67</th>\n",
              "      <td>West Heath</td>\n",
              "      <td>Bexley</td>\n",
              "      <td>SE2</td>\n",
              "    </tr>\n",
              "    <tr>\n",
              "      <th>68</th>\n",
              "      <td>Blackheath Royal Standard</td>\n",
              "      <td>Greenwich</td>\n",
              "      <td>SE3</td>\n",
              "    </tr>\n",
              "    <tr>\n",
              "      <th>69</th>\n",
              "      <td>Blackheath Royal Standard</td>\n",
              "      <td>Greenwich</td>\n",
              "      <td>SE12</td>\n",
              "    </tr>\n",
              "    <tr>\n",
              "      <th>70</th>\n",
              "      <td>West Norwood</td>\n",
              "      <td>Lambeth</td>\n",
              "      <td>SE27</td>\n",
              "    </tr>\n",
              "    <tr>\n",
              "      <th>71</th>\n",
              "      <td>Westcombe Park</td>\n",
              "      <td>Greenwich</td>\n",
              "      <td>SE3</td>\n",
              "    </tr>\n",
              "    <tr>\n",
              "      <th>72</th>\n",
              "      <td>Woolwich</td>\n",
              "      <td>Greenwich</td>\n",
              "      <td>SE18</td>\n",
              "    </tr>\n",
              "    <tr>\n",
              "      <th>73</th>\n",
              "      <td>Brixton</td>\n",
              "      <td>Lambeth</td>\n",
              "      <td>SE5</td>\n",
              "    </tr>\n",
              "    <tr>\n",
              "      <th>74</th>\n",
              "      <td>Brockley</td>\n",
              "      <td>Lewisham</td>\n",
              "      <td>SE4</td>\n",
              "    </tr>\n",
              "    <tr>\n",
              "      <th>75</th>\n",
              "      <td>Camberwell</td>\n",
              "      <td>Southwark</td>\n",
              "      <td>SE5</td>\n",
              "    </tr>\n",
              "    <tr>\n",
              "      <th>76</th>\n",
              "      <td>Catford</td>\n",
              "      <td>Lewisham</td>\n",
              "      <td>SE6</td>\n",
              "    </tr>\n",
              "    <tr>\n",
              "      <th>77</th>\n",
              "      <td>Charlton</td>\n",
              "      <td>Greenwich</td>\n",
              "      <td>SE7</td>\n",
              "    </tr>\n",
              "    <tr>\n",
              "      <th>78</th>\n",
              "      <td>Anerley</td>\n",
              "      <td>Bromley</td>\n",
              "      <td>SE20</td>\n",
              "    </tr>\n",
              "    <tr>\n",
              "      <th>79</th>\n",
              "      <td>Chinbrook</td>\n",
              "      <td>Lewisham</td>\n",
              "      <td>SE12</td>\n",
              "    </tr>\n",
              "  </tbody>\n",
              "</table>\n",
              "</div>"
            ],
            "text/plain": [
              "                                          Location              Borough  \\\n",
              "0                                       Abbey Wood  Bexley,  Greenwich    \n",
              "1                                     Crofton Park             Lewisham   \n",
              "2                                        Crossness               Bexley   \n",
              "3                                   Crystal Palace              Bromley   \n",
              "4                                   Crystal Palace              Bromley   \n",
              "5                                   Crystal Palace              Bromley   \n",
              "6                                     Denmark Hill            Southwark   \n",
              "7                                         Deptford             Lewisham   \n",
              "8                                          Dulwich            Southwark   \n",
              "9                                     East Dulwich            Southwark   \n",
              "10                             Elephant and Castle            Southwark   \n",
              "11                             Elephant and Castle            Southwark   \n",
              "12                             Elephant and Castle            Southwark   \n",
              "13                                          Eltham            Greenwich   \n",
              "14                                      Falconwood    Bexley, Greenwich   \n",
              "15                                        Bankside            Southwark   \n",
              "16                                     Forest Hill             Lewisham   \n",
              "17                                      Gipsy Hill              Lambeth   \n",
              "18                                      Gipsy Hill              Lambeth   \n",
              "19                                       Greenwich            Greenwich   \n",
              "20                                      Grove Park             Lewisham   \n",
              "21                                      Herne Hill              Lambeth   \n",
              "22                                    Hither Green             Lewisham   \n",
              "23                                       Honor Oak             Lewisham   \n",
              "24                                       Horn Park  Greenwich, Lewisham   \n",
              "25                                      Kennington   Lambeth, Southwark   \n",
              "26                                       Kidbrooke            Greenwich   \n",
              "27                                        Ladywell             Lewisham   \n",
              "28                                        Ladywell             Lewisham   \n",
              "29                                         Lambeth              Lambeth   \n",
              "30                                             Lee             Lewisham   \n",
              "31                                        Lewisham             Lewisham   \n",
              "32                                       Beckenham              Bromley   \n",
              "33                                       Longlands               Bexley   \n",
              "34                                       Maze Hill            Greenwich   \n",
              "35                                     Middle Park            Greenwich   \n",
              "36                                      Mottingham              Bromley   \n",
              "37                                       New Cross             Lewisham   \n",
              "38                                      New Eltham            Greenwich   \n",
              "39                                       Newington            Southwark   \n",
              "40                                       Newington            Southwark   \n",
              "41                                         Nunhead            Southwark   \n",
              "42                                            Oval              Lambeth   \n",
              "43                                      Bellingham             Lewisham   \n",
              "44                                         Peckham            Southwark   \n",
              "45                                           Penge              Bromley   \n",
              "46                                       Plumstead            Greenwich   \n",
              "47                                     Rotherhithe            Southwark   \n",
              "48                                        Selhurst              Croydon   \n",
              "49                                  Shooter's Hill            Greenwich   \n",
              "50                                      Bermondsey            Southwark   \n",
              "51                                   South Norwood              Croydon   \n",
              "52                                        Southend             Lewisham   \n",
              "53                                        St Johns             Lewisham   \n",
              "54              Bexleyheath (also Bexley New Town)               Bexley   \n",
              "55                                    Surrey Quays            Southwark   \n",
              "56  Sydenham (also Lower Sydenham, Upper Sydenham)    Lewisham, Bromley   \n",
              "57                                   Sydenham Hill  Lewisham, Southwark   \n",
              "58                                   Sydenham Hill  Lewisham, Southwark   \n",
              "59                                      Thamesmead    Bexley, Greenwich   \n",
              "60                                      Thamesmead    Bexley, Greenwich   \n",
              "61                                      Tulse Hill              Lambeth   \n",
              "62                                      Tulse Hill              Lambeth   \n",
              "63                                   Upper Norwood              Croydon   \n",
              "64                                        Walworth            Southwark   \n",
              "65                                       Well Hall            Greenwich   \n",
              "66                                      Blackheath             Lewisham   \n",
              "67                                      West Heath               Bexley   \n",
              "68                       Blackheath Royal Standard            Greenwich   \n",
              "69                       Blackheath Royal Standard            Greenwich   \n",
              "70                                    West Norwood              Lambeth   \n",
              "71                                  Westcombe Park            Greenwich   \n",
              "72                                        Woolwich            Greenwich   \n",
              "73                                         Brixton              Lambeth   \n",
              "74                                        Brockley             Lewisham   \n",
              "75                                      Camberwell            Southwark   \n",
              "76                                         Catford             Lewisham   \n",
              "77                                        Charlton            Greenwich   \n",
              "78                                         Anerley              Bromley   \n",
              "79                                       Chinbrook             Lewisham   \n",
              "\n",
              "   Postcode  \n",
              "0       SE2  \n",
              "1       SE4  \n",
              "2       SE2  \n",
              "3      SE19  \n",
              "4      SE20  \n",
              "5      SE26  \n",
              "6       SE5  \n",
              "7       SE8  \n",
              "8      SE21  \n",
              "9      SE22  \n",
              "10      SE1  \n",
              "11     SE11  \n",
              "12     SE17  \n",
              "13      SE9  \n",
              "14      SE9  \n",
              "15      SE1  \n",
              "16     SE23  \n",
              "17     SE19  \n",
              "18     SE27  \n",
              "19     SE10  \n",
              "20     SE12  \n",
              "21     SE24  \n",
              "22     SE13  \n",
              "23     SE23  \n",
              "24     SE12  \n",
              "25     SE11  \n",
              "26      SE3  \n",
              "27      SE4  \n",
              "28     SE13  \n",
              "29      SE1  \n",
              "30     SE12  \n",
              "31     SE13  \n",
              "32     SE20  \n",
              "33      SE9  \n",
              "34     SE10  \n",
              "35      SE9  \n",
              "36      SE9  \n",
              "37     SE14  \n",
              "38      SE9  \n",
              "39      SE1  \n",
              "40     SE17  \n",
              "41     SE15  \n",
              "42     SE11  \n",
              "43      SE6  \n",
              "44     SE15  \n",
              "45     SE20  \n",
              "46     SE18  \n",
              "47     SE16  \n",
              "48     SE25  \n",
              "49     SE18  \n",
              "50      SE1  \n",
              "51     SE25  \n",
              "52      SE6  \n",
              "53      SE4  \n",
              "54      SE2  \n",
              "55     SE16  \n",
              "56     SE26  \n",
              "57     SE21  \n",
              "58     SE26  \n",
              "59     SE28  \n",
              "60      SE2  \n",
              "61     SE24  \n",
              "62     SE27  \n",
              "63     SE19  \n",
              "64     SE17  \n",
              "65      SE9  \n",
              "66      SE3  \n",
              "67      SE2  \n",
              "68      SE3  \n",
              "69     SE12  \n",
              "70     SE27  \n",
              "71      SE3  \n",
              "72     SE18  \n",
              "73      SE5  \n",
              "74      SE4  \n",
              "75      SE5  \n",
              "76      SE6  \n",
              "77      SE7  \n",
              "78     SE20  \n",
              "79     SE12  "
            ]
          },
          "metadata": {
            "tags": []
          },
          "execution_count": 82
        }
      ]
    },
    {
      "cell_type": "code",
      "metadata": {
        "id": "Cs2wyuCzF0F2",
        "colab_type": "code",
        "colab": {}
      },
      "source": [
        "df_se_top = df_se[df_se['Borough'].isin(['Lewisham', 'Southwark', 'Lambeth', 'Hackney', 'Croydon'])].reset_index(drop=True)\n"
      ],
      "execution_count": null,
      "outputs": []
    },
    {
      "cell_type": "code",
      "metadata": {
        "id": "gxWKFfhxFz_c",
        "colab_type": "code",
        "colab": {
          "base_uri": "https://localhost:8080/",
          "height": 204
        },
        "outputId": "9951178f-510e-4862-ca28-410d722386de"
      },
      "source": [
        "df_se_top.head(5)\n"
      ],
      "execution_count": null,
      "outputs": [
        {
          "output_type": "execute_result",
          "data": {
            "text/html": [
              "<div>\n",
              "<style scoped>\n",
              "    .dataframe tbody tr th:only-of-type {\n",
              "        vertical-align: middle;\n",
              "    }\n",
              "\n",
              "    .dataframe tbody tr th {\n",
              "        vertical-align: top;\n",
              "    }\n",
              "\n",
              "    .dataframe thead th {\n",
              "        text-align: right;\n",
              "    }\n",
              "</style>\n",
              "<table border=\"1\" class=\"dataframe\">\n",
              "  <thead>\n",
              "    <tr style=\"text-align: right;\">\n",
              "      <th></th>\n",
              "      <th>Location</th>\n",
              "      <th>Borough</th>\n",
              "      <th>Postcode</th>\n",
              "    </tr>\n",
              "  </thead>\n",
              "  <tbody>\n",
              "    <tr>\n",
              "      <th>0</th>\n",
              "      <td>Crofton Park</td>\n",
              "      <td>Lewisham</td>\n",
              "      <td>SE4</td>\n",
              "    </tr>\n",
              "    <tr>\n",
              "      <th>1</th>\n",
              "      <td>Denmark Hill</td>\n",
              "      <td>Southwark</td>\n",
              "      <td>SE5</td>\n",
              "    </tr>\n",
              "    <tr>\n",
              "      <th>2</th>\n",
              "      <td>Deptford</td>\n",
              "      <td>Lewisham</td>\n",
              "      <td>SE8</td>\n",
              "    </tr>\n",
              "    <tr>\n",
              "      <th>3</th>\n",
              "      <td>Dulwich</td>\n",
              "      <td>Southwark</td>\n",
              "      <td>SE21</td>\n",
              "    </tr>\n",
              "    <tr>\n",
              "      <th>4</th>\n",
              "      <td>East Dulwich</td>\n",
              "      <td>Southwark</td>\n",
              "      <td>SE22</td>\n",
              "    </tr>\n",
              "  </tbody>\n",
              "</table>\n",
              "</div>"
            ],
            "text/plain": [
              "       Location    Borough Postcode\n",
              "0  Crofton Park   Lewisham      SE4\n",
              "1  Denmark Hill  Southwark      SE5\n",
              "2      Deptford   Lewisham      SE8\n",
              "3       Dulwich  Southwark     SE21\n",
              "4  East Dulwich  Southwark     SE22"
            ]
          },
          "metadata": {
            "tags": []
          },
          "execution_count": 84
        }
      ]
    },
    {
      "cell_type": "code",
      "metadata": {
        "id": "J54aRnB6Fz9c",
        "colab_type": "code",
        "colab": {
          "base_uri": "https://localhost:8080/",
          "height": 34
        },
        "outputId": "de95a1af-ad47-4de5-94b2-d2f8a3d002fc"
      },
      "source": [
        "df_se_top.shape\n"
      ],
      "execution_count": null,
      "outputs": [
        {
          "output_type": "execute_result",
          "data": {
            "text/plain": [
              "(46, 3)"
            ]
          },
          "metadata": {
            "tags": []
          },
          "execution_count": 85
        }
      ]
    },
    {
      "cell_type": "code",
      "metadata": {
        "id": "J-YenQkuFz2X",
        "colab_type": "code",
        "colab": {
          "base_uri": "https://localhost:8080/",
          "height": 34
        },
        "outputId": "8301de83-0dbe-4faa-81d8-9040e045f1bb"
      },
      "source": [
        "df_se.shape\n"
      ],
      "execution_count": null,
      "outputs": [
        {
          "output_type": "execute_result",
          "data": {
            "text/plain": [
              "(80, 3)"
            ]
          },
          "metadata": {
            "tags": []
          },
          "execution_count": 86
        }
      ]
    },
    {
      "cell_type": "code",
      "metadata": {
        "id": "kMcs_ICcICZb",
        "colab_type": "code",
        "colab": {}
      },
      "source": [
        "def get_latlng(arcgis_geocoder):\n",
        "    \n",
        "    \n",
        "    lat_lng_coords = None\n",
        "    \n",
        "    \n",
        "    while(lat_lng_coords is None):\n",
        "        g = geocoder.arcgis('{}, London, United Kingdom'.format(arcgis_geocoder))\n",
        "        lat_lng_coords = g.latlng\n",
        "    return lat_lng_coords"
      ],
      "execution_count": null,
      "outputs": []
    },
    {
      "cell_type": "code",
      "metadata": {
        "id": "l5lpUtXSICin",
        "colab_type": "code",
        "colab": {
          "base_uri": "https://localhost:8080/",
          "height": 34
        },
        "outputId": "ffc7016e-b308-4d02-a0db-46a792c517ac"
      },
      "source": [
        "sample = get_latlng('SE2')\n",
        "sample"
      ],
      "execution_count": null,
      "outputs": [
        {
          "output_type": "execute_result",
          "data": {
            "text/plain": [
              "[51.492450000000076, 0.12127000000003818]"
            ]
          },
          "metadata": {
            "tags": []
          },
          "execution_count": 88
        }
      ]
    },
    {
      "cell_type": "code",
      "metadata": {
        "id": "CHjvw_B2IChM",
        "colab_type": "code",
        "colab": {
          "base_uri": "https://localhost:8080/",
          "height": 34
        },
        "outputId": "ffab45e1-0ffc-478f-9bd5-7a59bcc9ab93"
      },
      "source": [
        "gg = geocoder.geocodefarm(sample, method = 'reverse')\n",
        "gg"
      ],
      "execution_count": null,
      "outputs": [
        {
          "output_type": "execute_result",
          "data": {
            "text/plain": [
              "<[OK] Geocodefarm - Reverse [82 Harrow Manorway, Thamesmead South, SE2 9SW, United Kingdom]>"
            ]
          },
          "metadata": {
            "tags": []
          },
          "execution_count": 89
        }
      ]
    },
    {
      "cell_type": "code",
      "metadata": {
        "id": "LlsBEOfAICfJ",
        "colab_type": "code",
        "colab": {}
      },
      "source": [
        "start = time.time()\n",
        "postal_codes = df_se_top['Postcode']    \n",
        "coordinates = [get_latlng(postal_code) for postal_code in postal_codes.tolist()]\n",
        "end = time.time()\n",
        "print(\"Time of execution: \", end - start, \"seconds\")"
      ],
      "execution_count": null,
      "outputs": []
    },
    {
      "cell_type": "code",
      "metadata": {
        "id": "maFUBQMFICWp",
        "colab_type": "code",
        "colab": {}
      },
      "source": [
        "df_se_loc = df_se_top\n",
        "df_se_coordinates = pd.DataFrame(coordinates, columns = ['Latitude', 'Longitude'])\n",
        "df_se_loc['Latitude'] = df_se_coordinates['Latitude']\n",
        "df_se_loc['Longitude'] = df_se_coordinates['Longitude']"
      ],
      "execution_count": null,
      "outputs": []
    },
    {
      "cell_type": "code",
      "metadata": {
        "id": "fbIRGtb8ICTW",
        "colab_type": "code",
        "colab": {}
      },
      "source": [
        "df_se_loc.head(5)\n"
      ],
      "execution_count": null,
      "outputs": []
    },
    {
      "cell_type": "code",
      "metadata": {
        "id": "3b6s1FHwICRT",
        "colab_type": "code",
        "colab": {}
      },
      "source": [
        "df_se_loc.to_csv('SELondonLocationsCoordinates.csv', index = False)\n"
      ],
      "execution_count": null,
      "outputs": []
    },
    {
      "cell_type": "code",
      "metadata": {
        "id": "y0OtrXAlICNk",
        "colab_type": "code",
        "colab": {}
      },
      "source": [
        "df_se_loc.shape\n"
      ],
      "execution_count": null,
      "outputs": []
    },
    {
      "cell_type": "code",
      "metadata": {
        "id": "0aMwTZaOICKM",
        "colab_type": "code",
        "colab": {}
      },
      "source": [
        "import json\n",
        "filename = 'foursquareapidata.json'\n",
        "with open(filename) as f:\n",
        "    data = json.load(f)"
      ],
      "execution_count": null,
      "outputs": []
    },
    {
      "cell_type": "code",
      "metadata": {
        "id": "4d4ucLsSICHY",
        "colab_type": "code",
        "colab": {}
      },
      "source": [
        "CLIENT_ID = data['RWKCYG0I3PZSES1CMO4FPUUE33BV31MIBQA2LJCZ3DFNUSC4'] \n",
        "CLIENT_SECRET = data['3B34F52LFRHEHGR5BM3CDVMHLHN3FTZ1QXGNYQQD1GOCPGSM']\n",
        "VERSION = data['VERSION']"
      ],
      "execution_count": null,
      "outputs": []
    },
    {
      "cell_type": "code",
      "metadata": {
        "id": "potDqvQiICEI",
        "colab_type": "code",
        "colab": {}
      },
      "source": [
        "se_df = df_se_loc.reset_index().drop('index', axis = 1)\n"
      ],
      "execution_count": null,
      "outputs": []
    },
    {
      "cell_type": "code",
      "metadata": {
        "id": "W6g2v5eiICB5",
        "colab_type": "code",
        "colab": {}
      },
      "source": [
        "se_df.shape\n"
      ],
      "execution_count": null,
      "outputs": []
    },
    {
      "cell_type": "code",
      "metadata": {
        "id": "JmGqWr0RIB9z",
        "colab_type": "code",
        "colab": {}
      },
      "source": [
        "se_df\n"
      ],
      "execution_count": null,
      "outputs": []
    },
    {
      "cell_type": "code",
      "metadata": {
        "id": "XGi4k8dTIB7B",
        "colab_type": "code",
        "colab": {}
      },
      "source": [
        "se_df.loc[se_df['Location'] == 'Lewisham']\n"
      ],
      "execution_count": null,
      "outputs": []
    },
    {
      "cell_type": "code",
      "metadata": {
        "id": "u0vcIcCzJozw",
        "colab_type": "code",
        "colab": {}
      },
      "source": [
        "se_df.loc[20, 'Location']\n"
      ],
      "execution_count": null,
      "outputs": []
    },
    {
      "cell_type": "code",
      "metadata": {
        "id": "CQg9aOiZJpAx",
        "colab_type": "code",
        "colab": {}
      },
      "source": [
        "lewisham_lat = se_df.loc[20, 'Latitude']\n",
        "lewisham_long = se_df.loc[20, 'Longitude']\n",
        "lewisham_loc = se_df.loc[20, 'Location']\n",
        "lewisham_postcode = se_df.loc[20, 'Postcode']\n",
        "print('The latitude and longitude values of {} with postcode {}, are {}, {}.'.format(lewisham_loc, lewisham_postcode, lewisham_lat, lewisham_long))"
      ],
      "execution_count": null,
      "outputs": []
    },
    {
      "cell_type": "code",
      "metadata": {
        "id": "wk25g-DUJo-p",
        "colab_type": "code",
        "colab": {}
      },
      "source": [
        "LIMIT = 100 \n",
        "radius = 2000 \n",
        "url = 'https://api.foursquare.com/v2/venues/explore?&client_id={}&client_secret={}&v={}&ll={},{}&radius={}&limit={}'.format(\n",
        "    CLIENT_ID, \n",
        "    CLIENT_SECRET, \n",
        "    VERSION, \n",
        "    lewisham_lat, \n",
        "    lewisham_long, \n",
        "    radius, \n",
        "    LIMIT)\n",
        "url"
      ],
      "execution_count": null,
      "outputs": []
    },
    {
      "cell_type": "code",
      "metadata": {
        "id": "2ikwn4taJo7o",
        "colab_type": "code",
        "colab": {}
      },
      "source": [
        "results = requests.get(url).json()\n",
        "results"
      ],
      "execution_count": null,
      "outputs": []
    },
    {
      "cell_type": "code",
      "metadata": {
        "id": "5S3Xt4qsJo5f",
        "colab_type": "code",
        "colab": {}
      },
      "source": [
        "def get_category_type(row):\n",
        "    try:\n",
        "        categories_list = row['categories']\n",
        "    except:\n",
        "        categories_list = row['venue.categories']\n",
        "        \n",
        "    if len(categories_list) == 0:\n",
        "        return None\n",
        "    else:\n",
        "        return categories_list[0]['name']"
      ],
      "execution_count": null,
      "outputs": []
    },
    {
      "cell_type": "code",
      "metadata": {
        "id": "pkwC_u-FJowe",
        "colab_type": "code",
        "colab": {}
      },
      "source": [
        "venues = results['response']['groups'][0]['items']\n",
        "    \n",
        "nearby_venues = json_normalize(venues) \n",
        "filtered_columns = ['venue.name', 'venue.categories', 'venue.location.lat', 'venue.location.lng']\n",
        "nearby_venues =nearby_venues.loc[:, filtered_columns]\n",
        "nearby_venues['venue.categories'] = nearby_venues.apply(get_category_type, axis=1)\n",
        "nearby_venues.columns = [col.split(\".\")[-1] for col in nearby_venues.columns]"
      ],
      "execution_count": null,
      "outputs": []
    },
    {
      "cell_type": "code",
      "metadata": {
        "id": "x4x0SnAEJouY",
        "colab_type": "code",
        "colab": {}
      },
      "source": [
        "nearby_venues\n"
      ],
      "execution_count": null,
      "outputs": []
    },
    {
      "cell_type": "code",
      "metadata": {
        "id": "tasrh8koJoqm",
        "colab_type": "code",
        "colab": {}
      },
      "source": [
        "nearby_venues_lewisham_unique = nearby_venues['categories'].value_counts().to_frame(name='Count')\n"
      ],
      "execution_count": null,
      "outputs": []
    },
    {
      "cell_type": "code",
      "metadata": {
        "id": "PWBw1n1eKnaV",
        "colab_type": "code",
        "colab": {}
      },
      "source": [
        "nearby_venues_lewisham_unique.head(5)\n"
      ],
      "execution_count": null,
      "outputs": []
    },
    {
      "cell_type": "code",
      "metadata": {
        "id": "W84_IBKQKnjY",
        "colab_type": "code",
        "colab": {}
      },
      "source": [
        "print('{} venues were returned by Foursquare.'.format(nearby_venues.shape[0]))"
      ],
      "execution_count": null,
      "outputs": []
    },
    {
      "cell_type": "code",
      "metadata": {
        "id": "iMKrOu5WKne2",
        "colab_type": "code",
        "colab": {}
      },
      "source": [
        "def getNearbyVenues(names, latitudes, longitudes, radius=2000):\n",
        "    venues_list=[]\n",
        "    for name, lat, lng in zip(names, latitudes, longitudes):\n",
        "        print(name)\n",
        "        url = 'https://api.foursquare.com/v2/venues/explore?&client_id={}&client_secret={}&v={}&ll={},{}&radius={}&limit={}'.format(\n",
        "            CLIENT_ID, \n",
        "            CLIENT_SECRET, \n",
        "            VERSION, \n",
        "            lat, \n",
        "            lng, \n",
        "            radius, \n",
        "            LIMIT)\n",
        "        results = requests.get(url).json()[\"response\"]['groups'][0]['items']\n",
        "        venues_list.append([(\n",
        "            name, \n",
        "            lat, \n",
        "            lng, \n",
        "            v['venue']['name'], \n",
        "            v['venue']['location']['lat'], \n",
        "            v['venue']['location']['lng'],  \n",
        "            v['venue']['categories'][0]['name']) for v in results])\n",
        "    nearby_venues = pd.DataFrame([item for venue_list in venues_list for item in venue_list])\n",
        "    nearby_venues.columns = ['Neighbourhood', \n",
        "                  'Neighbourhood Latitude', \n",
        "                  'Neighbourhood Longitude', \n",
        "                  'Venue', \n",
        "                  'Venue Latitude', \n",
        "                  'Venue Longitude', \n",
        "                  'Venue Category']\n",
        "    return(nearby_venues)"
      ],
      "execution_count": null,
      "outputs": []
    },
    {
      "cell_type": "code",
      "metadata": {
        "id": "vmulrA3YKnXY",
        "colab_type": "code",
        "colab": {}
      },
      "source": [
        "se_venues = getNearbyVenues(names=se_df['Location'],\n",
        "                                   latitudes=se_df['Latitude'],\n",
        "                                   longitudes=se_df['Longitude']\n",
        "                                  )"
      ],
      "execution_count": null,
      "outputs": []
    },
    {
      "cell_type": "code",
      "metadata": {
        "id": "h5ez8WJSKnT2",
        "colab_type": "code",
        "colab": {}
      },
      "source": [
        "se_venues.shape\n"
      ],
      "execution_count": null,
      "outputs": []
    },
    {
      "cell_type": "code",
      "metadata": {
        "id": "F9UxH5N-KnQd",
        "colab_type": "code",
        "colab": {}
      },
      "source": [
        "len(se_venues)\n"
      ],
      "execution_count": null,
      "outputs": []
    },
    {
      "cell_type": "code",
      "metadata": {
        "id": "RC5UE2nyKnOn",
        "colab_type": "code",
        "colab": {}
      },
      "source": [
        "se_venues['Neighbourhood'].value_counts()\n",
        "se_venues.to_csv('se_venues.csv')"
      ],
      "execution_count": null,
      "outputs": []
    },
    {
      "cell_type": "code",
      "metadata": {
        "id": "47P3PT4GLSWv",
        "colab_type": "code",
        "colab": {}
      },
      "source": [
        "se_venues.head(5)\n"
      ],
      "execution_count": null,
      "outputs": []
    },
    {
      "cell_type": "code",
      "metadata": {
        "id": "f-5YR2gULSUg",
        "colab_type": "code",
        "colab": {}
      },
      "source": [
        "se_venues.groupby('Neighbourhood').count()\n"
      ],
      "execution_count": null,
      "outputs": []
    },
    {
      "cell_type": "code",
      "metadata": {
        "id": "Fr8WdhxuLSRz",
        "colab_type": "code",
        "colab": {}
      },
      "source": [
        "print('There are {} uniques categories.'.format(len(se_venues['Venue Category'].unique())))\n"
      ],
      "execution_count": null,
      "outputs": []
    },
    {
      "cell_type": "code",
      "metadata": {
        "id": "Plc51TmZLSPF",
        "colab_type": "code",
        "colab": {}
      },
      "source": [
        "se_venue_unique_count = se_venues['Venue Category'].value_counts().to_frame(name='Count')\n"
      ],
      "execution_count": null,
      "outputs": []
    },
    {
      "cell_type": "code",
      "metadata": {
        "id": "nnmmntRdLSMw",
        "colab_type": "code",
        "colab": {}
      },
      "source": [
        "se_venue_unique_count.head(5)\n"
      ],
      "execution_count": null,
      "outputs": []
    },
    {
      "cell_type": "code",
      "metadata": {
        "id": "RvPN-cs-LSJL",
        "colab_type": "code",
        "colab": {}
      },
      "source": [
        "se_venue_unique_count.describe()\n"
      ],
      "execution_count": null,
      "outputs": []
    },
    {
      "cell_type": "code",
      "metadata": {
        "id": "A2FZ8nOmKnKH",
        "colab_type": "code",
        "colab": {}
      },
      "source": [
        "address = 'London, United Kingdom'\n",
        "geolocator = Nominatim(user_agent=\"ln_explorer\")\n",
        "location = geolocator.geocode(address)\n",
        "latitude = location.latitude\n",
        "longitude = location.longitude\n",
        "print('The geograpical coordinate of London are {}, {}.'.format(latitude, longitude))"
      ],
      "execution_count": null,
      "outputs": []
    },
    {
      "cell_type": "code",
      "metadata": {
        "id": "pRqOG3sokvZO",
        "colab_type": "code",
        "colab": {}
      },
      "source": [
        "map_london = folium.Map(location = [latitude, longitude], zoom_start = 12)\n",
        "map_london"
      ],
      "execution_count": null,
      "outputs": []
    },
    {
      "cell_type": "code",
      "metadata": {
        "id": "NQ09xUmRkvXZ",
        "colab_type": "code",
        "colab": {}
      },
      "source": [
        "for lat, lng, borough, loc in zip(se_df['Latitude'], \n",
        "                                  se_df['Longitude'],\n",
        "                                  se_df['Borough'],\n",
        "                                  se_df['Location']):\n",
        "    label = '{} - {}'.format(loc, borough)\n",
        "    label = folium.Popup(label, parse_html=True)\n",
        "    folium.CircleMarker(\n",
        "        [lat, lng],\n",
        "        radius=5,\n",
        "        popup=label,\n",
        "        color='blue',\n",
        "        fill=True,\n",
        "        fill_color='#3186cc',\n",
        "        fill_opacity=0.7).add_to(map_london)  \n",
        "display(map_london)"
      ],
      "execution_count": null,
      "outputs": []
    },
    {
      "cell_type": "code",
      "metadata": {
        "id": "rzag9yJlkvT1",
        "colab_type": "code",
        "colab": {}
      },
      "source": [
        "type(se_df)\n"
      ],
      "execution_count": null,
      "outputs": []
    },
    {
      "cell_type": "code",
      "metadata": {
        "id": "Y2a7CW-skvQu",
        "colab_type": "code",
        "colab": {}
      },
      "source": [
        "se_onehot = pd.get_dummies(se_venues[['Venue Category']], prefix = \"\", prefix_sep = \"\")\n"
      ],
      "execution_count": null,
      "outputs": []
    },
    {
      "cell_type": "code",
      "metadata": {
        "id": "9ZERYGWXkvOR",
        "colab_type": "code",
        "colab": {}
      },
      "source": [
        "se_onehot['Neighbourhood'] = se_venues['Neighbourhood']\n"
      ],
      "execution_count": null,
      "outputs": []
    },
    {
      "cell_type": "code",
      "metadata": {
        "id": "gzkxGGZ1kvKg",
        "colab_type": "code",
        "colab": {}
      },
      "source": [
        "fixed_columns = [se_onehot.columns[-1]] + list(se_onehot.columns[:-1])\n",
        "se_onehot = se_onehot[fixed_columns]"
      ],
      "execution_count": null,
      "outputs": []
    },
    {
      "cell_type": "code",
      "metadata": {
        "id": "-CarJhEBkvIe",
        "colab_type": "code",
        "colab": {}
      },
      "source": [
        "se_oneshot.head(5)\n"
      ],
      "execution_count": null,
      "outputs": []
    },
    {
      "cell_type": "code",
      "metadata": {
        "id": "xzMD6021kvDn",
        "colab_type": "code",
        "colab": {}
      },
      "source": [
        "se_onehot.loc[se_onehot['African Restaurant'] != 0]"
      ],
      "execution_count": null,
      "outputs": []
    },
    {
      "cell_type": "code",
      "metadata": {
        "id": "wdMJ8ub0l_ZF",
        "colab_type": "code",
        "colab": {}
      },
      "source": [
        "se_onehot.loc[se_onehot['Neighbourhood'] == 'Lewisham']\n"
      ],
      "execution_count": null,
      "outputs": []
    },
    {
      "cell_type": "code",
      "metadata": {
        "id": "0ABz8dmpl_kX",
        "colab_type": "code",
        "colab": {}
      },
      "source": [
        "print(\"Before One-hot encoding:\", se_df.shape)\n",
        "print(\"After One-hot encoding:\", se_grouped.shape)"
      ],
      "execution_count": null,
      "outputs": []
    },
    {
      "cell_type": "code",
      "metadata": {
        "id": "IzJGQga9l_v4",
        "colab_type": "code",
        "colab": {}
      },
      "source": [
        "se_grouped.to_csv('london_grouped.csv', index = False)\n"
      ],
      "execution_count": null,
      "outputs": []
    },
    {
      "cell_type": "code",
      "metadata": {
        "id": "nonkFh6Ul_tt",
        "colab_type": "code",
        "colab": {}
      },
      "source": [
        "num_top_venues = 10 \n",
        "\n",
        "for hood in se_grouped['Neighbourhood']:\n",
        "    print(\"----\"+hood+\"----\")\n",
        "    temp = se_grouped[se_grouped['Neighbourhood'] == hood].T.reset_index()\n",
        "    temp.columns = ['venue', 'freq']\n",
        "    temp = temp.iloc[1:]\n",
        "    temp['freq'] = temp['freq'].astype(float)\n",
        "    temp = temp.round({'freq': 2})\n",
        "    print(temp.sort_values('freq', ascending = False).reset_index(drop = True).head(num_top_venues))\n",
        "    print('\\n')"
      ],
      "execution_count": null,
      "outputs": []
    },
    {
      "cell_type": "code",
      "metadata": {
        "id": "FJn_gDRzl_iW",
        "colab_type": "code",
        "colab": {}
      },
      "source": [
        "def return_most_common_venues(row, num_top_venues):\n",
        "    row_categories = row.iloc[1:]\n",
        "    row_categories_sorted = row_categories.sort_values(ascending = False)\n",
        "    return row_categories_sorted.index.values[0:num_top_venues]"
      ],
      "execution_count": null,
      "outputs": []
    },
    {
      "cell_type": "code",
      "metadata": {
        "id": "1r4C__p6nqYk",
        "colab_type": "code",
        "colab": {}
      },
      "source": [
        "num_top_venues = 10\n",
        "indicators = ['st', 'nd', 'rd']\n",
        "columns = ['Neighbourhood']\n",
        "for ind in np.arange(num_top_venues):\n",
        "    try:\n",
        "        columns.append('{}{} Most Common Venue'.format(ind+1, indicators[ind]))\n",
        "    except:\n",
        "        columns.append('{}th Most Common Venue'.format(ind+1))\n",
        "neighbourhoods_venues_sorted = pd.DataFrame(columns=columns)\n",
        "neighbourhoods_venues_sorted['Neighbourhood'] = se_grouped['Neighbourhood']\n",
        "for ind in np.arange(se_grouped.shape[0]):\n",
        "    neighbourhoods_venues_sorted.iloc[ind, 1:] = return_most_common_venues(se_grouped.iloc[ind, :], num_top_venues)"
      ],
      "execution_count": null,
      "outputs": []
    },
    {
      "cell_type": "code",
      "metadata": {
        "id": "6X5leGwhnqhy",
        "colab_type": "code",
        "colab": {}
      },
      "source": [
        "neighbourhoods_venues_sorted.head()\n"
      ],
      "execution_count": null,
      "outputs": []
    },
    {
      "cell_type": "code",
      "metadata": {
        "id": "m6y8BIzxnqeO",
        "colab_type": "code",
        "colab": {}
      },
      "source": [
        "neighbourhoods_venues_sorted.to_csv('neighbourhoods_venues_sorted.csv', index = False)\n"
      ],
      "execution_count": null,
      "outputs": []
    },
    {
      "cell_type": "code",
      "metadata": {
        "id": "6cp3yiLznqVS",
        "colab_type": "code",
        "colab": {}
      },
      "source": [
        "se_grouped_clustering = se_grouped.drop('Neighbourhood', 1)"
      ],
      "execution_count": null,
      "outputs": []
    },
    {
      "cell_type": "code",
      "metadata": {
        "id": "-zQnHM0CnqSn",
        "colab_type": "code",
        "colab": {}
      },
      "source": [
        "kclusters = 5\n",
        "kmeans = KMeans(n_clusters = kclusters, random_state=0).fit(se_grouped_clustering)\n",
        "kmeans.labels_[0:10]"
      ],
      "execution_count": null,
      "outputs": []
    },
    {
      "cell_type": "code",
      "metadata": {
        "id": "s02zvz3nnqOE",
        "colab_type": "code",
        "colab": {}
      },
      "source": [
        "kmeans.labels_[0:10]\n"
      ],
      "execution_count": null,
      "outputs": []
    },
    {
      "cell_type": "code",
      "metadata": {
        "id": "yNfN6N5DooeW",
        "colab_type": "code",
        "colab": {}
      },
      "source": [
        "neighbourhoods_venues_sorted.insert(0, 'Cluster Labels', kmeans.labels_)\n"
      ],
      "execution_count": null,
      "outputs": []
    },
    {
      "cell_type": "code",
      "metadata": {
        "id": "oFZnwr9coomH",
        "colab_type": "code",
        "colab": {}
      },
      "source": [
        "se_merged = se_df\n"
      ],
      "execution_count": null,
      "outputs": []
    },
    {
      "cell_type": "code",
      "metadata": {
        "id": "KYX2JPyoooZa",
        "colab_type": "code",
        "colab": {}
      },
      "source": [
        "se_merged.head(3)\n"
      ],
      "execution_count": null,
      "outputs": []
    },
    {
      "cell_type": "code",
      "metadata": {
        "id": "ddGdnVILooVr",
        "colab_type": "code",
        "colab": {}
      },
      "source": [
        "se_merged_latlong = se_merged.join(neighbourhoods_venues_sorted.set_index('Neighbourhood'), on = 'Location')\n"
      ],
      "execution_count": null,
      "outputs": []
    },
    {
      "cell_type": "code",
      "metadata": {
        "id": "YRq0Q9T_pC6P",
        "colab_type": "code",
        "colab": {}
      },
      "source": [
        "se_merged_latlong.head(5)\n"
      ],
      "execution_count": null,
      "outputs": []
    },
    {
      "cell_type": "code",
      "metadata": {
        "id": "wtc87DSJpDCa",
        "colab_type": "code",
        "colab": {}
      },
      "source": [
        "se_clusters = se_merged_latlong\n"
      ],
      "execution_count": null,
      "outputs": []
    },
    {
      "cell_type": "code",
      "metadata": {
        "id": "-KgLySzypC_2",
        "colab_type": "code",
        "colab": {}
      },
      "source": [
        "import matplotlib\n",
        "import numpy as np"
      ],
      "execution_count": null,
      "outputs": []
    },
    {
      "cell_type": "code",
      "metadata": {
        "id": "WT1tjEbkpe4F",
        "colab_type": "code",
        "colab": {}
      },
      "source": [
        "from sklearn.cluster import KMeans\n",
        "import matplotlib.pyplot as plt\n",
        "sse = {}\n",
        "for n_cluster1 in range(2, 10):\n",
        "    kmeans1 = KMeans(n_clusters = n_cluster1, max_iter = 500).fit(se_grouped_clustering)\n",
        "    se_grouped_clustering[\"clusters\"] = kmeans1.labels_\n",
        "    \n",
        "    sse[n_cluster1] = kmeans1.inertia_ \n",
        "plt.figure()\n",
        "plt.plot(list(sse.keys()), list(sse.values()))\n",
        "plt.xlabel(\"Number of Clusters, k\")\n",
        "plt.ylabel(\"Sum of Squared Error, SSE\")\n",
        "plt.vlines(3, ymin = -2, ymax = 45, colors = 'red')\n",
        "plt.show()"
      ],
      "execution_count": null,
      "outputs": []
    },
    {
      "cell_type": "code",
      "metadata": {
        "id": "DPHLI0c8pe1t",
        "colab_type": "code",
        "colab": {}
      },
      "source": [
        "from sklearn.metrics import silhouette_score\n",
        "from sklearn.cluster import KMeans\n",
        "for n_cluster2 in range(2, 10):\n",
        "    kmeans2 = KMeans(n_clusters = n_cluster2, random_state = 0).fit(se_grouped_clustering)\n",
        "    label2 = kmeans2.labels_\n",
        "    sil_coeff = silhouette_score(se_grouped_clustering, label2, metric = 'euclidean')\n",
        "    print(\"Where n_clusters = {}, the Silhouette Coefficient is {}\".format(n_cluster2, sil_coeff))"
      ],
      "execution_count": null,
      "outputs": []
    },
    {
      "cell_type": "code",
      "metadata": {
        "id": "ujtKO33Mw-7j",
        "colab_type": "code",
        "colab": {}
      },
      "source": [
        "se_clusters.columns\n"
      ],
      "execution_count": null,
      "outputs": []
    },
    {
      "cell_type": "code",
      "metadata": {
        "id": "yVE5mBuJw-4q",
        "colab_type": "code",
        "colab": {}
      },
      "source": [
        "map_clusters = folium.Map(location=[latitude, longitude], zoom_start=11)\n",
        "x = np.arange(kclusters)\n",
        "ys = [i + x + (i*x)**2 for i in range(kclusters)]\n",
        "colors_array = cm.rainbow(np.linspace(0, 1, len(ys)))\n",
        "rainbow = [colors.rgb2hex(i) for i in colors_array]\n",
        "markers_colors = []\n",
        "for lat, lon, poi, cluster in zip(se_clusters['Latitude'], se_clusters['Longitude'], se_clusters['Location'], se_clusters['Cluster Labels']):\n",
        "    label = folium.Popup(str(poi) + ' Cluster ' + str(cluster), parse_html=True)\n",
        "    folium.CircleMarker(\n",
        "        [lat, lon],\n",
        "        radius=20,\n",
        "        popup=label,\n",
        "        color=rainbow[cluster-1],\n",
        "        fill=True,\n",
        "        fill_color=rainbow[cluster-1],\n",
        "        fill_opacity=0.7).add_to(map_clusters)\n",
        "display(map_clusters)"
      ],
      "execution_count": null,
      "outputs": []
    },
    {
      "cell_type": "code",
      "metadata": {
        "id": "PPKZi5QGw-1F",
        "colab_type": "code",
        "colab": {}
      },
      "source": [
        "se_clusters.loc[se_clusters['Cluster Labels'] == 0, se_clusters.columns[[1] + list(range(5, se_clusters.shape[1]))]]\n"
      ],
      "execution_count": null,
      "outputs": []
    },
    {
      "cell_type": "code",
      "metadata": {
        "id": "776d7kUmw-xi",
        "colab_type": "code",
        "colab": {}
      },
      "source": [
        "se_clusters.loc[se_clusters['Cluster Labels'] == 1, se_clusters.columns[[1] + list(range(5, se_clusters.shape[1]))]]\n"
      ],
      "execution_count": null,
      "outputs": []
    },
    {
      "cell_type": "code",
      "metadata": {
        "id": "8BeWuLRow-t_",
        "colab_type": "code",
        "colab": {}
      },
      "source": [
        "se_clusters.loc[se_clusters['Cluster Labels'] == 2, se_clusters.columns[[1] + list(range(5, se_clusters.shape[1]))]]\n"
      ],
      "execution_count": null,
      "outputs": []
    },
    {
      "cell_type": "code",
      "metadata": {
        "id": "9TQeab34xaAR",
        "colab_type": "code",
        "colab": {}
      },
      "source": [
        "se_clusters.loc[se_clusters['Cluster Labels'] == 3, se_clusters.columns[[1] + list(range(5, se_clusters.shape[1]))]]\n"
      ],
      "execution_count": null,
      "outputs": []
    },
    {
      "cell_type": "code",
      "metadata": {
        "id": "2LKsUdq_xaMI",
        "colab_type": "code",
        "colab": {}
      },
      "source": [
        "se_clusters.loc[se_clusters['Cluster Labels'] == 4, se_clusters.columns[[1] + list(range(5, se_clusters.shape[1]))]]\n"
      ],
      "execution_count": null,
      "outputs": []
    }
  ]
}