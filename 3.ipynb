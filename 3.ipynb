{
  "nbformat": 4,
  "nbformat_minor": 0,
  "metadata": {
    "colab": {
      "name": "Untitled2.ipynb",
      "provenance": [],
      "authorship_tag": "ABX9TyOBZ/RXL3eTg+Q95GqhYyJ6",
      "include_colab_link": true
    },
    "kernelspec": {
      "name": "python3",
      "display_name": "Python 3"
    }
  },
  "cells": [
    {
      "cell_type": "markdown",
      "metadata": {
        "id": "view-in-github",
        "colab_type": "text"
      },
      "source": [
        "<a href=\"https://colab.research.google.com/github/SALMASHERIF93/Applied-Data-Science-Capestone/blob/master/3.ipynb\" target=\"_parent\"><img src=\"https://colab.research.google.com/assets/colab-badge.svg\" alt=\"Open In Colab\"/></a>"
      ]
    },
    {
      "cell_type": "code",
      "metadata": {
        "id": "39NL2CPj6qTJ",
        "colab_type": "code",
        "colab": {
          "base_uri": "https://localhost:8080/",
          "height": 334
        },
        "outputId": "f2b9e7b1-c734-48dc-cdaf-a142e5c47b83"
      },
      "source": [
        "import requests\n",
        "import pandas as pd\n",
        "from bs4 import BeautifulSoup\n",
        "import geocoder"
      ],
      "execution_count": 42,
      "outputs": [
        {
          "output_type": "error",
          "ename": "ModuleNotFoundError",
          "evalue": "ignored",
          "traceback": [
            "\u001b[0;31m---------------------------------------------------------------------------\u001b[0m",
            "\u001b[0;31mModuleNotFoundError\u001b[0m                       Traceback (most recent call last)",
            "\u001b[0;32m<ipython-input-42-d73bbd1914d3>\u001b[0m in \u001b[0;36m<module>\u001b[0;34m()\u001b[0m\n\u001b[1;32m      2\u001b[0m \u001b[0;32mimport\u001b[0m \u001b[0mpandas\u001b[0m \u001b[0;32mas\u001b[0m \u001b[0mpd\u001b[0m\u001b[0;34m\u001b[0m\u001b[0;34m\u001b[0m\u001b[0m\n\u001b[1;32m      3\u001b[0m \u001b[0;32mfrom\u001b[0m \u001b[0mbs4\u001b[0m \u001b[0;32mimport\u001b[0m \u001b[0mBeautifulSoup\u001b[0m\u001b[0;34m\u001b[0m\u001b[0;34m\u001b[0m\u001b[0m\n\u001b[0;32m----> 4\u001b[0;31m \u001b[0;32mimport\u001b[0m \u001b[0mgeocoder\u001b[0m\u001b[0;34m\u001b[0m\u001b[0;34m\u001b[0m\u001b[0m\n\u001b[0m",
            "\u001b[0;31mModuleNotFoundError\u001b[0m: No module named 'geocoder'",
            "",
            "\u001b[0;31m---------------------------------------------------------------------------\u001b[0;32m\nNOTE: If your import is failing due to a missing package, you can\nmanually install dependencies using either !pip or !apt.\n\nTo view examples of installing some common dependencies, click the\n\"Open Examples\" button below.\n\u001b[0;31m---------------------------------------------------------------------------\u001b[0m\n"
          ]
        }
      ]
    },
    {
      "cell_type": "code",
      "metadata": {
        "id": "DGyHiuCT6_GO",
        "colab_type": "code",
        "colab": {
          "base_uri": "https://localhost:8080/",
          "height": 34
        },
        "outputId": "4a9992db-798d-49b5-9577-79fe2f60d324"
      },
      "source": [
        "wikipedia_link = 'https://en.wikipedia.org/wiki/List_of_areas_of_London'\n",
        "headers = {'User-Agent': 'Mozilla/5.0 (Windows NT 10.0; Win64; x64; rv:64.0) Gecko/20100101 Firefox/64.0'}\n",
        "wikipedia_page = requests.get(wikipedia_link, headers = headers)\n",
        "wikipedia_page"
      ],
      "execution_count": 13,
      "outputs": [
        {
          "output_type": "execute_result",
          "data": {
            "text/plain": [
              "<Response [200]>"
            ]
          },
          "metadata": {
            "tags": []
          },
          "execution_count": 13
        }
      ]
    },
    {
      "cell_type": "code",
      "metadata": {
        "id": "oLUhjNY86_O7",
        "colab_type": "code",
        "colab": {}
      },
      "source": [
        "soup = BeautifulSoup(wikipedia_page.content, 'html.parser')\n",
        "table = soup.find('table', {'class':'wikitable sortable'}).tbody"
      ],
      "execution_count": 16,
      "outputs": []
    },
    {
      "cell_type": "code",
      "metadata": {
        "id": "-B5GrJfB6_ZQ",
        "colab_type": "code",
        "colab": {}
      },
      "source": [
        "rows = table.find_all('tr')"
      ],
      "execution_count": 17,
      "outputs": []
    },
    {
      "cell_type": "code",
      "metadata": {
        "id": "VGTHOpRh6_f4",
        "colab_type": "code",
        "colab": {}
      },
      "source": [
        "columns = [i.text.replace('\\n', '')\n",
        "           for i in rows[0].find_all('th')]"
      ],
      "execution_count": 18,
      "outputs": []
    },
    {
      "cell_type": "code",
      "metadata": {
        "id": "uC8TpX936_dR",
        "colab_type": "code",
        "colab": {}
      },
      "source": [
        "df = pd.DataFrame(columns = columns)"
      ],
      "execution_count": 19,
      "outputs": []
    },
    {
      "cell_type": "code",
      "metadata": {
        "id": "Ye9HC-U_6_Wp",
        "colab_type": "code",
        "colab": {}
      },
      "source": [
        "for i in range(1, len(rows)):\n",
        "    tds = rows[i].find_all('td')\n",
        "    \n",
        "    \n",
        "    if len(tds) == 7:\n",
        "        values = [tds[0].text, tds[1].text, tds[2].text.replace('\\n', ''.replace('\\xa0','')), tds[3].text, tds[4].text.replace('\\n', ''.replace('\\xa0','')), tds[5].text.replace('\\n', ''.replace('\\xa0','')), tds[6].text.replace('\\n', ''.replace('\\xa0',''))]\n",
        "    else:\n",
        "        values = [td.text.replace('\\n', '').replace('\\xa0','') for td in tds]\n",
        "        \n",
        "        df = df.append(pd.Series(values, index = columns), ignore_index = True)\n",
        "\n",
        "        df"
      ],
      "execution_count": 20,
      "outputs": []
    },
    {
      "cell_type": "code",
      "metadata": {
        "id": "1dwWUO4A6_U-",
        "colab_type": "code",
        "colab": {
          "base_uri": "https://localhost:8080/",
          "height": 204
        },
        "outputId": "06d4e5f8-3dea-4c61-9bf8-5b87229d10c6"
      },
      "source": [
        "df.head()"
      ],
      "execution_count": 21,
      "outputs": [
        {
          "output_type": "execute_result",
          "data": {
            "text/html": [
              "<div>\n",
              "<style scoped>\n",
              "    .dataframe tbody tr th:only-of-type {\n",
              "        vertical-align: middle;\n",
              "    }\n",
              "\n",
              "    .dataframe tbody tr th {\n",
              "        vertical-align: top;\n",
              "    }\n",
              "\n",
              "    .dataframe thead th {\n",
              "        text-align: right;\n",
              "    }\n",
              "</style>\n",
              "<table border=\"1\" class=\"dataframe\">\n",
              "  <thead>\n",
              "    <tr style=\"text-align: right;\">\n",
              "      <th></th>\n",
              "      <th>Location</th>\n",
              "      <th>London borough</th>\n",
              "      <th>Post town</th>\n",
              "      <th>Postcode district</th>\n",
              "      <th>Dial code</th>\n",
              "      <th>OS grid ref</th>\n",
              "    </tr>\n",
              "  </thead>\n",
              "  <tbody>\n",
              "    <tr>\n",
              "      <th>0</th>\n",
              "      <td>Abbey Wood</td>\n",
              "      <td>Bexley,  Greenwich [7]</td>\n",
              "      <td>LONDON</td>\n",
              "      <td>SE2</td>\n",
              "      <td>020</td>\n",
              "      <td>TQ465785</td>\n",
              "    </tr>\n",
              "    <tr>\n",
              "      <th>1</th>\n",
              "      <td>Acton</td>\n",
              "      <td>Ealing, Hammersmith and Fulham[8]</td>\n",
              "      <td>LONDON</td>\n",
              "      <td>W3, W4</td>\n",
              "      <td>020</td>\n",
              "      <td>TQ205805</td>\n",
              "    </tr>\n",
              "    <tr>\n",
              "      <th>2</th>\n",
              "      <td>Addington</td>\n",
              "      <td>Croydon[8]</td>\n",
              "      <td>CROYDON</td>\n",
              "      <td>CR0</td>\n",
              "      <td>020</td>\n",
              "      <td>TQ375645</td>\n",
              "    </tr>\n",
              "    <tr>\n",
              "      <th>3</th>\n",
              "      <td>Addiscombe</td>\n",
              "      <td>Croydon[8]</td>\n",
              "      <td>CROYDON</td>\n",
              "      <td>CR0</td>\n",
              "      <td>020</td>\n",
              "      <td>TQ345665</td>\n",
              "    </tr>\n",
              "    <tr>\n",
              "      <th>4</th>\n",
              "      <td>Albany Park</td>\n",
              "      <td>Bexley</td>\n",
              "      <td>BEXLEY, SIDCUP</td>\n",
              "      <td>DA5, DA14</td>\n",
              "      <td>020</td>\n",
              "      <td>TQ478728</td>\n",
              "    </tr>\n",
              "  </tbody>\n",
              "</table>\n",
              "</div>"
            ],
            "text/plain": [
              "      Location                     London borough  ... Dial code OS grid ref\n",
              "0   Abbey Wood             Bexley,  Greenwich [7]  ...       020    TQ465785\n",
              "1        Acton  Ealing, Hammersmith and Fulham[8]  ...       020    TQ205805\n",
              "2    Addington                         Croydon[8]  ...       020    TQ375645\n",
              "3   Addiscombe                         Croydon[8]  ...       020    TQ345665\n",
              "4  Albany Park                             Bexley  ...       020    TQ478728\n",
              "\n",
              "[5 rows x 6 columns]"
            ]
          },
          "metadata": {
            "tags": []
          },
          "execution_count": 21
        }
      ]
    },
    {
      "cell_type": "code",
      "metadata": {
        "id": "VUoW1ciU6_TA",
        "colab_type": "code",
        "colab": {}
      },
      "source": [
        "df = df.rename(index=str, columns = {'Location': 'Location', 'London\\xa0borough': 'Borough', 'Post town': 'Post-town', 'Postcode\\xa0district': 'Postcode', 'Dial\\xa0code': 'Dial-code', 'OS grid ref': 'OSGridRef'})"
      ],
      "execution_count": 22,
      "outputs": []
    },
    {
      "cell_type": "code",
      "metadata": {
        "id": "JrHwLfH66_Mv",
        "colab_type": "code",
        "colab": {}
      },
      "source": [
        "df['Borough'] = df['Borough'].map(lambda x: x.rstrip(']').rstrip('0123456789').rstrip('['))\n"
      ],
      "execution_count": 23,
      "outputs": []
    },
    {
      "cell_type": "code",
      "metadata": {
        "id": "t-fTh_Xj7v_6",
        "colab_type": "code",
        "colab": {}
      },
      "source": [
        "df0 = df.drop('Postcode', axis=1).join(df['Postcode'].str.split(',', expand=True).stack().reset_index(level=1, drop=True).rename('Postcode'))\n"
      ],
      "execution_count": 24,
      "outputs": []
    },
    {
      "cell_type": "code",
      "metadata": {
        "id": "RJ40LNy87wET",
        "colab_type": "code",
        "colab": {}
      },
      "source": [
        "df1 = df0[['Location', 'Borough', 'Postcode', 'Post-town']].reset_index(drop=True)\n"
      ],
      "execution_count": 25,
      "outputs": []
    },
    {
      "cell_type": "code",
      "metadata": {
        "id": "104j0l9i72WA",
        "colab_type": "code",
        "colab": {
          "base_uri": "https://localhost:8080/",
          "height": 204
        },
        "outputId": "03c390b0-38a8-4037-8906-355215887523"
      },
      "source": [
        "df1.head()\n"
      ],
      "execution_count": 26,
      "outputs": [
        {
          "output_type": "execute_result",
          "data": {
            "text/html": [
              "<div>\n",
              "<style scoped>\n",
              "    .dataframe tbody tr th:only-of-type {\n",
              "        vertical-align: middle;\n",
              "    }\n",
              "\n",
              "    .dataframe tbody tr th {\n",
              "        vertical-align: top;\n",
              "    }\n",
              "\n",
              "    .dataframe thead th {\n",
              "        text-align: right;\n",
              "    }\n",
              "</style>\n",
              "<table border=\"1\" class=\"dataframe\">\n",
              "  <thead>\n",
              "    <tr style=\"text-align: right;\">\n",
              "      <th></th>\n",
              "      <th>Location</th>\n",
              "      <th>Borough</th>\n",
              "      <th>Postcode</th>\n",
              "      <th>Post-town</th>\n",
              "    </tr>\n",
              "  </thead>\n",
              "  <tbody>\n",
              "    <tr>\n",
              "      <th>0</th>\n",
              "      <td>Abbey Wood</td>\n",
              "      <td>Bexley,  Greenwich</td>\n",
              "      <td>SE2</td>\n",
              "      <td>LONDON</td>\n",
              "    </tr>\n",
              "    <tr>\n",
              "      <th>1</th>\n",
              "      <td>Acton</td>\n",
              "      <td>Ealing, Hammersmith and Fulham</td>\n",
              "      <td>W3</td>\n",
              "      <td>LONDON</td>\n",
              "    </tr>\n",
              "    <tr>\n",
              "      <th>2</th>\n",
              "      <td>Acton</td>\n",
              "      <td>Ealing, Hammersmith and Fulham</td>\n",
              "      <td>W4</td>\n",
              "      <td>LONDON</td>\n",
              "    </tr>\n",
              "    <tr>\n",
              "      <th>3</th>\n",
              "      <td>Angel</td>\n",
              "      <td>Islington</td>\n",
              "      <td>EC1</td>\n",
              "      <td>LONDON</td>\n",
              "    </tr>\n",
              "    <tr>\n",
              "      <th>4</th>\n",
              "      <td>Angel</td>\n",
              "      <td>Islington</td>\n",
              "      <td>N1</td>\n",
              "      <td>LONDON</td>\n",
              "    </tr>\n",
              "  </tbody>\n",
              "</table>\n",
              "</div>"
            ],
            "text/plain": [
              "     Location                         Borough Postcode Post-town\n",
              "0  Abbey Wood             Bexley,  Greenwich       SE2    LONDON\n",
              "1       Acton  Ealing, Hammersmith and Fulham       W3    LONDON\n",
              "2       Acton  Ealing, Hammersmith and Fulham       W4    LONDON\n",
              "3       Angel                       Islington      EC1    LONDON\n",
              "4       Angel                       Islington       N1    LONDON"
            ]
          },
          "metadata": {
            "tags": []
          },
          "execution_count": 26
        }
      ]
    },
    {
      "cell_type": "code",
      "metadata": {
        "id": "2qg55cCd72aM",
        "colab_type": "code",
        "colab": {}
      },
      "source": [
        "df2 = df1\n"
      ],
      "execution_count": 27,
      "outputs": []
    },
    {
      "cell_type": "code",
      "metadata": {
        "id": "7WiWyBnf72e2",
        "colab_type": "code",
        "colab": {}
      },
      "source": [
        "df21 = df2[df2['Post-town'].str.contains('LONDON')]\n"
      ],
      "execution_count": 28,
      "outputs": []
    },
    {
      "cell_type": "code",
      "metadata": {
        "id": "hoy-WP_S8B_B",
        "colab_type": "code",
        "colab": {
          "base_uri": "https://localhost:8080/",
          "height": 359
        },
        "outputId": "13e5ca38-b58f-4c58-e61a-6f551d01d7e3"
      },
      "source": [
        "df21.head(10)\n"
      ],
      "execution_count": 29,
      "outputs": [
        {
          "output_type": "execute_result",
          "data": {
            "text/html": [
              "<div>\n",
              "<style scoped>\n",
              "    .dataframe tbody tr th:only-of-type {\n",
              "        vertical-align: middle;\n",
              "    }\n",
              "\n",
              "    .dataframe tbody tr th {\n",
              "        vertical-align: top;\n",
              "    }\n",
              "\n",
              "    .dataframe thead th {\n",
              "        text-align: right;\n",
              "    }\n",
              "</style>\n",
              "<table border=\"1\" class=\"dataframe\">\n",
              "  <thead>\n",
              "    <tr style=\"text-align: right;\">\n",
              "      <th></th>\n",
              "      <th>Location</th>\n",
              "      <th>Borough</th>\n",
              "      <th>Postcode</th>\n",
              "      <th>Post-town</th>\n",
              "    </tr>\n",
              "  </thead>\n",
              "  <tbody>\n",
              "    <tr>\n",
              "      <th>0</th>\n",
              "      <td>Abbey Wood</td>\n",
              "      <td>Bexley,  Greenwich</td>\n",
              "      <td>SE2</td>\n",
              "      <td>LONDON</td>\n",
              "    </tr>\n",
              "    <tr>\n",
              "      <th>1</th>\n",
              "      <td>Acton</td>\n",
              "      <td>Ealing, Hammersmith and Fulham</td>\n",
              "      <td>W3</td>\n",
              "      <td>LONDON</td>\n",
              "    </tr>\n",
              "    <tr>\n",
              "      <th>2</th>\n",
              "      <td>Acton</td>\n",
              "      <td>Ealing, Hammersmith and Fulham</td>\n",
              "      <td>W4</td>\n",
              "      <td>LONDON</td>\n",
              "    </tr>\n",
              "    <tr>\n",
              "      <th>3</th>\n",
              "      <td>Angel</td>\n",
              "      <td>Islington</td>\n",
              "      <td>EC1</td>\n",
              "      <td>LONDON</td>\n",
              "    </tr>\n",
              "    <tr>\n",
              "      <th>4</th>\n",
              "      <td>Angel</td>\n",
              "      <td>Islington</td>\n",
              "      <td>N1</td>\n",
              "      <td>LONDON</td>\n",
              "    </tr>\n",
              "    <tr>\n",
              "      <th>5</th>\n",
              "      <td>Church End</td>\n",
              "      <td>Brent</td>\n",
              "      <td>NW10</td>\n",
              "      <td>LONDON</td>\n",
              "    </tr>\n",
              "    <tr>\n",
              "      <th>6</th>\n",
              "      <td>Church End</td>\n",
              "      <td>Barnet</td>\n",
              "      <td>N3</td>\n",
              "      <td>LONDON</td>\n",
              "    </tr>\n",
              "    <tr>\n",
              "      <th>7</th>\n",
              "      <td>Clapham</td>\n",
              "      <td>Lambeth, Wandsworth</td>\n",
              "      <td>SW4</td>\n",
              "      <td>LONDON</td>\n",
              "    </tr>\n",
              "    <tr>\n",
              "      <th>8</th>\n",
              "      <td>Clerkenwell</td>\n",
              "      <td>Islington</td>\n",
              "      <td>EC1</td>\n",
              "      <td>LONDON</td>\n",
              "    </tr>\n",
              "    <tr>\n",
              "      <th>10</th>\n",
              "      <td>Colindale</td>\n",
              "      <td>Barnet</td>\n",
              "      <td>NW9</td>\n",
              "      <td>LONDON</td>\n",
              "    </tr>\n",
              "  </tbody>\n",
              "</table>\n",
              "</div>"
            ],
            "text/plain": [
              "       Location                         Borough Postcode Post-town\n",
              "0    Abbey Wood             Bexley,  Greenwich       SE2    LONDON\n",
              "1         Acton  Ealing, Hammersmith and Fulham       W3    LONDON\n",
              "2         Acton  Ealing, Hammersmith and Fulham       W4    LONDON\n",
              "3         Angel                       Islington      EC1    LONDON\n",
              "4         Angel                       Islington       N1    LONDON\n",
              "5    Church End                           Brent     NW10    LONDON\n",
              "6    Church End                          Barnet       N3    LONDON\n",
              "7       Clapham             Lambeth, Wandsworth      SW4    LONDON\n",
              "8   Clerkenwell                       Islington      EC1    LONDON\n",
              "10    Colindale                          Barnet      NW9    LONDON"
            ]
          },
          "metadata": {
            "tags": []
          },
          "execution_count": 29
        }
      ]
    },
    {
      "cell_type": "code",
      "metadata": {
        "id": "P_EE87Wc8CFi",
        "colab_type": "code",
        "colab": {}
      },
      "source": [
        "df3 = df21[['Location', 'Borough', 'Postcode']].reset_index(drop=True)\n"
      ],
      "execution_count": 30,
      "outputs": []
    },
    {
      "cell_type": "code",
      "metadata": {
        "id": "PDI6ICXx8CD6",
        "colab_type": "code",
        "colab": {}
      },
      "source": [
        "df_london = df3\n"
      ],
      "execution_count": 31,
      "outputs": []
    },
    {
      "cell_type": "code",
      "metadata": {
        "id": "d8mhZfFv8P1H",
        "colab_type": "code",
        "colab": {}
      },
      "source": [
        "def get_latlng(arcgis_geocoder):\n",
        "    \n",
        "    \n",
        "    lat_lng_coords = None\n",
        "    \n",
        "   \n",
        "    \n",
        "    while(lat_lng_coords is None):\n",
        "        g = geocoder.arcgis('{}, London, United Kingdom'.format(arcgis_geocoder))\n",
        "        lat_lng_coords = g.latlng\n",
        "    return lat_lng_coords"
      ],
      "execution_count": 56,
      "outputs": []
    },
    {
      "cell_type": "code",
      "metadata": {
        "id": "ZwZE5dw58P5n",
        "colab_type": "code",
        "colab": {}
      },
      "source": [
        "postal_codes = df_london['Postcode']"
      ],
      "execution_count": 34,
      "outputs": []
    },
    {
      "cell_type": "code",
      "metadata": {
        "id": "7z8hQGvN8XE5",
        "colab_type": "code",
        "colab": {}
      },
      "source": [
        "\n",
        "df_london_loc = df_london\n",
        "df_london_ geocoder= pd.DataFrame(geocoder, columns = ['Latitude', 'Longitude'])\n",
        "df_london_loc['Latitude'] = df_london_coordinates['Latitude']\n",
        "df_london_loc['Longitude'] = df_london_coordinates['Longitude']"
      ],
      "execution_count": null,
      "outputs": []
    },
    {
      "cell_type": "code",
      "metadata": {
        "id": "ec1luKio8XL3",
        "colab_type": "code",
        "colab": {
          "base_uri": "https://localhost:8080/",
          "height": 204
        },
        "outputId": "9e1bdcd6-e88d-4b1a-ce10-5f6cc1adbec4"
      },
      "source": [
        "df_london_loc.head()"
      ],
      "execution_count": 38,
      "outputs": [
        {
          "output_type": "execute_result",
          "data": {
            "text/html": [
              "<div>\n",
              "<style scoped>\n",
              "    .dataframe tbody tr th:only-of-type {\n",
              "        vertical-align: middle;\n",
              "    }\n",
              "\n",
              "    .dataframe tbody tr th {\n",
              "        vertical-align: top;\n",
              "    }\n",
              "\n",
              "    .dataframe thead th {\n",
              "        text-align: right;\n",
              "    }\n",
              "</style>\n",
              "<table border=\"1\" class=\"dataframe\">\n",
              "  <thead>\n",
              "    <tr style=\"text-align: right;\">\n",
              "      <th></th>\n",
              "      <th>Location</th>\n",
              "      <th>Borough</th>\n",
              "      <th>Postcode</th>\n",
              "    </tr>\n",
              "  </thead>\n",
              "  <tbody>\n",
              "    <tr>\n",
              "      <th>0</th>\n",
              "      <td>Abbey Wood</td>\n",
              "      <td>Bexley,  Greenwich</td>\n",
              "      <td>SE2</td>\n",
              "    </tr>\n",
              "    <tr>\n",
              "      <th>1</th>\n",
              "      <td>Acton</td>\n",
              "      <td>Ealing, Hammersmith and Fulham</td>\n",
              "      <td>W3</td>\n",
              "    </tr>\n",
              "    <tr>\n",
              "      <th>2</th>\n",
              "      <td>Acton</td>\n",
              "      <td>Ealing, Hammersmith and Fulham</td>\n",
              "      <td>W4</td>\n",
              "    </tr>\n",
              "    <tr>\n",
              "      <th>3</th>\n",
              "      <td>Angel</td>\n",
              "      <td>Islington</td>\n",
              "      <td>EC1</td>\n",
              "    </tr>\n",
              "    <tr>\n",
              "      <th>4</th>\n",
              "      <td>Angel</td>\n",
              "      <td>Islington</td>\n",
              "      <td>N1</td>\n",
              "    </tr>\n",
              "  </tbody>\n",
              "</table>\n",
              "</div>"
            ],
            "text/plain": [
              "     Location                         Borough Postcode\n",
              "0  Abbey Wood             Bexley,  Greenwich       SE2\n",
              "1       Acton  Ealing, Hammersmith and Fulham       W3\n",
              "2       Acton  Ealing, Hammersmith and Fulham       W4\n",
              "3       Angel                       Islington      EC1\n",
              "4       Angel                       Islington       N1"
            ]
          },
          "metadata": {
            "tags": []
          },
          "execution_count": 38
        }
      ]
    }
  ]
}