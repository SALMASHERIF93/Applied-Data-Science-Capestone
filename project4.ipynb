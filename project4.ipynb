{
  "nbformat": 4,
  "nbformat_minor": 0,
  "metadata": {
    "colab": {
      "name": "Untitled3.ipynb",
      "provenance": [],
      "authorship_tag": "ABX9TyNP5SVqKy7GWqmqWsr0KRDp",
      "include_colab_link": true
    },
    "kernelspec": {
      "name": "python3",
      "display_name": "Python 3"
    }
  },
  "cells": [
    {
      "cell_type": "markdown",
      "metadata": {
        "id": "view-in-github",
        "colab_type": "text"
      },
      "source": [
        "<a href=\"https://colab.research.google.com/github/SALMASHERIF93/Applied-Data-Science-Capestone/blob/master/project4.ipynb\" target=\"_parent\"><img src=\"https://colab.research.google.com/assets/colab-badge.svg\" alt=\"Open In Colab\"/></a>"
      ]
    },
    {
      "cell_type": "code",
      "metadata": {
        "id": "MbW5VZ48DXeH",
        "colab_type": "code",
        "colab": {
          "base_uri": "https://localhost:8080/",
          "height": 187
        },
        "outputId": "8aaafa23-d25a-486f-b1cf-17ab3c321373"
      },
      "source": [
        "from bs4 import BeautifulSoup\n",
        "import numpy as np\n",
        "import pandas as pd\n",
        "pd.set_option('display.max_columns', None)\n",
        "pd.set_option('display.max_rows', None)\n",
        "import json\n",
        "print('numpy, pandas, ..., imported...')\n",
        "!pip -q install geopy\n",
        "print('geopy installed...')\n",
        "from geopy.geocoders import Nominatim\n",
        "print('Nominatim imported...')\n",
        "import requests\n",
        "print('requests imported...')\n",
        "from pandas.io.json import json_normalize\n",
        "print('json_normalize imported...')\n",
        "import matplotlib.cm as cm\n",
        "import matplotlib.colors as colors\n",
        "print('matplotlib imported...')\n",
        "from sklearn.cluster import KMeans\n",
        "print('Kmeans imported...')\n",
        "!pip -q install geocoder\n",
        "import geocoder\n",
        "import time\n",
        "!pip -q install folium\n",
        "print('folium installed...')\n",
        "import folium \n",
        "print('folium imported...')\n",
        "print('...Done')"
      ],
      "execution_count": 131,
      "outputs": [
        {
          "output_type": "stream",
          "text": [
            "numpy, pandas, ..., imported...\n",
            "geopy installed...\n",
            "Nominatim imported...\n",
            "requests imported...\n",
            "json_normalize imported...\n",
            "matplotlib imported...\n",
            "Kmeans imported...\n",
            "folium installed...\n",
            "folium imported...\n",
            "...Done\n"
          ],
          "name": "stdout"
        }
      ]
    },
    {
      "cell_type": "code",
      "metadata": {
        "id": "QgO1NNPdDZYP",
        "colab_type": "code",
        "colab": {
          "base_uri": "https://localhost:8080/",
          "height": 34
        },
        "outputId": "fdb2b801-371e-44de-e6a9-e39792cb13af"
      },
      "source": [
        "wikipedia_link = 'https://en.wikipedia.org/wiki/List_of_areas_of_London'\n",
        "headers = {'User-Agent': 'Mozilla/5.0 (Windows NT 10.0; Win64; x64; rv:64.0) Gecko/20100101 Firefox/64.0'}\n",
        "wikipedia_page = requests.get(wikipedia_link, headers = headers)\n",
        "wikipedia_page"
      ],
      "execution_count": 130,
      "outputs": [
        {
          "output_type": "execute_result",
          "data": {
            "text/plain": [
              "<Response [200]>"
            ]
          },
          "metadata": {
            "tags": []
          },
          "execution_count": 130
        }
      ]
    },
    {
      "cell_type": "code",
      "metadata": {
        "id": "oBJAqJ7lDZeu",
        "colab_type": "code",
        "colab": {}
      },
      "source": [
        "soup = BeautifulSoup(wikipedia_page.content, 'html.parser')\n",
        "table = soup.find('table', {'class':'wikitable sortable'}).tbody"
      ],
      "execution_count": 129,
      "outputs": []
    },
    {
      "cell_type": "code",
      "metadata": {
        "id": "nI5SLbJeDZcY",
        "colab_type": "code",
        "colab": {}
      },
      "source": [
        "rows = table.find_all('tr')"
      ],
      "execution_count": 128,
      "outputs": []
    },
    {
      "cell_type": "code",
      "metadata": {
        "id": "1NNEKbWBD-ip",
        "colab_type": "code",
        "colab": {}
      },
      "source": [
        "columns = [i.text.replace('\\n', '')\n",
        "           for i in rows[0].find_all('th')]"
      ],
      "execution_count": 127,
      "outputs": []
    },
    {
      "cell_type": "code",
      "metadata": {
        "id": "YpS558rfD-rF",
        "colab_type": "code",
        "colab": {
          "base_uri": "https://localhost:8080/",
          "height": 49
        },
        "outputId": "63479a5d-a348-4345-80dc-8ee5889bb7af"
      },
      "source": [
        "df = pd.DataFrame(columns = columns)\n",
        "df"
      ],
      "execution_count": 126,
      "outputs": [
        {
          "output_type": "execute_result",
          "data": {
            "text/html": [
              "<div>\n",
              "<style scoped>\n",
              "    .dataframe tbody tr th:only-of-type {\n",
              "        vertical-align: middle;\n",
              "    }\n",
              "\n",
              "    .dataframe tbody tr th {\n",
              "        vertical-align: top;\n",
              "    }\n",
              "\n",
              "    .dataframe thead th {\n",
              "        text-align: right;\n",
              "    }\n",
              "</style>\n",
              "<table border=\"1\" class=\"dataframe\">\n",
              "  <thead>\n",
              "    <tr style=\"text-align: right;\">\n",
              "      <th></th>\n",
              "      <th>Location</th>\n",
              "      <th>London borough</th>\n",
              "      <th>Post town</th>\n",
              "      <th>Postcode district</th>\n",
              "      <th>Dial code</th>\n",
              "      <th>OS grid ref</th>\n",
              "    </tr>\n",
              "  </thead>\n",
              "  <tbody>\n",
              "  </tbody>\n",
              "</table>\n",
              "</div>"
            ],
            "text/plain": [
              "Empty DataFrame\n",
              "Columns: [Location, London borough, Post town, Postcode district, Dial code, OS grid ref]\n",
              "Index: []"
            ]
          },
          "metadata": {
            "tags": []
          },
          "execution_count": 126
        }
      ]
    },
    {
      "cell_type": "code",
      "metadata": {
        "id": "g4tLr4QqD-2C",
        "colab_type": "code",
        "colab": {}
      },
      "source": [
        "for i in range(1, len(rows)):\n",
        "    tds = rows[i].find_all('td')\n",
        "    if len(tds) == 7:\n",
        "        values = [tds[0].text, tds[1].text, tds[2].text.replace('\\n', ''.replace('\\xa0','')), tds[3].text, tds[4].text.replace('\\n', ''.replace('\\xa0','')), tds[5].text.replace('\\n', ''.replace('\\xa0','')), tds[6].text.replace('\\n', ''.replace('\\xa0',''))]\n",
        "    else:\n",
        "        values = [td.text.replace('\\n', '').replace('\\xa0','') for td in tds]\n",
        "        \n",
        "        df = df.append(pd.Series(values, index = columns), ignore_index = True)\n",
        "        df"
      ],
      "execution_count": 125,
      "outputs": []
    },
    {
      "cell_type": "code",
      "metadata": {
        "id": "KqRbmmTuD-0Q",
        "colab_type": "code",
        "colab": {
          "base_uri": "https://localhost:8080/",
          "height": 49
        },
        "outputId": "1825bf59-3007-4360-dc7d-85a1c1fe5ecf"
      },
      "source": [
        "df.head(5)"
      ],
      "execution_count": 132,
      "outputs": [
        {
          "output_type": "execute_result",
          "data": {
            "text/html": [
              "<div>\n",
              "<style scoped>\n",
              "    .dataframe tbody tr th:only-of-type {\n",
              "        vertical-align: middle;\n",
              "    }\n",
              "\n",
              "    .dataframe tbody tr th {\n",
              "        vertical-align: top;\n",
              "    }\n",
              "\n",
              "    .dataframe thead th {\n",
              "        text-align: right;\n",
              "    }\n",
              "</style>\n",
              "<table border=\"1\" class=\"dataframe\">\n",
              "  <thead>\n",
              "    <tr style=\"text-align: right;\">\n",
              "      <th></th>\n",
              "      <th>Location</th>\n",
              "      <th>London borough</th>\n",
              "      <th>Post town</th>\n",
              "      <th>Postcode district</th>\n",
              "      <th>Dial code</th>\n",
              "      <th>OS grid ref</th>\n",
              "    </tr>\n",
              "  </thead>\n",
              "  <tbody>\n",
              "  </tbody>\n",
              "</table>\n",
              "</div>"
            ],
            "text/plain": [
              "Empty DataFrame\n",
              "Columns: [Location, London borough, Post town, Postcode district, Dial code, OS grid ref]\n",
              "Index: []"
            ]
          },
          "metadata": {
            "tags": []
          },
          "execution_count": 132
        }
      ]
    },
    {
      "cell_type": "code",
      "metadata": {
        "id": "cVlUaFHUD-zI",
        "colab_type": "code",
        "colab": {}
      },
      "source": [
        "df = df.rename(index=str, columns = {'Location': 'Location', 'London\\xa0borough': 'Borough', 'Post town': 'Post-town', 'Postcode\\xa0district': 'Postcode', 'Dial\\xa0code': 'Dial-code', 'OS grid ref': 'OSGridRef'})"
      ],
      "execution_count": 133,
      "outputs": []
    },
    {
      "cell_type": "code",
      "metadata": {
        "id": "fmBegZVXD-ws",
        "colab_type": "code",
        "colab": {
          "base_uri": "https://localhost:8080/",
          "height": 49
        },
        "outputId": "80231512-a42b-42cc-d49b-44cf8f8ee30c"
      },
      "source": [
        "df.head(5)"
      ],
      "execution_count": 134,
      "outputs": [
        {
          "output_type": "execute_result",
          "data": {
            "text/html": [
              "<div>\n",
              "<style scoped>\n",
              "    .dataframe tbody tr th:only-of-type {\n",
              "        vertical-align: middle;\n",
              "    }\n",
              "\n",
              "    .dataframe tbody tr th {\n",
              "        vertical-align: top;\n",
              "    }\n",
              "\n",
              "    .dataframe thead th {\n",
              "        text-align: right;\n",
              "    }\n",
              "</style>\n",
              "<table border=\"1\" class=\"dataframe\">\n",
              "  <thead>\n",
              "    <tr style=\"text-align: right;\">\n",
              "      <th></th>\n",
              "      <th>Location</th>\n",
              "      <th>Borough</th>\n",
              "      <th>Post-town</th>\n",
              "      <th>Postcode</th>\n",
              "      <th>Dial-code</th>\n",
              "      <th>OSGridRef</th>\n",
              "    </tr>\n",
              "  </thead>\n",
              "  <tbody>\n",
              "  </tbody>\n",
              "</table>\n",
              "</div>"
            ],
            "text/plain": [
              "Empty DataFrame\n",
              "Columns: [Location, Borough, Post-town, Postcode, Dial-code, OSGridRef]\n",
              "Index: []"
            ]
          },
          "metadata": {
            "tags": []
          },
          "execution_count": 134
        }
      ]
    },
    {
      "cell_type": "code",
      "metadata": {
        "id": "1-ckQjn4D-ot",
        "colab_type": "code",
        "colab": {}
      },
      "source": [
        "df['Borough'] = df['Borough'].map(lambda x: x.rstrip(']').rstrip('0123456789').rstrip('['))"
      ],
      "execution_count": 135,
      "outputs": []
    },
    {
      "cell_type": "code",
      "metadata": {
        "id": "XpjaZD3ZD-mJ",
        "colab_type": "code",
        "colab": {
          "base_uri": "https://localhost:8080/",
          "height": 34
        },
        "outputId": "670a567e-dede-4562-85b7-fd906ee638b3"
      },
      "source": [
        "df.shape\n"
      ],
      "execution_count": 136,
      "outputs": [
        {
          "output_type": "execute_result",
          "data": {
            "text/plain": [
              "(0, 6)"
            ]
          },
          "metadata": {
            "tags": []
          },
          "execution_count": 136
        }
      ]
    },
    {
      "cell_type": "code",
      "metadata": {
        "id": "NRxYFi0qD-fv",
        "colab_type": "code",
        "colab": {
          "base_uri": "https://localhost:8080/",
          "height": 49
        },
        "outputId": "3c160e0c-f27b-4e67-c246-d53f5bdc6639"
      },
      "source": [
        "df.head(5)\n"
      ],
      "execution_count": 137,
      "outputs": [
        {
          "output_type": "execute_result",
          "data": {
            "text/html": [
              "<div>\n",
              "<style scoped>\n",
              "    .dataframe tbody tr th:only-of-type {\n",
              "        vertical-align: middle;\n",
              "    }\n",
              "\n",
              "    .dataframe tbody tr th {\n",
              "        vertical-align: top;\n",
              "    }\n",
              "\n",
              "    .dataframe thead th {\n",
              "        text-align: right;\n",
              "    }\n",
              "</style>\n",
              "<table border=\"1\" class=\"dataframe\">\n",
              "  <thead>\n",
              "    <tr style=\"text-align: right;\">\n",
              "      <th></th>\n",
              "      <th>Location</th>\n",
              "      <th>Borough</th>\n",
              "      <th>Post-town</th>\n",
              "      <th>Postcode</th>\n",
              "      <th>Dial-code</th>\n",
              "      <th>OSGridRef</th>\n",
              "    </tr>\n",
              "  </thead>\n",
              "  <tbody>\n",
              "  </tbody>\n",
              "</table>\n",
              "</div>"
            ],
            "text/plain": [
              "Empty DataFrame\n",
              "Columns: [Location, Borough, Post-town, Postcode, Dial-code, OSGridRef]\n",
              "Index: []"
            ]
          },
          "metadata": {
            "tags": []
          },
          "execution_count": 137
        }
      ]
    },
    {
      "cell_type": "code",
      "metadata": {
        "id": "Ozw9B9oVE3D3",
        "colab_type": "code",
        "colab": {}
      },
      "source": [
        "df0 = df.drop('Postcode', axis=1).join(df['Postcode'].str.split(',', expand=True).stack().reset_index(level=1, drop=True).rename('Postcode'))\n"
      ],
      "execution_count": null,
      "outputs": []
    },
    {
      "cell_type": "code",
      "metadata": {
        "id": "FgFTXyxsE3K6",
        "colab_type": "code",
        "colab": {
          "base_uri": "https://localhost:8080/",
          "height": 34
        },
        "outputId": "ae23a8c5-aa5c-44c4-d82c-089249e89908"
      },
      "source": [
        "df0.shape\n"
      ],
      "execution_count": 139,
      "outputs": [
        {
          "output_type": "execute_result",
          "data": {
            "text/plain": [
              "(637, 6)"
            ]
          },
          "metadata": {
            "tags": []
          },
          "execution_count": 139
        }
      ]
    },
    {
      "cell_type": "code",
      "metadata": {
        "id": "JHwElNkKE3Y-",
        "colab_type": "code",
        "colab": {}
      },
      "source": [
        "df1 = df0[['Location', 'Borough', 'Postcode', 'Post-town']].reset_index(drop=True)\n"
      ],
      "execution_count": 140,
      "outputs": []
    },
    {
      "cell_type": "code",
      "metadata": {
        "id": "X_zii356E3sf",
        "colab_type": "code",
        "colab": {
          "base_uri": "https://localhost:8080/",
          "height": 204
        },
        "outputId": "56f4d933-06a9-4c56-b22f-4f1e30ca4c50"
      },
      "source": [
        "df1.head(5)\n"
      ],
      "execution_count": 142,
      "outputs": [
        {
          "output_type": "execute_result",
          "data": {
            "text/html": [
              "<div>\n",
              "<style scoped>\n",
              "    .dataframe tbody tr th:only-of-type {\n",
              "        vertical-align: middle;\n",
              "    }\n",
              "\n",
              "    .dataframe tbody tr th {\n",
              "        vertical-align: top;\n",
              "    }\n",
              "\n",
              "    .dataframe thead th {\n",
              "        text-align: right;\n",
              "    }\n",
              "</style>\n",
              "<table border=\"1\" class=\"dataframe\">\n",
              "  <thead>\n",
              "    <tr style=\"text-align: right;\">\n",
              "      <th></th>\n",
              "      <th>Location</th>\n",
              "      <th>Borough</th>\n",
              "      <th>Postcode</th>\n",
              "      <th>Post-town</th>\n",
              "    </tr>\n",
              "  </thead>\n",
              "  <tbody>\n",
              "    <tr>\n",
              "      <th>0</th>\n",
              "      <td>Abbey Wood</td>\n",
              "      <td>Bexley,  Greenwich</td>\n",
              "      <td>SE2</td>\n",
              "      <td>LONDON</td>\n",
              "    </tr>\n",
              "    <tr>\n",
              "      <th>1</th>\n",
              "      <td>Acton</td>\n",
              "      <td>Ealing, Hammersmith and Fulham</td>\n",
              "      <td>W3</td>\n",
              "      <td>LONDON</td>\n",
              "    </tr>\n",
              "    <tr>\n",
              "      <th>2</th>\n",
              "      <td>Acton</td>\n",
              "      <td>Ealing, Hammersmith and Fulham</td>\n",
              "      <td>W4</td>\n",
              "      <td>LONDON</td>\n",
              "    </tr>\n",
              "    <tr>\n",
              "      <th>3</th>\n",
              "      <td>Angel</td>\n",
              "      <td>Islington</td>\n",
              "      <td>EC1</td>\n",
              "      <td>LONDON</td>\n",
              "    </tr>\n",
              "    <tr>\n",
              "      <th>4</th>\n",
              "      <td>Angel</td>\n",
              "      <td>Islington</td>\n",
              "      <td>N1</td>\n",
              "      <td>LONDON</td>\n",
              "    </tr>\n",
              "  </tbody>\n",
              "</table>\n",
              "</div>"
            ],
            "text/plain": [
              "     Location                         Borough Postcode Post-town\n",
              "0  Abbey Wood             Bexley,  Greenwich       SE2    LONDON\n",
              "1       Acton  Ealing, Hammersmith and Fulham       W3    LONDON\n",
              "2       Acton  Ealing, Hammersmith and Fulham       W4    LONDON\n",
              "3       Angel                       Islington      EC1    LONDON\n",
              "4       Angel                       Islington       N1    LONDON"
            ]
          },
          "metadata": {
            "tags": []
          },
          "execution_count": 142
        }
      ]
    },
    {
      "cell_type": "code",
      "metadata": {
        "id": "18sgyG_IE3zc",
        "colab_type": "code",
        "colab": {
          "base_uri": "https://localhost:8080/",
          "height": 34
        },
        "outputId": "f8334ea4-69fd-4088-8037-c8c1264422a9"
      },
      "source": [
        "df1.shape\n"
      ],
      "execution_count": 143,
      "outputs": [
        {
          "output_type": "execute_result",
          "data": {
            "text/plain": [
              "(637, 4)"
            ]
          },
          "metadata": {
            "tags": []
          },
          "execution_count": 143
        }
      ]
    },
    {
      "cell_type": "code",
      "metadata": {
        "id": "CkTZQbHxE3xF",
        "colab_type": "code",
        "colab": {}
      },
      "source": [
        "df2 = df1\n",
        "df21 = df2[df2['Post-town'].str.contains('LONDON')]"
      ],
      "execution_count": 145,
      "outputs": []
    },
    {
      "cell_type": "code",
      "metadata": {
        "id": "as_VoIW3E3Wh",
        "colab_type": "code",
        "colab": {
          "base_uri": "https://localhost:8080/",
          "height": 204
        },
        "outputId": "e3096349-c3ac-437a-e6f8-eb9a39109965"
      },
      "source": [
        "df21.head(5)\n"
      ],
      "execution_count": 146,
      "outputs": [
        {
          "output_type": "execute_result",
          "data": {
            "text/html": [
              "<div>\n",
              "<style scoped>\n",
              "    .dataframe tbody tr th:only-of-type {\n",
              "        vertical-align: middle;\n",
              "    }\n",
              "\n",
              "    .dataframe tbody tr th {\n",
              "        vertical-align: top;\n",
              "    }\n",
              "\n",
              "    .dataframe thead th {\n",
              "        text-align: right;\n",
              "    }\n",
              "</style>\n",
              "<table border=\"1\" class=\"dataframe\">\n",
              "  <thead>\n",
              "    <tr style=\"text-align: right;\">\n",
              "      <th></th>\n",
              "      <th>Location</th>\n",
              "      <th>Borough</th>\n",
              "      <th>Postcode</th>\n",
              "      <th>Post-town</th>\n",
              "    </tr>\n",
              "  </thead>\n",
              "  <tbody>\n",
              "    <tr>\n",
              "      <th>0</th>\n",
              "      <td>Abbey Wood</td>\n",
              "      <td>Bexley,  Greenwich</td>\n",
              "      <td>SE2</td>\n",
              "      <td>LONDON</td>\n",
              "    </tr>\n",
              "    <tr>\n",
              "      <th>1</th>\n",
              "      <td>Acton</td>\n",
              "      <td>Ealing, Hammersmith and Fulham</td>\n",
              "      <td>W3</td>\n",
              "      <td>LONDON</td>\n",
              "    </tr>\n",
              "    <tr>\n",
              "      <th>2</th>\n",
              "      <td>Acton</td>\n",
              "      <td>Ealing, Hammersmith and Fulham</td>\n",
              "      <td>W4</td>\n",
              "      <td>LONDON</td>\n",
              "    </tr>\n",
              "    <tr>\n",
              "      <th>3</th>\n",
              "      <td>Angel</td>\n",
              "      <td>Islington</td>\n",
              "      <td>EC1</td>\n",
              "      <td>LONDON</td>\n",
              "    </tr>\n",
              "    <tr>\n",
              "      <th>4</th>\n",
              "      <td>Angel</td>\n",
              "      <td>Islington</td>\n",
              "      <td>N1</td>\n",
              "      <td>LONDON</td>\n",
              "    </tr>\n",
              "  </tbody>\n",
              "</table>\n",
              "</div>"
            ],
            "text/plain": [
              "     Location                         Borough Postcode Post-town\n",
              "0  Abbey Wood             Bexley,  Greenwich       SE2    LONDON\n",
              "1       Acton  Ealing, Hammersmith and Fulham       W3    LONDON\n",
              "2       Acton  Ealing, Hammersmith and Fulham       W4    LONDON\n",
              "3       Angel                       Islington      EC1    LONDON\n",
              "4       Angel                       Islington       N1    LONDON"
            ]
          },
          "metadata": {
            "tags": []
          },
          "execution_count": 146
        }
      ]
    },
    {
      "cell_type": "code",
      "metadata": {
        "id": "J6L6v59mE3TM",
        "colab_type": "code",
        "colab": {
          "base_uri": "https://localhost:8080/",
          "height": 34
        },
        "outputId": "629d357c-3fe0-4689-c839-7f3c4d0c48b1"
      },
      "source": [
        "df21.shape\n"
      ],
      "execution_count": 147,
      "outputs": [
        {
          "output_type": "execute_result",
          "data": {
            "text/plain": [
              "(381, 4)"
            ]
          },
          "metadata": {
            "tags": []
          },
          "execution_count": 147
        }
      ]
    },
    {
      "cell_type": "code",
      "metadata": {
        "id": "JzvkrfDKE3Rs",
        "colab_type": "code",
        "colab": {}
      },
      "source": [
        "df3 = df21[['Location', 'Borough', 'Postcode']].reset_index(drop=True)\n"
      ],
      "execution_count": 148,
      "outputs": []
    },
    {
      "cell_type": "code",
      "metadata": {
        "id": "FUPKECM9E3Pv",
        "colab_type": "code",
        "colab": {
          "base_uri": "https://localhost:8080/",
          "height": 359
        },
        "outputId": "12fc10a6-dd35-430c-af9e-77c179126370"
      },
      "source": [
        "df3.head(10)\n"
      ],
      "execution_count": 149,
      "outputs": [
        {
          "output_type": "execute_result",
          "data": {
            "text/html": [
              "<div>\n",
              "<style scoped>\n",
              "    .dataframe tbody tr th:only-of-type {\n",
              "        vertical-align: middle;\n",
              "    }\n",
              "\n",
              "    .dataframe tbody tr th {\n",
              "        vertical-align: top;\n",
              "    }\n",
              "\n",
              "    .dataframe thead th {\n",
              "        text-align: right;\n",
              "    }\n",
              "</style>\n",
              "<table border=\"1\" class=\"dataframe\">\n",
              "  <thead>\n",
              "    <tr style=\"text-align: right;\">\n",
              "      <th></th>\n",
              "      <th>Location</th>\n",
              "      <th>Borough</th>\n",
              "      <th>Postcode</th>\n",
              "    </tr>\n",
              "  </thead>\n",
              "  <tbody>\n",
              "    <tr>\n",
              "      <th>0</th>\n",
              "      <td>Abbey Wood</td>\n",
              "      <td>Bexley,  Greenwich</td>\n",
              "      <td>SE2</td>\n",
              "    </tr>\n",
              "    <tr>\n",
              "      <th>1</th>\n",
              "      <td>Acton</td>\n",
              "      <td>Ealing, Hammersmith and Fulham</td>\n",
              "      <td>W3</td>\n",
              "    </tr>\n",
              "    <tr>\n",
              "      <th>2</th>\n",
              "      <td>Acton</td>\n",
              "      <td>Ealing, Hammersmith and Fulham</td>\n",
              "      <td>W4</td>\n",
              "    </tr>\n",
              "    <tr>\n",
              "      <th>3</th>\n",
              "      <td>Angel</td>\n",
              "      <td>Islington</td>\n",
              "      <td>EC1</td>\n",
              "    </tr>\n",
              "    <tr>\n",
              "      <th>4</th>\n",
              "      <td>Angel</td>\n",
              "      <td>Islington</td>\n",
              "      <td>N1</td>\n",
              "    </tr>\n",
              "    <tr>\n",
              "      <th>5</th>\n",
              "      <td>Church End</td>\n",
              "      <td>Brent</td>\n",
              "      <td>NW10</td>\n",
              "    </tr>\n",
              "    <tr>\n",
              "      <th>6</th>\n",
              "      <td>Church End</td>\n",
              "      <td>Barnet</td>\n",
              "      <td>N3</td>\n",
              "    </tr>\n",
              "    <tr>\n",
              "      <th>7</th>\n",
              "      <td>Clapham</td>\n",
              "      <td>Lambeth, Wandsworth</td>\n",
              "      <td>SW4</td>\n",
              "    </tr>\n",
              "    <tr>\n",
              "      <th>8</th>\n",
              "      <td>Clerkenwell</td>\n",
              "      <td>Islington</td>\n",
              "      <td>EC1</td>\n",
              "    </tr>\n",
              "    <tr>\n",
              "      <th>9</th>\n",
              "      <td>Colindale</td>\n",
              "      <td>Barnet</td>\n",
              "      <td>NW9</td>\n",
              "    </tr>\n",
              "  </tbody>\n",
              "</table>\n",
              "</div>"
            ],
            "text/plain": [
              "      Location                         Borough Postcode\n",
              "0   Abbey Wood             Bexley,  Greenwich       SE2\n",
              "1        Acton  Ealing, Hammersmith and Fulham       W3\n",
              "2        Acton  Ealing, Hammersmith and Fulham       W4\n",
              "3        Angel                       Islington      EC1\n",
              "4        Angel                       Islington       N1\n",
              "5   Church End                           Brent     NW10\n",
              "6   Church End                          Barnet       N3\n",
              "7      Clapham             Lambeth, Wandsworth      SW4\n",
              "8  Clerkenwell                       Islington      EC1\n",
              "9    Colindale                          Barnet      NW9"
            ]
          },
          "metadata": {
            "tags": []
          },
          "execution_count": 149
        }
      ]
    },
    {
      "cell_type": "code",
      "metadata": {
        "id": "p4QJOFGmE3JQ",
        "colab_type": "code",
        "colab": {}
      },
      "source": [
        "df_london = df3\n",
        "df_london.to_csv('LondonLocations.csv', index = False)"
      ],
      "execution_count": 150,
      "outputs": []
    },
    {
      "cell_type": "code",
      "metadata": {
        "id": "Chnq4-CtFz5n",
        "colab_type": "code",
        "colab": {
          "base_uri": "https://localhost:8080/",
          "height": 204
        },
        "outputId": "bf3db2f9-2810-4b41-d8b3-5b9aefcb994d"
      },
      "source": [
        "df_london.head(5)\n"
      ],
      "execution_count": 151,
      "outputs": [
        {
          "output_type": "execute_result",
          "data": {
            "text/html": [
              "<div>\n",
              "<style scoped>\n",
              "    .dataframe tbody tr th:only-of-type {\n",
              "        vertical-align: middle;\n",
              "    }\n",
              "\n",
              "    .dataframe tbody tr th {\n",
              "        vertical-align: top;\n",
              "    }\n",
              "\n",
              "    .dataframe thead th {\n",
              "        text-align: right;\n",
              "    }\n",
              "</style>\n",
              "<table border=\"1\" class=\"dataframe\">\n",
              "  <thead>\n",
              "    <tr style=\"text-align: right;\">\n",
              "      <th></th>\n",
              "      <th>Location</th>\n",
              "      <th>Borough</th>\n",
              "      <th>Postcode</th>\n",
              "    </tr>\n",
              "  </thead>\n",
              "  <tbody>\n",
              "    <tr>\n",
              "      <th>0</th>\n",
              "      <td>Abbey Wood</td>\n",
              "      <td>Bexley,  Greenwich</td>\n",
              "      <td>SE2</td>\n",
              "    </tr>\n",
              "    <tr>\n",
              "      <th>1</th>\n",
              "      <td>Acton</td>\n",
              "      <td>Ealing, Hammersmith and Fulham</td>\n",
              "      <td>W3</td>\n",
              "    </tr>\n",
              "    <tr>\n",
              "      <th>2</th>\n",
              "      <td>Acton</td>\n",
              "      <td>Ealing, Hammersmith and Fulham</td>\n",
              "      <td>W4</td>\n",
              "    </tr>\n",
              "    <tr>\n",
              "      <th>3</th>\n",
              "      <td>Angel</td>\n",
              "      <td>Islington</td>\n",
              "      <td>EC1</td>\n",
              "    </tr>\n",
              "    <tr>\n",
              "      <th>4</th>\n",
              "      <td>Angel</td>\n",
              "      <td>Islington</td>\n",
              "      <td>N1</td>\n",
              "    </tr>\n",
              "  </tbody>\n",
              "</table>\n",
              "</div>"
            ],
            "text/plain": [
              "     Location                         Borough Postcode\n",
              "0  Abbey Wood             Bexley,  Greenwich       SE2\n",
              "1       Acton  Ealing, Hammersmith and Fulham       W3\n",
              "2       Acton  Ealing, Hammersmith and Fulham       W4\n",
              "3       Angel                       Islington      EC1\n",
              "4       Angel                       Islington       N1"
            ]
          },
          "metadata": {
            "tags": []
          },
          "execution_count": 151
        }
      ]
    },
    {
      "cell_type": "code",
      "metadata": {
        "id": "YAvTMGa_F0Bs",
        "colab_type": "code",
        "colab": {}
      },
      "source": [
        "df_london.Postcode = df_london.Postcode.str.strip()\n"
      ],
      "execution_count": 152,
      "outputs": []
    },
    {
      "cell_type": "code",
      "metadata": {
        "id": "0TYsllz9F0NP",
        "colab_type": "code",
        "colab": {
          "base_uri": "https://localhost:8080/",
          "height": 204
        },
        "outputId": "c25bc4e7-c980-4068-84c1-4a3f976b4b3c"
      },
      "source": [
        "df_london.head(5)\n"
      ],
      "execution_count": 153,
      "outputs": [
        {
          "output_type": "execute_result",
          "data": {
            "text/html": [
              "<div>\n",
              "<style scoped>\n",
              "    .dataframe tbody tr th:only-of-type {\n",
              "        vertical-align: middle;\n",
              "    }\n",
              "\n",
              "    .dataframe tbody tr th {\n",
              "        vertical-align: top;\n",
              "    }\n",
              "\n",
              "    .dataframe thead th {\n",
              "        text-align: right;\n",
              "    }\n",
              "</style>\n",
              "<table border=\"1\" class=\"dataframe\">\n",
              "  <thead>\n",
              "    <tr style=\"text-align: right;\">\n",
              "      <th></th>\n",
              "      <th>Location</th>\n",
              "      <th>Borough</th>\n",
              "      <th>Postcode</th>\n",
              "    </tr>\n",
              "  </thead>\n",
              "  <tbody>\n",
              "    <tr>\n",
              "      <th>0</th>\n",
              "      <td>Abbey Wood</td>\n",
              "      <td>Bexley,  Greenwich</td>\n",
              "      <td>SE2</td>\n",
              "    </tr>\n",
              "    <tr>\n",
              "      <th>1</th>\n",
              "      <td>Acton</td>\n",
              "      <td>Ealing, Hammersmith and Fulham</td>\n",
              "      <td>W3</td>\n",
              "    </tr>\n",
              "    <tr>\n",
              "      <th>2</th>\n",
              "      <td>Acton</td>\n",
              "      <td>Ealing, Hammersmith and Fulham</td>\n",
              "      <td>W4</td>\n",
              "    </tr>\n",
              "    <tr>\n",
              "      <th>3</th>\n",
              "      <td>Angel</td>\n",
              "      <td>Islington</td>\n",
              "      <td>EC1</td>\n",
              "    </tr>\n",
              "    <tr>\n",
              "      <th>4</th>\n",
              "      <td>Angel</td>\n",
              "      <td>Islington</td>\n",
              "      <td>N1</td>\n",
              "    </tr>\n",
              "  </tbody>\n",
              "</table>\n",
              "</div>"
            ],
            "text/plain": [
              "     Location                         Borough Postcode\n",
              "0  Abbey Wood             Bexley,  Greenwich       SE2\n",
              "1       Acton  Ealing, Hammersmith and Fulham       W3\n",
              "2       Acton  Ealing, Hammersmith and Fulham       W4\n",
              "3       Angel                       Islington      EC1\n",
              "4       Angel                       Islington       N1"
            ]
          },
          "metadata": {
            "tags": []
          },
          "execution_count": 153
        }
      ]
    },
    {
      "cell_type": "code",
      "metadata": {
        "id": "s1ARkY-2F0b6",
        "colab_type": "code",
        "colab": {}
      },
      "source": [
        "df_se = df_london[df_london['Postcode'].str.startswith(('SE'))].reset_index(drop=True)\n"
      ],
      "execution_count": 154,
      "outputs": []
    },
    {
      "cell_type": "code",
      "metadata": {
        "id": "_GgkCTHFF0kA",
        "colab_type": "code",
        "colab": {
          "base_uri": "https://localhost:8080/",
          "height": 359
        },
        "outputId": "c56c6a2a-0fa2-41a1-8319-2cd8aa5c884d"
      },
      "source": [
        "df_se.head(10)\n"
      ],
      "execution_count": 155,
      "outputs": [
        {
          "output_type": "execute_result",
          "data": {
            "text/html": [
              "<div>\n",
              "<style scoped>\n",
              "    .dataframe tbody tr th:only-of-type {\n",
              "        vertical-align: middle;\n",
              "    }\n",
              "\n",
              "    .dataframe tbody tr th {\n",
              "        vertical-align: top;\n",
              "    }\n",
              "\n",
              "    .dataframe thead th {\n",
              "        text-align: right;\n",
              "    }\n",
              "</style>\n",
              "<table border=\"1\" class=\"dataframe\">\n",
              "  <thead>\n",
              "    <tr style=\"text-align: right;\">\n",
              "      <th></th>\n",
              "      <th>Location</th>\n",
              "      <th>Borough</th>\n",
              "      <th>Postcode</th>\n",
              "    </tr>\n",
              "  </thead>\n",
              "  <tbody>\n",
              "    <tr>\n",
              "      <th>0</th>\n",
              "      <td>Abbey Wood</td>\n",
              "      <td>Bexley,  Greenwich</td>\n",
              "      <td>SE2</td>\n",
              "    </tr>\n",
              "    <tr>\n",
              "      <th>1</th>\n",
              "      <td>Crofton Park</td>\n",
              "      <td>Lewisham</td>\n",
              "      <td>SE4</td>\n",
              "    </tr>\n",
              "    <tr>\n",
              "      <th>2</th>\n",
              "      <td>Crossness</td>\n",
              "      <td>Bexley</td>\n",
              "      <td>SE2</td>\n",
              "    </tr>\n",
              "    <tr>\n",
              "      <th>3</th>\n",
              "      <td>Crystal Palace</td>\n",
              "      <td>Bromley</td>\n",
              "      <td>SE19</td>\n",
              "    </tr>\n",
              "    <tr>\n",
              "      <th>4</th>\n",
              "      <td>Crystal Palace</td>\n",
              "      <td>Bromley</td>\n",
              "      <td>SE20</td>\n",
              "    </tr>\n",
              "    <tr>\n",
              "      <th>5</th>\n",
              "      <td>Crystal Palace</td>\n",
              "      <td>Bromley</td>\n",
              "      <td>SE26</td>\n",
              "    </tr>\n",
              "    <tr>\n",
              "      <th>6</th>\n",
              "      <td>Denmark Hill</td>\n",
              "      <td>Southwark</td>\n",
              "      <td>SE5</td>\n",
              "    </tr>\n",
              "    <tr>\n",
              "      <th>7</th>\n",
              "      <td>Deptford</td>\n",
              "      <td>Lewisham</td>\n",
              "      <td>SE8</td>\n",
              "    </tr>\n",
              "    <tr>\n",
              "      <th>8</th>\n",
              "      <td>Dulwich</td>\n",
              "      <td>Southwark</td>\n",
              "      <td>SE21</td>\n",
              "    </tr>\n",
              "    <tr>\n",
              "      <th>9</th>\n",
              "      <td>East Dulwich</td>\n",
              "      <td>Southwark</td>\n",
              "      <td>SE22</td>\n",
              "    </tr>\n",
              "  </tbody>\n",
              "</table>\n",
              "</div>"
            ],
            "text/plain": [
              "         Location              Borough Postcode\n",
              "0      Abbey Wood  Bexley,  Greenwich       SE2\n",
              "1    Crofton Park             Lewisham      SE4\n",
              "2       Crossness               Bexley      SE2\n",
              "3  Crystal Palace              Bromley     SE19\n",
              "4  Crystal Palace              Bromley     SE20\n",
              "5  Crystal Palace              Bromley     SE26\n",
              "6    Denmark Hill            Southwark      SE5\n",
              "7        Deptford             Lewisham      SE8\n",
              "8         Dulwich            Southwark     SE21\n",
              "9    East Dulwich            Southwark     SE22"
            ]
          },
          "metadata": {
            "tags": []
          },
          "execution_count": 155
        }
      ]
    },
    {
      "cell_type": "code",
      "metadata": {
        "id": "Q5Y1UdEHF0oe",
        "colab_type": "code",
        "colab": {}
      },
      "source": [
        "demograph_link = 'https://en.wikipedia.org/wiki/Demography_of_London'\n",
        "headers = {'User-Agent': 'Mozilla/5.0 (Windows NT 10.0; Win64; x64; rv:64.0) Gecko/20100101 Firefox/64.0'}\n",
        "demograph_page = requests.get(demograph_link, headers = headers)\n",
        "soup1 = BeautifulSoup(demograph_page.content, 'html.parser')\n",
        "table1 = soup1.find('table', {'class':'wikitable sortable'}).tbody\n",
        "rows1 = table1.find_all('tr')\n",
        "columns1 = [i.text.replace('\\n', '')\n",
        "           for i in rows1[0].find_all('th')]"
      ],
      "execution_count": 156,
      "outputs": []
    },
    {
      "cell_type": "code",
      "metadata": {
        "id": "WhhR3u2oF0iB",
        "colab_type": "code",
        "colab": {
          "base_uri": "https://localhost:8080/",
          "height": 34
        },
        "outputId": "32260d7c-43ac-4906-9dc5-ef90fd9a256f"
      },
      "source": [
        "columns1\n"
      ],
      "execution_count": 157,
      "outputs": [
        {
          "output_type": "execute_result",
          "data": {
            "text/plain": [
              "['Local authority', 'White', 'Mixed', 'Asian', 'Black', 'Other']"
            ]
          },
          "metadata": {
            "tags": []
          },
          "execution_count": 157
        }
      ]
    },
    {
      "cell_type": "code",
      "metadata": {
        "id": "FwSMv4VQF0ga",
        "colab_type": "code",
        "colab": {}
      },
      "source": [
        "demo_london = pd.DataFrame(columns = columns1)\n"
      ],
      "execution_count": 158,
      "outputs": []
    },
    {
      "cell_type": "code",
      "metadata": {
        "id": "a0ZSXMA5F0ZV",
        "colab_type": "code",
        "colab": {
          "base_uri": "https://localhost:8080/",
          "height": 49
        },
        "outputId": "473d519d-42e6-4b2d-bd74-53f3f981ab90"
      },
      "source": [
        "demo_london.head(5)\n"
      ],
      "execution_count": 159,
      "outputs": [
        {
          "output_type": "execute_result",
          "data": {
            "text/html": [
              "<div>\n",
              "<style scoped>\n",
              "    .dataframe tbody tr th:only-of-type {\n",
              "        vertical-align: middle;\n",
              "    }\n",
              "\n",
              "    .dataframe tbody tr th {\n",
              "        vertical-align: top;\n",
              "    }\n",
              "\n",
              "    .dataframe thead th {\n",
              "        text-align: right;\n",
              "    }\n",
              "</style>\n",
              "<table border=\"1\" class=\"dataframe\">\n",
              "  <thead>\n",
              "    <tr style=\"text-align: right;\">\n",
              "      <th></th>\n",
              "      <th>Local authority</th>\n",
              "      <th>White</th>\n",
              "      <th>Mixed</th>\n",
              "      <th>Asian</th>\n",
              "      <th>Black</th>\n",
              "      <th>Other</th>\n",
              "    </tr>\n",
              "  </thead>\n",
              "  <tbody>\n",
              "  </tbody>\n",
              "</table>\n",
              "</div>"
            ],
            "text/plain": [
              "Empty DataFrame\n",
              "Columns: [Local authority, White, Mixed, Asian, Black, Other]\n",
              "Index: []"
            ]
          },
          "metadata": {
            "tags": []
          },
          "execution_count": 159
        }
      ]
    },
    {
      "cell_type": "code",
      "metadata": {
        "id": "G6UdhXb3F0WN",
        "colab_type": "code",
        "colab": {}
      },
      "source": [
        "for j in range(1, len(rows1)):\n",
        "    tds1 = rows1[j].find_all('td')\n",
        "    if len(tds1) == 7:\n",
        "        values1 = [tds1[0].text, tds1[1].text, tds1[2].text.replace('\\n', ''.replace('\\xa0','')), tds1[3].text, tds1[4].text.replace('\\n', ''.replace('\\xa0','')), tds1[5].text.replace('\\n', ''.replace('\\xa0',''))]\n",
        "    else:\n",
        "        values1 = [td1.text.replace('\\n', '').replace('\\xa0','') for td1 in tds1]\n",
        "        \n",
        "        demo_london = demo_london.append(pd.Series(values1, index = columns1), ignore_index = True)"
      ],
      "execution_count": 160,
      "outputs": []
    },
    {
      "cell_type": "code",
      "metadata": {
        "id": "HdYx9REUF0Ux",
        "colab_type": "code",
        "colab": {}
      },
      "source": [
        "demo_london['Black'] = demo_london['Black'].astype('float')\n"
      ],
      "execution_count": 161,
      "outputs": []
    },
    {
      "cell_type": "code",
      "metadata": {
        "id": "ovbfPiGPF0Sy",
        "colab_type": "code",
        "colab": {}
      },
      "source": [
        "demo_london_sorted = demo_london.sort_values(by='Black', ascending = False)\n"
      ],
      "execution_count": 162,
      "outputs": []
    },
    {
      "cell_type": "code",
      "metadata": {
        "id": "XU4dXElJF0KG",
        "colab_type": "code",
        "colab": {
          "base_uri": "https://localhost:8080/",
          "height": 204
        },
        "outputId": "7106ef1c-004b-47bb-aa5c-30f75f5a5344"
      },
      "source": [
        "demo_london_sorted.head(5)\n"
      ],
      "execution_count": 163,
      "outputs": [
        {
          "output_type": "execute_result",
          "data": {
            "text/html": [
              "<div>\n",
              "<style scoped>\n",
              "    .dataframe tbody tr th:only-of-type {\n",
              "        vertical-align: middle;\n",
              "    }\n",
              "\n",
              "    .dataframe tbody tr th {\n",
              "        vertical-align: top;\n",
              "    }\n",
              "\n",
              "    .dataframe thead th {\n",
              "        text-align: right;\n",
              "    }\n",
              "</style>\n",
              "<table border=\"1\" class=\"dataframe\">\n",
              "  <thead>\n",
              "    <tr style=\"text-align: right;\">\n",
              "      <th></th>\n",
              "      <th>Local authority</th>\n",
              "      <th>White</th>\n",
              "      <th>Mixed</th>\n",
              "      <th>Asian</th>\n",
              "      <th>Black</th>\n",
              "      <th>Other</th>\n",
              "    </tr>\n",
              "  </thead>\n",
              "  <tbody>\n",
              "    <tr>\n",
              "      <th>22</th>\n",
              "      <td>Lewisham</td>\n",
              "      <td>53.5</td>\n",
              "      <td>7.4</td>\n",
              "      <td>9.3</td>\n",
              "      <td>27.2</td>\n",
              "      <td>2.6</td>\n",
              "    </tr>\n",
              "    <tr>\n",
              "      <th>27</th>\n",
              "      <td>Southwark</td>\n",
              "      <td>54.3</td>\n",
              "      <td>6.2</td>\n",
              "      <td>9.4</td>\n",
              "      <td>26.9</td>\n",
              "      <td>3.3</td>\n",
              "    </tr>\n",
              "    <tr>\n",
              "      <th>21</th>\n",
              "      <td>Lambeth</td>\n",
              "      <td>57.1</td>\n",
              "      <td>7.6</td>\n",
              "      <td>6.9</td>\n",
              "      <td>25.9</td>\n",
              "      <td>2.4</td>\n",
              "    </tr>\n",
              "    <tr>\n",
              "      <th>11</th>\n",
              "      <td>Hackney</td>\n",
              "      <td>54.7</td>\n",
              "      <td>6.4</td>\n",
              "      <td>10.5</td>\n",
              "      <td>23.1</td>\n",
              "      <td>5.3</td>\n",
              "    </tr>\n",
              "    <tr>\n",
              "      <th>7</th>\n",
              "      <td>Croydon</td>\n",
              "      <td>55.1</td>\n",
              "      <td>6.6</td>\n",
              "      <td>16.4</td>\n",
              "      <td>20.2</td>\n",
              "      <td>1.8</td>\n",
              "    </tr>\n",
              "  </tbody>\n",
              "</table>\n",
              "</div>"
            ],
            "text/plain": [
              "   Local authority White Mixed Asian  Black Other\n",
              "22        Lewisham  53.5   7.4   9.3   27.2   2.6\n",
              "27       Southwark  54.3   6.2   9.4   26.9   3.3\n",
              "21         Lambeth  57.1   7.6   6.9   25.9   2.4\n",
              "11         Hackney  54.7   6.4  10.5   23.1   5.3\n",
              "7          Croydon  55.1   6.6  16.4   20.2   1.8"
            ]
          },
          "metadata": {
            "tags": []
          },
          "execution_count": 163
        }
      ]
    },
    {
      "cell_type": "code",
      "metadata": {
        "id": "NrBXyu1MF0Ht",
        "colab_type": "code",
        "colab": {
          "base_uri": "https://localhost:8080/",
          "height": 1000
        },
        "outputId": "c5edee3a-9dbf-418f-91de-bf46e30247f3"
      },
      "source": [
        "df_se\n"
      ],
      "execution_count": 164,
      "outputs": [
        {
          "output_type": "execute_result",
          "data": {
            "text/html": [
              "<div>\n",
              "<style scoped>\n",
              "    .dataframe tbody tr th:only-of-type {\n",
              "        vertical-align: middle;\n",
              "    }\n",
              "\n",
              "    .dataframe tbody tr th {\n",
              "        vertical-align: top;\n",
              "    }\n",
              "\n",
              "    .dataframe thead th {\n",
              "        text-align: right;\n",
              "    }\n",
              "</style>\n",
              "<table border=\"1\" class=\"dataframe\">\n",
              "  <thead>\n",
              "    <tr style=\"text-align: right;\">\n",
              "      <th></th>\n",
              "      <th>Location</th>\n",
              "      <th>Borough</th>\n",
              "      <th>Postcode</th>\n",
              "    </tr>\n",
              "  </thead>\n",
              "  <tbody>\n",
              "    <tr>\n",
              "      <th>0</th>\n",
              "      <td>Abbey Wood</td>\n",
              "      <td>Bexley,  Greenwich</td>\n",
              "      <td>SE2</td>\n",
              "    </tr>\n",
              "    <tr>\n",
              "      <th>1</th>\n",
              "      <td>Crofton Park</td>\n",
              "      <td>Lewisham</td>\n",
              "      <td>SE4</td>\n",
              "    </tr>\n",
              "    <tr>\n",
              "      <th>2</th>\n",
              "      <td>Crossness</td>\n",
              "      <td>Bexley</td>\n",
              "      <td>SE2</td>\n",
              "    </tr>\n",
              "    <tr>\n",
              "      <th>3</th>\n",
              "      <td>Crystal Palace</td>\n",
              "      <td>Bromley</td>\n",
              "      <td>SE19</td>\n",
              "    </tr>\n",
              "    <tr>\n",
              "      <th>4</th>\n",
              "      <td>Crystal Palace</td>\n",
              "      <td>Bromley</td>\n",
              "      <td>SE20</td>\n",
              "    </tr>\n",
              "    <tr>\n",
              "      <th>5</th>\n",
              "      <td>Crystal Palace</td>\n",
              "      <td>Bromley</td>\n",
              "      <td>SE26</td>\n",
              "    </tr>\n",
              "    <tr>\n",
              "      <th>6</th>\n",
              "      <td>Denmark Hill</td>\n",
              "      <td>Southwark</td>\n",
              "      <td>SE5</td>\n",
              "    </tr>\n",
              "    <tr>\n",
              "      <th>7</th>\n",
              "      <td>Deptford</td>\n",
              "      <td>Lewisham</td>\n",
              "      <td>SE8</td>\n",
              "    </tr>\n",
              "    <tr>\n",
              "      <th>8</th>\n",
              "      <td>Dulwich</td>\n",
              "      <td>Southwark</td>\n",
              "      <td>SE21</td>\n",
              "    </tr>\n",
              "    <tr>\n",
              "      <th>9</th>\n",
              "      <td>East Dulwich</td>\n",
              "      <td>Southwark</td>\n",
              "      <td>SE22</td>\n",
              "    </tr>\n",
              "    <tr>\n",
              "      <th>10</th>\n",
              "      <td>Elephant and Castle</td>\n",
              "      <td>Southwark</td>\n",
              "      <td>SE1</td>\n",
              "    </tr>\n",
              "    <tr>\n",
              "      <th>11</th>\n",
              "      <td>Elephant and Castle</td>\n",
              "      <td>Southwark</td>\n",
              "      <td>SE11</td>\n",
              "    </tr>\n",
              "    <tr>\n",
              "      <th>12</th>\n",
              "      <td>Elephant and Castle</td>\n",
              "      <td>Southwark</td>\n",
              "      <td>SE17</td>\n",
              "    </tr>\n",
              "    <tr>\n",
              "      <th>13</th>\n",
              "      <td>Eltham</td>\n",
              "      <td>Greenwich</td>\n",
              "      <td>SE9</td>\n",
              "    </tr>\n",
              "    <tr>\n",
              "      <th>14</th>\n",
              "      <td>Falconwood</td>\n",
              "      <td>Bexley, Greenwich</td>\n",
              "      <td>SE9</td>\n",
              "    </tr>\n",
              "    <tr>\n",
              "      <th>15</th>\n",
              "      <td>Bankside</td>\n",
              "      <td>Southwark</td>\n",
              "      <td>SE1</td>\n",
              "    </tr>\n",
              "    <tr>\n",
              "      <th>16</th>\n",
              "      <td>Forest Hill</td>\n",
              "      <td>Lewisham</td>\n",
              "      <td>SE23</td>\n",
              "    </tr>\n",
              "    <tr>\n",
              "      <th>17</th>\n",
              "      <td>Gipsy Hill</td>\n",
              "      <td>Lambeth</td>\n",
              "      <td>SE19</td>\n",
              "    </tr>\n",
              "    <tr>\n",
              "      <th>18</th>\n",
              "      <td>Gipsy Hill</td>\n",
              "      <td>Lambeth</td>\n",
              "      <td>SE27</td>\n",
              "    </tr>\n",
              "    <tr>\n",
              "      <th>19</th>\n",
              "      <td>Greenwich</td>\n",
              "      <td>Greenwich</td>\n",
              "      <td>SE10</td>\n",
              "    </tr>\n",
              "    <tr>\n",
              "      <th>20</th>\n",
              "      <td>Grove Park</td>\n",
              "      <td>Lewisham</td>\n",
              "      <td>SE12</td>\n",
              "    </tr>\n",
              "    <tr>\n",
              "      <th>21</th>\n",
              "      <td>Herne Hill</td>\n",
              "      <td>Lambeth</td>\n",
              "      <td>SE24</td>\n",
              "    </tr>\n",
              "    <tr>\n",
              "      <th>22</th>\n",
              "      <td>Hither Green</td>\n",
              "      <td>Lewisham</td>\n",
              "      <td>SE13</td>\n",
              "    </tr>\n",
              "    <tr>\n",
              "      <th>23</th>\n",
              "      <td>Honor Oak</td>\n",
              "      <td>Lewisham</td>\n",
              "      <td>SE23</td>\n",
              "    </tr>\n",
              "    <tr>\n",
              "      <th>24</th>\n",
              "      <td>Horn Park</td>\n",
              "      <td>Greenwich, Lewisham</td>\n",
              "      <td>SE12</td>\n",
              "    </tr>\n",
              "    <tr>\n",
              "      <th>25</th>\n",
              "      <td>Kennington</td>\n",
              "      <td>Lambeth, Southwark</td>\n",
              "      <td>SE11</td>\n",
              "    </tr>\n",
              "    <tr>\n",
              "      <th>26</th>\n",
              "      <td>Kidbrooke</td>\n",
              "      <td>Greenwich</td>\n",
              "      <td>SE3</td>\n",
              "    </tr>\n",
              "    <tr>\n",
              "      <th>27</th>\n",
              "      <td>Ladywell</td>\n",
              "      <td>Lewisham</td>\n",
              "      <td>SE4</td>\n",
              "    </tr>\n",
              "    <tr>\n",
              "      <th>28</th>\n",
              "      <td>Ladywell</td>\n",
              "      <td>Lewisham</td>\n",
              "      <td>SE13</td>\n",
              "    </tr>\n",
              "    <tr>\n",
              "      <th>29</th>\n",
              "      <td>Lambeth</td>\n",
              "      <td>Lambeth</td>\n",
              "      <td>SE1</td>\n",
              "    </tr>\n",
              "    <tr>\n",
              "      <th>30</th>\n",
              "      <td>Lee</td>\n",
              "      <td>Lewisham</td>\n",
              "      <td>SE12</td>\n",
              "    </tr>\n",
              "    <tr>\n",
              "      <th>31</th>\n",
              "      <td>Lewisham</td>\n",
              "      <td>Lewisham</td>\n",
              "      <td>SE13</td>\n",
              "    </tr>\n",
              "    <tr>\n",
              "      <th>32</th>\n",
              "      <td>Beckenham</td>\n",
              "      <td>Bromley</td>\n",
              "      <td>SE20</td>\n",
              "    </tr>\n",
              "    <tr>\n",
              "      <th>33</th>\n",
              "      <td>Longlands</td>\n",
              "      <td>Bexley</td>\n",
              "      <td>SE9</td>\n",
              "    </tr>\n",
              "    <tr>\n",
              "      <th>34</th>\n",
              "      <td>Maze Hill</td>\n",
              "      <td>Greenwich</td>\n",
              "      <td>SE10</td>\n",
              "    </tr>\n",
              "    <tr>\n",
              "      <th>35</th>\n",
              "      <td>Middle Park</td>\n",
              "      <td>Greenwich</td>\n",
              "      <td>SE9</td>\n",
              "    </tr>\n",
              "    <tr>\n",
              "      <th>36</th>\n",
              "      <td>Mottingham</td>\n",
              "      <td>Bromley</td>\n",
              "      <td>SE9</td>\n",
              "    </tr>\n",
              "    <tr>\n",
              "      <th>37</th>\n",
              "      <td>New Cross</td>\n",
              "      <td>Lewisham</td>\n",
              "      <td>SE14</td>\n",
              "    </tr>\n",
              "    <tr>\n",
              "      <th>38</th>\n",
              "      <td>New Eltham</td>\n",
              "      <td>Greenwich</td>\n",
              "      <td>SE9</td>\n",
              "    </tr>\n",
              "    <tr>\n",
              "      <th>39</th>\n",
              "      <td>Newington</td>\n",
              "      <td>Southwark</td>\n",
              "      <td>SE1</td>\n",
              "    </tr>\n",
              "    <tr>\n",
              "      <th>40</th>\n",
              "      <td>Newington</td>\n",
              "      <td>Southwark</td>\n",
              "      <td>SE17</td>\n",
              "    </tr>\n",
              "    <tr>\n",
              "      <th>41</th>\n",
              "      <td>Nunhead</td>\n",
              "      <td>Southwark</td>\n",
              "      <td>SE15</td>\n",
              "    </tr>\n",
              "    <tr>\n",
              "      <th>42</th>\n",
              "      <td>Oval</td>\n",
              "      <td>Lambeth</td>\n",
              "      <td>SE11</td>\n",
              "    </tr>\n",
              "    <tr>\n",
              "      <th>43</th>\n",
              "      <td>Bellingham</td>\n",
              "      <td>Lewisham</td>\n",
              "      <td>SE6</td>\n",
              "    </tr>\n",
              "    <tr>\n",
              "      <th>44</th>\n",
              "      <td>Peckham</td>\n",
              "      <td>Southwark</td>\n",
              "      <td>SE15</td>\n",
              "    </tr>\n",
              "    <tr>\n",
              "      <th>45</th>\n",
              "      <td>Penge</td>\n",
              "      <td>Bromley</td>\n",
              "      <td>SE20</td>\n",
              "    </tr>\n",
              "    <tr>\n",
              "      <th>46</th>\n",
              "      <td>Plumstead</td>\n",
              "      <td>Greenwich</td>\n",
              "      <td>SE18</td>\n",
              "    </tr>\n",
              "    <tr>\n",
              "      <th>47</th>\n",
              "      <td>Rotherhithe</td>\n",
              "      <td>Southwark</td>\n",
              "      <td>SE16</td>\n",
              "    </tr>\n",
              "    <tr>\n",
              "      <th>48</th>\n",
              "      <td>Selhurst</td>\n",
              "      <td>Croydon</td>\n",
              "      <td>SE25</td>\n",
              "    </tr>\n",
              "    <tr>\n",
              "      <th>49</th>\n",
              "      <td>Shooter's Hill</td>\n",
              "      <td>Greenwich</td>\n",
              "      <td>SE18</td>\n",
              "    </tr>\n",
              "    <tr>\n",
              "      <th>50</th>\n",
              "      <td>Bermondsey</td>\n",
              "      <td>Southwark</td>\n",
              "      <td>SE1</td>\n",
              "    </tr>\n",
              "    <tr>\n",
              "      <th>51</th>\n",
              "      <td>South Norwood</td>\n",
              "      <td>Croydon</td>\n",
              "      <td>SE25</td>\n",
              "    </tr>\n",
              "    <tr>\n",
              "      <th>52</th>\n",
              "      <td>Southend</td>\n",
              "      <td>Lewisham</td>\n",
              "      <td>SE6</td>\n",
              "    </tr>\n",
              "    <tr>\n",
              "      <th>53</th>\n",
              "      <td>St Johns</td>\n",
              "      <td>Lewisham</td>\n",
              "      <td>SE4</td>\n",
              "    </tr>\n",
              "    <tr>\n",
              "      <th>54</th>\n",
              "      <td>Bexleyheath (also Bexley New Town)</td>\n",
              "      <td>Bexley</td>\n",
              "      <td>SE2</td>\n",
              "    </tr>\n",
              "    <tr>\n",
              "      <th>55</th>\n",
              "      <td>Surrey Quays</td>\n",
              "      <td>Southwark</td>\n",
              "      <td>SE16</td>\n",
              "    </tr>\n",
              "    <tr>\n",
              "      <th>56</th>\n",
              "      <td>Sydenham (also Lower Sydenham, Upper Sydenham)</td>\n",
              "      <td>Lewisham, Bromley</td>\n",
              "      <td>SE26</td>\n",
              "    </tr>\n",
              "    <tr>\n",
              "      <th>57</th>\n",
              "      <td>Sydenham Hill</td>\n",
              "      <td>Lewisham, Southwark</td>\n",
              "      <td>SE21</td>\n",
              "    </tr>\n",
              "    <tr>\n",
              "      <th>58</th>\n",
              "      <td>Sydenham Hill</td>\n",
              "      <td>Lewisham, Southwark</td>\n",
              "      <td>SE26</td>\n",
              "    </tr>\n",
              "    <tr>\n",
              "      <th>59</th>\n",
              "      <td>Thamesmead</td>\n",
              "      <td>Bexley, Greenwich</td>\n",
              "      <td>SE28</td>\n",
              "    </tr>\n",
              "    <tr>\n",
              "      <th>60</th>\n",
              "      <td>Thamesmead</td>\n",
              "      <td>Bexley, Greenwich</td>\n",
              "      <td>SE2</td>\n",
              "    </tr>\n",
              "    <tr>\n",
              "      <th>61</th>\n",
              "      <td>Tulse Hill</td>\n",
              "      <td>Lambeth</td>\n",
              "      <td>SE24</td>\n",
              "    </tr>\n",
              "    <tr>\n",
              "      <th>62</th>\n",
              "      <td>Tulse Hill</td>\n",
              "      <td>Lambeth</td>\n",
              "      <td>SE27</td>\n",
              "    </tr>\n",
              "    <tr>\n",
              "      <th>63</th>\n",
              "      <td>Upper Norwood</td>\n",
              "      <td>Croydon</td>\n",
              "      <td>SE19</td>\n",
              "    </tr>\n",
              "    <tr>\n",
              "      <th>64</th>\n",
              "      <td>Walworth</td>\n",
              "      <td>Southwark</td>\n",
              "      <td>SE17</td>\n",
              "    </tr>\n",
              "    <tr>\n",
              "      <th>65</th>\n",
              "      <td>Well Hall</td>\n",
              "      <td>Greenwich</td>\n",
              "      <td>SE9</td>\n",
              "    </tr>\n",
              "    <tr>\n",
              "      <th>66</th>\n",
              "      <td>Blackheath</td>\n",
              "      <td>Lewisham</td>\n",
              "      <td>SE3</td>\n",
              "    </tr>\n",
              "    <tr>\n",
              "      <th>67</th>\n",
              "      <td>West Heath</td>\n",
              "      <td>Bexley</td>\n",
              "      <td>SE2</td>\n",
              "    </tr>\n",
              "    <tr>\n",
              "      <th>68</th>\n",
              "      <td>Blackheath Royal Standard</td>\n",
              "      <td>Greenwich</td>\n",
              "      <td>SE3</td>\n",
              "    </tr>\n",
              "    <tr>\n",
              "      <th>69</th>\n",
              "      <td>Blackheath Royal Standard</td>\n",
              "      <td>Greenwich</td>\n",
              "      <td>SE12</td>\n",
              "    </tr>\n",
              "    <tr>\n",
              "      <th>70</th>\n",
              "      <td>West Norwood</td>\n",
              "      <td>Lambeth</td>\n",
              "      <td>SE27</td>\n",
              "    </tr>\n",
              "    <tr>\n",
              "      <th>71</th>\n",
              "      <td>Westcombe Park</td>\n",
              "      <td>Greenwich</td>\n",
              "      <td>SE3</td>\n",
              "    </tr>\n",
              "    <tr>\n",
              "      <th>72</th>\n",
              "      <td>Woolwich</td>\n",
              "      <td>Greenwich</td>\n",
              "      <td>SE18</td>\n",
              "    </tr>\n",
              "    <tr>\n",
              "      <th>73</th>\n",
              "      <td>Brixton</td>\n",
              "      <td>Lambeth</td>\n",
              "      <td>SE5</td>\n",
              "    </tr>\n",
              "    <tr>\n",
              "      <th>74</th>\n",
              "      <td>Brockley</td>\n",
              "      <td>Lewisham</td>\n",
              "      <td>SE4</td>\n",
              "    </tr>\n",
              "    <tr>\n",
              "      <th>75</th>\n",
              "      <td>Camberwell</td>\n",
              "      <td>Southwark</td>\n",
              "      <td>SE5</td>\n",
              "    </tr>\n",
              "    <tr>\n",
              "      <th>76</th>\n",
              "      <td>Catford</td>\n",
              "      <td>Lewisham</td>\n",
              "      <td>SE6</td>\n",
              "    </tr>\n",
              "    <tr>\n",
              "      <th>77</th>\n",
              "      <td>Charlton</td>\n",
              "      <td>Greenwich</td>\n",
              "      <td>SE7</td>\n",
              "    </tr>\n",
              "    <tr>\n",
              "      <th>78</th>\n",
              "      <td>Anerley</td>\n",
              "      <td>Bromley</td>\n",
              "      <td>SE20</td>\n",
              "    </tr>\n",
              "    <tr>\n",
              "      <th>79</th>\n",
              "      <td>Chinbrook</td>\n",
              "      <td>Lewisham</td>\n",
              "      <td>SE12</td>\n",
              "    </tr>\n",
              "  </tbody>\n",
              "</table>\n",
              "</div>"
            ],
            "text/plain": [
              "                                          Location              Borough  \\\n",
              "0                                       Abbey Wood  Bexley,  Greenwich    \n",
              "1                                     Crofton Park             Lewisham   \n",
              "2                                        Crossness               Bexley   \n",
              "3                                   Crystal Palace              Bromley   \n",
              "4                                   Crystal Palace              Bromley   \n",
              "5                                   Crystal Palace              Bromley   \n",
              "6                                     Denmark Hill            Southwark   \n",
              "7                                         Deptford             Lewisham   \n",
              "8                                          Dulwich            Southwark   \n",
              "9                                     East Dulwich            Southwark   \n",
              "10                             Elephant and Castle            Southwark   \n",
              "11                             Elephant and Castle            Southwark   \n",
              "12                             Elephant and Castle            Southwark   \n",
              "13                                          Eltham            Greenwich   \n",
              "14                                      Falconwood    Bexley, Greenwich   \n",
              "15                                        Bankside            Southwark   \n",
              "16                                     Forest Hill             Lewisham   \n",
              "17                                      Gipsy Hill              Lambeth   \n",
              "18                                      Gipsy Hill              Lambeth   \n",
              "19                                       Greenwich            Greenwich   \n",
              "20                                      Grove Park             Lewisham   \n",
              "21                                      Herne Hill              Lambeth   \n",
              "22                                    Hither Green             Lewisham   \n",
              "23                                       Honor Oak             Lewisham   \n",
              "24                                       Horn Park  Greenwich, Lewisham   \n",
              "25                                      Kennington   Lambeth, Southwark   \n",
              "26                                       Kidbrooke            Greenwich   \n",
              "27                                        Ladywell             Lewisham   \n",
              "28                                        Ladywell             Lewisham   \n",
              "29                                         Lambeth              Lambeth   \n",
              "30                                             Lee             Lewisham   \n",
              "31                                        Lewisham             Lewisham   \n",
              "32                                       Beckenham              Bromley   \n",
              "33                                       Longlands               Bexley   \n",
              "34                                       Maze Hill            Greenwich   \n",
              "35                                     Middle Park            Greenwich   \n",
              "36                                      Mottingham              Bromley   \n",
              "37                                       New Cross             Lewisham   \n",
              "38                                      New Eltham            Greenwich   \n",
              "39                                       Newington            Southwark   \n",
              "40                                       Newington            Southwark   \n",
              "41                                         Nunhead            Southwark   \n",
              "42                                            Oval              Lambeth   \n",
              "43                                      Bellingham             Lewisham   \n",
              "44                                         Peckham            Southwark   \n",
              "45                                           Penge              Bromley   \n",
              "46                                       Plumstead            Greenwich   \n",
              "47                                     Rotherhithe            Southwark   \n",
              "48                                        Selhurst              Croydon   \n",
              "49                                  Shooter's Hill            Greenwich   \n",
              "50                                      Bermondsey            Southwark   \n",
              "51                                   South Norwood              Croydon   \n",
              "52                                        Southend             Lewisham   \n",
              "53                                        St Johns             Lewisham   \n",
              "54              Bexleyheath (also Bexley New Town)               Bexley   \n",
              "55                                    Surrey Quays            Southwark   \n",
              "56  Sydenham (also Lower Sydenham, Upper Sydenham)    Lewisham, Bromley   \n",
              "57                                   Sydenham Hill  Lewisham, Southwark   \n",
              "58                                   Sydenham Hill  Lewisham, Southwark   \n",
              "59                                      Thamesmead    Bexley, Greenwich   \n",
              "60                                      Thamesmead    Bexley, Greenwich   \n",
              "61                                      Tulse Hill              Lambeth   \n",
              "62                                      Tulse Hill              Lambeth   \n",
              "63                                   Upper Norwood              Croydon   \n",
              "64                                        Walworth            Southwark   \n",
              "65                                       Well Hall            Greenwich   \n",
              "66                                      Blackheath             Lewisham   \n",
              "67                                      West Heath               Bexley   \n",
              "68                       Blackheath Royal Standard            Greenwich   \n",
              "69                       Blackheath Royal Standard            Greenwich   \n",
              "70                                    West Norwood              Lambeth   \n",
              "71                                  Westcombe Park            Greenwich   \n",
              "72                                        Woolwich            Greenwich   \n",
              "73                                         Brixton              Lambeth   \n",
              "74                                        Brockley             Lewisham   \n",
              "75                                      Camberwell            Southwark   \n",
              "76                                         Catford             Lewisham   \n",
              "77                                        Charlton            Greenwich   \n",
              "78                                         Anerley              Bromley   \n",
              "79                                       Chinbrook             Lewisham   \n",
              "\n",
              "   Postcode  \n",
              "0       SE2  \n",
              "1       SE4  \n",
              "2       SE2  \n",
              "3      SE19  \n",
              "4      SE20  \n",
              "5      SE26  \n",
              "6       SE5  \n",
              "7       SE8  \n",
              "8      SE21  \n",
              "9      SE22  \n",
              "10      SE1  \n",
              "11     SE11  \n",
              "12     SE17  \n",
              "13      SE9  \n",
              "14      SE9  \n",
              "15      SE1  \n",
              "16     SE23  \n",
              "17     SE19  \n",
              "18     SE27  \n",
              "19     SE10  \n",
              "20     SE12  \n",
              "21     SE24  \n",
              "22     SE13  \n",
              "23     SE23  \n",
              "24     SE12  \n",
              "25     SE11  \n",
              "26      SE3  \n",
              "27      SE4  \n",
              "28     SE13  \n",
              "29      SE1  \n",
              "30     SE12  \n",
              "31     SE13  \n",
              "32     SE20  \n",
              "33      SE9  \n",
              "34     SE10  \n",
              "35      SE9  \n",
              "36      SE9  \n",
              "37     SE14  \n",
              "38      SE9  \n",
              "39      SE1  \n",
              "40     SE17  \n",
              "41     SE15  \n",
              "42     SE11  \n",
              "43      SE6  \n",
              "44     SE15  \n",
              "45     SE20  \n",
              "46     SE18  \n",
              "47     SE16  \n",
              "48     SE25  \n",
              "49     SE18  \n",
              "50      SE1  \n",
              "51     SE25  \n",
              "52      SE6  \n",
              "53      SE4  \n",
              "54      SE2  \n",
              "55     SE16  \n",
              "56     SE26  \n",
              "57     SE21  \n",
              "58     SE26  \n",
              "59     SE28  \n",
              "60      SE2  \n",
              "61     SE24  \n",
              "62     SE27  \n",
              "63     SE19  \n",
              "64     SE17  \n",
              "65      SE9  \n",
              "66      SE3  \n",
              "67      SE2  \n",
              "68      SE3  \n",
              "69     SE12  \n",
              "70     SE27  \n",
              "71      SE3  \n",
              "72     SE18  \n",
              "73      SE5  \n",
              "74      SE4  \n",
              "75      SE5  \n",
              "76      SE6  \n",
              "77      SE7  \n",
              "78     SE20  \n",
              "79     SE12  "
            ]
          },
          "metadata": {
            "tags": []
          },
          "execution_count": 164
        }
      ]
    },
    {
      "cell_type": "code",
      "metadata": {
        "id": "Cs2wyuCzF0F2",
        "colab_type": "code",
        "colab": {}
      },
      "source": [
        "df_se_top = df_se[df_se['Borough'].isin(['Lewisham', 'Southwark', 'Lambeth', 'Hackney', 'Croydon'])].reset_index(drop=True)\n"
      ],
      "execution_count": 165,
      "outputs": []
    },
    {
      "cell_type": "code",
      "metadata": {
        "id": "gxWKFfhxFz_c",
        "colab_type": "code",
        "colab": {
          "base_uri": "https://localhost:8080/",
          "height": 204
        },
        "outputId": "57932004-6067-4c06-caff-bbc32bc14ca2"
      },
      "source": [
        "df_se_top.head(5)\n"
      ],
      "execution_count": 166,
      "outputs": [
        {
          "output_type": "execute_result",
          "data": {
            "text/html": [
              "<div>\n",
              "<style scoped>\n",
              "    .dataframe tbody tr th:only-of-type {\n",
              "        vertical-align: middle;\n",
              "    }\n",
              "\n",
              "    .dataframe tbody tr th {\n",
              "        vertical-align: top;\n",
              "    }\n",
              "\n",
              "    .dataframe thead th {\n",
              "        text-align: right;\n",
              "    }\n",
              "</style>\n",
              "<table border=\"1\" class=\"dataframe\">\n",
              "  <thead>\n",
              "    <tr style=\"text-align: right;\">\n",
              "      <th></th>\n",
              "      <th>Location</th>\n",
              "      <th>Borough</th>\n",
              "      <th>Postcode</th>\n",
              "    </tr>\n",
              "  </thead>\n",
              "  <tbody>\n",
              "    <tr>\n",
              "      <th>0</th>\n",
              "      <td>Crofton Park</td>\n",
              "      <td>Lewisham</td>\n",
              "      <td>SE4</td>\n",
              "    </tr>\n",
              "    <tr>\n",
              "      <th>1</th>\n",
              "      <td>Denmark Hill</td>\n",
              "      <td>Southwark</td>\n",
              "      <td>SE5</td>\n",
              "    </tr>\n",
              "    <tr>\n",
              "      <th>2</th>\n",
              "      <td>Deptford</td>\n",
              "      <td>Lewisham</td>\n",
              "      <td>SE8</td>\n",
              "    </tr>\n",
              "    <tr>\n",
              "      <th>3</th>\n",
              "      <td>Dulwich</td>\n",
              "      <td>Southwark</td>\n",
              "      <td>SE21</td>\n",
              "    </tr>\n",
              "    <tr>\n",
              "      <th>4</th>\n",
              "      <td>East Dulwich</td>\n",
              "      <td>Southwark</td>\n",
              "      <td>SE22</td>\n",
              "    </tr>\n",
              "  </tbody>\n",
              "</table>\n",
              "</div>"
            ],
            "text/plain": [
              "       Location    Borough Postcode\n",
              "0  Crofton Park   Lewisham      SE4\n",
              "1  Denmark Hill  Southwark      SE5\n",
              "2      Deptford   Lewisham      SE8\n",
              "3       Dulwich  Southwark     SE21\n",
              "4  East Dulwich  Southwark     SE22"
            ]
          },
          "metadata": {
            "tags": []
          },
          "execution_count": 166
        }
      ]
    },
    {
      "cell_type": "code",
      "metadata": {
        "id": "J54aRnB6Fz9c",
        "colab_type": "code",
        "colab": {
          "base_uri": "https://localhost:8080/",
          "height": 34
        },
        "outputId": "0f1f98c8-d390-4f03-998f-7b2b08a4bcd6"
      },
      "source": [
        "df_se_top.shape\n"
      ],
      "execution_count": 167,
      "outputs": [
        {
          "output_type": "execute_result",
          "data": {
            "text/plain": [
              "(46, 3)"
            ]
          },
          "metadata": {
            "tags": []
          },
          "execution_count": 167
        }
      ]
    },
    {
      "cell_type": "code",
      "metadata": {
        "id": "J-YenQkuFz2X",
        "colab_type": "code",
        "colab": {
          "base_uri": "https://localhost:8080/",
          "height": 34
        },
        "outputId": "26491bea-e225-41b5-f551-889c0f6ead83"
      },
      "source": [
        "df_se.shape\n"
      ],
      "execution_count": 168,
      "outputs": [
        {
          "output_type": "execute_result",
          "data": {
            "text/plain": [
              "(80, 3)"
            ]
          },
          "metadata": {
            "tags": []
          },
          "execution_count": 168
        }
      ]
    },
    {
      "cell_type": "code",
      "metadata": {
        "id": "kMcs_ICcICZb",
        "colab_type": "code",
        "colab": {}
      },
      "source": [
        "def get_latlng(arcgis_geocoder):\n",
        "    \n",
        "    \n",
        "    lat_lng_coords = None\n",
        "    \n",
        "    \n",
        "    while(lat_lng_coords is None):\n",
        "        g = geocoder.arcgis('{}, London, United Kingdom'.format(arcgis_geocoder))\n",
        "        lat_lng_coords = g.latlng\n",
        "    return lat_lng_coords"
      ],
      "execution_count": 169,
      "outputs": []
    },
    {
      "cell_type": "code",
      "metadata": {
        "id": "l5lpUtXSICin",
        "colab_type": "code",
        "colab": {
          "base_uri": "https://localhost:8080/",
          "height": 34
        },
        "outputId": "f4761759-f609-4679-979f-a9e7b17a25c1"
      },
      "source": [
        "sample = get_latlng('SE2')\n",
        "sample"
      ],
      "execution_count": 170,
      "outputs": [
        {
          "output_type": "execute_result",
          "data": {
            "text/plain": [
              "[51.492450000000076, 0.12127000000003818]"
            ]
          },
          "metadata": {
            "tags": []
          },
          "execution_count": 170
        }
      ]
    },
    {
      "cell_type": "code",
      "metadata": {
        "id": "CHjvw_B2IChM",
        "colab_type": "code",
        "colab": {
          "base_uri": "https://localhost:8080/",
          "height": 34
        },
        "outputId": "2b811fce-4177-4c9c-bff2-130c1e8a458f"
      },
      "source": [
        "gg = geocoder.geocodefarm(sample, method = 'reverse')\n",
        "gg"
      ],
      "execution_count": 171,
      "outputs": [
        {
          "output_type": "execute_result",
          "data": {
            "text/plain": [
              "<[OK] Geocodefarm - Reverse [82 Harrow Manorway, Thamesmead South, SE2 9SW, United Kingdom]>"
            ]
          },
          "metadata": {
            "tags": []
          },
          "execution_count": 171
        }
      ]
    },
    {
      "cell_type": "code",
      "metadata": {
        "id": "LlsBEOfAICfJ",
        "colab_type": "code",
        "colab": {}
      },
      "source": [
        "start = time.time()\n",
        "postal_codes = df_se_top['Postcode']    \n",
        "coordinates = [get_latlng(postal_code) for postal_code in postal_codes.tolist()]\n",
        "end = time.time()\n",
        "print(\"Time of execution: \", end - start, \"seconds\")"
      ],
      "execution_count": null,
      "outputs": []
    },
    {
      "cell_type": "code",
      "metadata": {
        "id": "maFUBQMFICWp",
        "colab_type": "code",
        "colab": {}
      },
      "source": [
        "df_se_loc = df_se_top\n",
        "df_se_coordinates = pd.DataFrame(coordinates, columns = ['Latitude', 'Longitude'])\n",
        "df_se_loc['Latitude'] = df_se_coordinates['Latitude']\n",
        "df_se_loc['Longitude'] = df_se_coordinates['Longitude']"
      ],
      "execution_count": null,
      "outputs": []
    },
    {
      "cell_type": "code",
      "metadata": {
        "id": "fbIRGtb8ICTW",
        "colab_type": "code",
        "colab": {
          "base_uri": "https://localhost:8080/",
          "height": 204
        },
        "outputId": "d4fcb502-95f7-4a72-8652-fdbdcf6fa56b"
      },
      "source": [
        "df_se_loc.head(5)\n"
      ],
      "execution_count": 175,
      "outputs": [
        {
          "output_type": "execute_result",
          "data": {
            "text/html": [
              "<div>\n",
              "<style scoped>\n",
              "    .dataframe tbody tr th:only-of-type {\n",
              "        vertical-align: middle;\n",
              "    }\n",
              "\n",
              "    .dataframe tbody tr th {\n",
              "        vertical-align: top;\n",
              "    }\n",
              "\n",
              "    .dataframe thead th {\n",
              "        text-align: right;\n",
              "    }\n",
              "</style>\n",
              "<table border=\"1\" class=\"dataframe\">\n",
              "  <thead>\n",
              "    <tr style=\"text-align: right;\">\n",
              "      <th></th>\n",
              "      <th>Location</th>\n",
              "      <th>Borough</th>\n",
              "      <th>Postcode</th>\n",
              "    </tr>\n",
              "  </thead>\n",
              "  <tbody>\n",
              "    <tr>\n",
              "      <th>0</th>\n",
              "      <td>Crofton Park</td>\n",
              "      <td>Lewisham</td>\n",
              "      <td>SE4</td>\n",
              "    </tr>\n",
              "    <tr>\n",
              "      <th>1</th>\n",
              "      <td>Denmark Hill</td>\n",
              "      <td>Southwark</td>\n",
              "      <td>SE5</td>\n",
              "    </tr>\n",
              "    <tr>\n",
              "      <th>2</th>\n",
              "      <td>Deptford</td>\n",
              "      <td>Lewisham</td>\n",
              "      <td>SE8</td>\n",
              "    </tr>\n",
              "    <tr>\n",
              "      <th>3</th>\n",
              "      <td>Dulwich</td>\n",
              "      <td>Southwark</td>\n",
              "      <td>SE21</td>\n",
              "    </tr>\n",
              "    <tr>\n",
              "      <th>4</th>\n",
              "      <td>East Dulwich</td>\n",
              "      <td>Southwark</td>\n",
              "      <td>SE22</td>\n",
              "    </tr>\n",
              "  </tbody>\n",
              "</table>\n",
              "</div>"
            ],
            "text/plain": [
              "       Location    Borough Postcode\n",
              "0  Crofton Park   Lewisham      SE4\n",
              "1  Denmark Hill  Southwark      SE5\n",
              "2      Deptford   Lewisham      SE8\n",
              "3       Dulwich  Southwark     SE21\n",
              "4  East Dulwich  Southwark     SE22"
            ]
          },
          "metadata": {
            "tags": []
          },
          "execution_count": 175
        }
      ]
    },
    {
      "cell_type": "code",
      "metadata": {
        "id": "3b6s1FHwICRT",
        "colab_type": "code",
        "colab": {}
      },
      "source": [
        "df_se_loc.to_csv('SELondonLocationsCoordinates.csv', index = False)\n"
      ],
      "execution_count": 176,
      "outputs": []
    },
    {
      "cell_type": "code",
      "metadata": {
        "id": "y0OtrXAlICNk",
        "colab_type": "code",
        "colab": {
          "base_uri": "https://localhost:8080/",
          "height": 34
        },
        "outputId": "96932fe6-c153-4dca-eb34-54f27059a2ce"
      },
      "source": [
        "df_se_loc.shape\n"
      ],
      "execution_count": 177,
      "outputs": [
        {
          "output_type": "execute_result",
          "data": {
            "text/plain": [
              "(46, 3)"
            ]
          },
          "metadata": {
            "tags": []
          },
          "execution_count": 177
        }
      ]
    },
    {
      "cell_type": "code",
      "metadata": {
        "id": "0aMwTZaOICKM",
        "colab_type": "code",
        "colab": {}
      },
      "source": [
        "import json\n",
        "filename = 'foursquareapidata.json'\n",
        "with open(filename) as f:\n",
        "    data = json.load(f)"
      ],
      "execution_count": null,
      "outputs": []
    },
    {
      "cell_type": "code",
      "metadata": {
        "id": "4d4ucLsSICHY",
        "colab_type": "code",
        "colab": {}
      },
      "source": [
        "CLIENT_ID = data['RWKCYG0I3PZSES1CMO4FPUUE33BV31MIBQA2LJCZ3DFNUSC4'] \n",
        "CLIENT_SECRET = data['3B34F52LFRHEHGR5BM3CDVMHLHN3FTZ1QXGNYQQD1GOCPGSM']\n",
        "VERSION = data['VERSION']"
      ],
      "execution_count": null,
      "outputs": []
    },
    {
      "cell_type": "code",
      "metadata": {
        "id": "potDqvQiICEI",
        "colab_type": "code",
        "colab": {}
      },
      "source": [
        "se_df = df_se_loc.reset_index().drop('index', axis = 1)\n"
      ],
      "execution_count": 180,
      "outputs": []
    },
    {
      "cell_type": "code",
      "metadata": {
        "id": "W6g2v5eiICB5",
        "colab_type": "code",
        "colab": {
          "base_uri": "https://localhost:8080/",
          "height": 34
        },
        "outputId": "d7e41247-2e32-469e-d4b9-903c874bea69"
      },
      "source": [
        "se_df.shape\n"
      ],
      "execution_count": 181,
      "outputs": [
        {
          "output_type": "execute_result",
          "data": {
            "text/plain": [
              "(46, 3)"
            ]
          },
          "metadata": {
            "tags": []
          },
          "execution_count": 181
        }
      ]
    },
    {
      "cell_type": "code",
      "metadata": {
        "id": "JmGqWr0RIB9z",
        "colab_type": "code",
        "colab": {
          "base_uri": "https://localhost:8080/",
          "height": 1000
        },
        "outputId": "dfa37704-7dc4-4066-9b43-d57a02b9a567"
      },
      "source": [
        "se_df\n"
      ],
      "execution_count": 182,
      "outputs": [
        {
          "output_type": "execute_result",
          "data": {
            "text/html": [
              "<div>\n",
              "<style scoped>\n",
              "    .dataframe tbody tr th:only-of-type {\n",
              "        vertical-align: middle;\n",
              "    }\n",
              "\n",
              "    .dataframe tbody tr th {\n",
              "        vertical-align: top;\n",
              "    }\n",
              "\n",
              "    .dataframe thead th {\n",
              "        text-align: right;\n",
              "    }\n",
              "</style>\n",
              "<table border=\"1\" class=\"dataframe\">\n",
              "  <thead>\n",
              "    <tr style=\"text-align: right;\">\n",
              "      <th></th>\n",
              "      <th>Location</th>\n",
              "      <th>Borough</th>\n",
              "      <th>Postcode</th>\n",
              "    </tr>\n",
              "  </thead>\n",
              "  <tbody>\n",
              "    <tr>\n",
              "      <th>0</th>\n",
              "      <td>Crofton Park</td>\n",
              "      <td>Lewisham</td>\n",
              "      <td>SE4</td>\n",
              "    </tr>\n",
              "    <tr>\n",
              "      <th>1</th>\n",
              "      <td>Denmark Hill</td>\n",
              "      <td>Southwark</td>\n",
              "      <td>SE5</td>\n",
              "    </tr>\n",
              "    <tr>\n",
              "      <th>2</th>\n",
              "      <td>Deptford</td>\n",
              "      <td>Lewisham</td>\n",
              "      <td>SE8</td>\n",
              "    </tr>\n",
              "    <tr>\n",
              "      <th>3</th>\n",
              "      <td>Dulwich</td>\n",
              "      <td>Southwark</td>\n",
              "      <td>SE21</td>\n",
              "    </tr>\n",
              "    <tr>\n",
              "      <th>4</th>\n",
              "      <td>East Dulwich</td>\n",
              "      <td>Southwark</td>\n",
              "      <td>SE22</td>\n",
              "    </tr>\n",
              "    <tr>\n",
              "      <th>5</th>\n",
              "      <td>Elephant and Castle</td>\n",
              "      <td>Southwark</td>\n",
              "      <td>SE1</td>\n",
              "    </tr>\n",
              "    <tr>\n",
              "      <th>6</th>\n",
              "      <td>Elephant and Castle</td>\n",
              "      <td>Southwark</td>\n",
              "      <td>SE11</td>\n",
              "    </tr>\n",
              "    <tr>\n",
              "      <th>7</th>\n",
              "      <td>Elephant and Castle</td>\n",
              "      <td>Southwark</td>\n",
              "      <td>SE17</td>\n",
              "    </tr>\n",
              "    <tr>\n",
              "      <th>8</th>\n",
              "      <td>Bankside</td>\n",
              "      <td>Southwark</td>\n",
              "      <td>SE1</td>\n",
              "    </tr>\n",
              "    <tr>\n",
              "      <th>9</th>\n",
              "      <td>Forest Hill</td>\n",
              "      <td>Lewisham</td>\n",
              "      <td>SE23</td>\n",
              "    </tr>\n",
              "    <tr>\n",
              "      <th>10</th>\n",
              "      <td>Gipsy Hill</td>\n",
              "      <td>Lambeth</td>\n",
              "      <td>SE19</td>\n",
              "    </tr>\n",
              "    <tr>\n",
              "      <th>11</th>\n",
              "      <td>Gipsy Hill</td>\n",
              "      <td>Lambeth</td>\n",
              "      <td>SE27</td>\n",
              "    </tr>\n",
              "    <tr>\n",
              "      <th>12</th>\n",
              "      <td>Grove Park</td>\n",
              "      <td>Lewisham</td>\n",
              "      <td>SE12</td>\n",
              "    </tr>\n",
              "    <tr>\n",
              "      <th>13</th>\n",
              "      <td>Herne Hill</td>\n",
              "      <td>Lambeth</td>\n",
              "      <td>SE24</td>\n",
              "    </tr>\n",
              "    <tr>\n",
              "      <th>14</th>\n",
              "      <td>Hither Green</td>\n",
              "      <td>Lewisham</td>\n",
              "      <td>SE13</td>\n",
              "    </tr>\n",
              "    <tr>\n",
              "      <th>15</th>\n",
              "      <td>Honor Oak</td>\n",
              "      <td>Lewisham</td>\n",
              "      <td>SE23</td>\n",
              "    </tr>\n",
              "    <tr>\n",
              "      <th>16</th>\n",
              "      <td>Ladywell</td>\n",
              "      <td>Lewisham</td>\n",
              "      <td>SE4</td>\n",
              "    </tr>\n",
              "    <tr>\n",
              "      <th>17</th>\n",
              "      <td>Ladywell</td>\n",
              "      <td>Lewisham</td>\n",
              "      <td>SE13</td>\n",
              "    </tr>\n",
              "    <tr>\n",
              "      <th>18</th>\n",
              "      <td>Lambeth</td>\n",
              "      <td>Lambeth</td>\n",
              "      <td>SE1</td>\n",
              "    </tr>\n",
              "    <tr>\n",
              "      <th>19</th>\n",
              "      <td>Lee</td>\n",
              "      <td>Lewisham</td>\n",
              "      <td>SE12</td>\n",
              "    </tr>\n",
              "    <tr>\n",
              "      <th>20</th>\n",
              "      <td>Lewisham</td>\n",
              "      <td>Lewisham</td>\n",
              "      <td>SE13</td>\n",
              "    </tr>\n",
              "    <tr>\n",
              "      <th>21</th>\n",
              "      <td>New Cross</td>\n",
              "      <td>Lewisham</td>\n",
              "      <td>SE14</td>\n",
              "    </tr>\n",
              "    <tr>\n",
              "      <th>22</th>\n",
              "      <td>Newington</td>\n",
              "      <td>Southwark</td>\n",
              "      <td>SE1</td>\n",
              "    </tr>\n",
              "    <tr>\n",
              "      <th>23</th>\n",
              "      <td>Newington</td>\n",
              "      <td>Southwark</td>\n",
              "      <td>SE17</td>\n",
              "    </tr>\n",
              "    <tr>\n",
              "      <th>24</th>\n",
              "      <td>Nunhead</td>\n",
              "      <td>Southwark</td>\n",
              "      <td>SE15</td>\n",
              "    </tr>\n",
              "    <tr>\n",
              "      <th>25</th>\n",
              "      <td>Oval</td>\n",
              "      <td>Lambeth</td>\n",
              "      <td>SE11</td>\n",
              "    </tr>\n",
              "    <tr>\n",
              "      <th>26</th>\n",
              "      <td>Bellingham</td>\n",
              "      <td>Lewisham</td>\n",
              "      <td>SE6</td>\n",
              "    </tr>\n",
              "    <tr>\n",
              "      <th>27</th>\n",
              "      <td>Peckham</td>\n",
              "      <td>Southwark</td>\n",
              "      <td>SE15</td>\n",
              "    </tr>\n",
              "    <tr>\n",
              "      <th>28</th>\n",
              "      <td>Rotherhithe</td>\n",
              "      <td>Southwark</td>\n",
              "      <td>SE16</td>\n",
              "    </tr>\n",
              "    <tr>\n",
              "      <th>29</th>\n",
              "      <td>Selhurst</td>\n",
              "      <td>Croydon</td>\n",
              "      <td>SE25</td>\n",
              "    </tr>\n",
              "    <tr>\n",
              "      <th>30</th>\n",
              "      <td>Bermondsey</td>\n",
              "      <td>Southwark</td>\n",
              "      <td>SE1</td>\n",
              "    </tr>\n",
              "    <tr>\n",
              "      <th>31</th>\n",
              "      <td>South Norwood</td>\n",
              "      <td>Croydon</td>\n",
              "      <td>SE25</td>\n",
              "    </tr>\n",
              "    <tr>\n",
              "      <th>32</th>\n",
              "      <td>Southend</td>\n",
              "      <td>Lewisham</td>\n",
              "      <td>SE6</td>\n",
              "    </tr>\n",
              "    <tr>\n",
              "      <th>33</th>\n",
              "      <td>St Johns</td>\n",
              "      <td>Lewisham</td>\n",
              "      <td>SE4</td>\n",
              "    </tr>\n",
              "    <tr>\n",
              "      <th>34</th>\n",
              "      <td>Surrey Quays</td>\n",
              "      <td>Southwark</td>\n",
              "      <td>SE16</td>\n",
              "    </tr>\n",
              "    <tr>\n",
              "      <th>35</th>\n",
              "      <td>Tulse Hill</td>\n",
              "      <td>Lambeth</td>\n",
              "      <td>SE24</td>\n",
              "    </tr>\n",
              "    <tr>\n",
              "      <th>36</th>\n",
              "      <td>Tulse Hill</td>\n",
              "      <td>Lambeth</td>\n",
              "      <td>SE27</td>\n",
              "    </tr>\n",
              "    <tr>\n",
              "      <th>37</th>\n",
              "      <td>Upper Norwood</td>\n",
              "      <td>Croydon</td>\n",
              "      <td>SE19</td>\n",
              "    </tr>\n",
              "    <tr>\n",
              "      <th>38</th>\n",
              "      <td>Walworth</td>\n",
              "      <td>Southwark</td>\n",
              "      <td>SE17</td>\n",
              "    </tr>\n",
              "    <tr>\n",
              "      <th>39</th>\n",
              "      <td>Blackheath</td>\n",
              "      <td>Lewisham</td>\n",
              "      <td>SE3</td>\n",
              "    </tr>\n",
              "    <tr>\n",
              "      <th>40</th>\n",
              "      <td>West Norwood</td>\n",
              "      <td>Lambeth</td>\n",
              "      <td>SE27</td>\n",
              "    </tr>\n",
              "    <tr>\n",
              "      <th>41</th>\n",
              "      <td>Brixton</td>\n",
              "      <td>Lambeth</td>\n",
              "      <td>SE5</td>\n",
              "    </tr>\n",
              "    <tr>\n",
              "      <th>42</th>\n",
              "      <td>Brockley</td>\n",
              "      <td>Lewisham</td>\n",
              "      <td>SE4</td>\n",
              "    </tr>\n",
              "    <tr>\n",
              "      <th>43</th>\n",
              "      <td>Camberwell</td>\n",
              "      <td>Southwark</td>\n",
              "      <td>SE5</td>\n",
              "    </tr>\n",
              "    <tr>\n",
              "      <th>44</th>\n",
              "      <td>Catford</td>\n",
              "      <td>Lewisham</td>\n",
              "      <td>SE6</td>\n",
              "    </tr>\n",
              "    <tr>\n",
              "      <th>45</th>\n",
              "      <td>Chinbrook</td>\n",
              "      <td>Lewisham</td>\n",
              "      <td>SE12</td>\n",
              "    </tr>\n",
              "  </tbody>\n",
              "</table>\n",
              "</div>"
            ],
            "text/plain": [
              "               Location    Borough Postcode\n",
              "0          Crofton Park   Lewisham      SE4\n",
              "1          Denmark Hill  Southwark      SE5\n",
              "2              Deptford   Lewisham      SE8\n",
              "3               Dulwich  Southwark     SE21\n",
              "4          East Dulwich  Southwark     SE22\n",
              "5   Elephant and Castle  Southwark      SE1\n",
              "6   Elephant and Castle  Southwark     SE11\n",
              "7   Elephant and Castle  Southwark     SE17\n",
              "8              Bankside  Southwark      SE1\n",
              "9           Forest Hill   Lewisham     SE23\n",
              "10           Gipsy Hill    Lambeth     SE19\n",
              "11           Gipsy Hill    Lambeth     SE27\n",
              "12           Grove Park   Lewisham     SE12\n",
              "13           Herne Hill    Lambeth     SE24\n",
              "14         Hither Green   Lewisham     SE13\n",
              "15            Honor Oak   Lewisham     SE23\n",
              "16             Ladywell   Lewisham      SE4\n",
              "17             Ladywell   Lewisham     SE13\n",
              "18              Lambeth    Lambeth      SE1\n",
              "19                  Lee   Lewisham     SE12\n",
              "20             Lewisham   Lewisham     SE13\n",
              "21            New Cross   Lewisham     SE14\n",
              "22            Newington  Southwark      SE1\n",
              "23            Newington  Southwark     SE17\n",
              "24              Nunhead  Southwark     SE15\n",
              "25                 Oval    Lambeth     SE11\n",
              "26           Bellingham   Lewisham      SE6\n",
              "27              Peckham  Southwark     SE15\n",
              "28          Rotherhithe  Southwark     SE16\n",
              "29             Selhurst    Croydon     SE25\n",
              "30           Bermondsey  Southwark      SE1\n",
              "31        South Norwood    Croydon     SE25\n",
              "32             Southend   Lewisham      SE6\n",
              "33             St Johns   Lewisham      SE4\n",
              "34         Surrey Quays  Southwark     SE16\n",
              "35           Tulse Hill    Lambeth     SE24\n",
              "36           Tulse Hill    Lambeth     SE27\n",
              "37        Upper Norwood    Croydon     SE19\n",
              "38             Walworth  Southwark     SE17\n",
              "39           Blackheath   Lewisham      SE3\n",
              "40         West Norwood    Lambeth     SE27\n",
              "41              Brixton    Lambeth      SE5\n",
              "42             Brockley   Lewisham      SE4\n",
              "43           Camberwell  Southwark      SE5\n",
              "44              Catford   Lewisham      SE6\n",
              "45            Chinbrook   Lewisham     SE12"
            ]
          },
          "metadata": {
            "tags": []
          },
          "execution_count": 182
        }
      ]
    },
    {
      "cell_type": "code",
      "metadata": {
        "id": "XGi4k8dTIB7B",
        "colab_type": "code",
        "colab": {
          "base_uri": "https://localhost:8080/",
          "height": 80
        },
        "outputId": "cb3890a8-6594-46e2-8ae8-2069bacfe98d"
      },
      "source": [
        "se_df.loc[se_df['Location'] == 'Lewisham']\n"
      ],
      "execution_count": 183,
      "outputs": [
        {
          "output_type": "execute_result",
          "data": {
            "text/html": [
              "<div>\n",
              "<style scoped>\n",
              "    .dataframe tbody tr th:only-of-type {\n",
              "        vertical-align: middle;\n",
              "    }\n",
              "\n",
              "    .dataframe tbody tr th {\n",
              "        vertical-align: top;\n",
              "    }\n",
              "\n",
              "    .dataframe thead th {\n",
              "        text-align: right;\n",
              "    }\n",
              "</style>\n",
              "<table border=\"1\" class=\"dataframe\">\n",
              "  <thead>\n",
              "    <tr style=\"text-align: right;\">\n",
              "      <th></th>\n",
              "      <th>Location</th>\n",
              "      <th>Borough</th>\n",
              "      <th>Postcode</th>\n",
              "    </tr>\n",
              "  </thead>\n",
              "  <tbody>\n",
              "    <tr>\n",
              "      <th>20</th>\n",
              "      <td>Lewisham</td>\n",
              "      <td>Lewisham</td>\n",
              "      <td>SE13</td>\n",
              "    </tr>\n",
              "  </tbody>\n",
              "</table>\n",
              "</div>"
            ],
            "text/plain": [
              "    Location   Borough Postcode\n",
              "20  Lewisham  Lewisham     SE13"
            ]
          },
          "metadata": {
            "tags": []
          },
          "execution_count": 183
        }
      ]
    },
    {
      "cell_type": "code",
      "metadata": {
        "id": "u0vcIcCzJozw",
        "colab_type": "code",
        "colab": {
          "base_uri": "https://localhost:8080/",
          "height": 35
        },
        "outputId": "21c83e08-7777-4589-db6d-809d64e8f430"
      },
      "source": [
        "se_df.loc[20, 'Location']\n"
      ],
      "execution_count": 184,
      "outputs": [
        {
          "output_type": "execute_result",
          "data": {
            "application/vnd.google.colaboratory.intrinsic": {
              "type": "string"
            },
            "text/plain": [
              "'Lewisham'"
            ]
          },
          "metadata": {
            "tags": []
          },
          "execution_count": 184
        }
      ]
    },
    {
      "cell_type": "code",
      "metadata": {
        "id": "CQg9aOiZJpAx",
        "colab_type": "code",
        "colab": {}
      },
      "source": [
        "lewisham_lat = se_df.loc[20, 'Latitude']\n",
        "lewisham_long = se_df.loc[20, 'Longitude']\n",
        "lewisham_loc = se_df.loc[20, 'Location']\n",
        "lewisham_postcode = se_df.loc[20, 'Postcode']\n",
        "print('The latitude and longitude values of {} with postcode {}, are {}, {}.'.format(lewisham_loc, lewisham_postcode, lewisham_lat, lewisham_long))"
      ],
      "execution_count": null,
      "outputs": []
    },
    {
      "cell_type": "code",
      "metadata": {
        "id": "wk25g-DUJo-p",
        "colab_type": "code",
        "colab": {}
      },
      "source": [
        "LIMIT = 100 \n",
        "radius = 2000 \n",
        "url = 'https://api.foursquare.com/v2/venues/explore?&client_id={}&client_secret={}&v={}&ll={},{}&radius={}&limit={}'.format(\n",
        "    CLIENT_ID, \n",
        "    CLIENT_SECRET, \n",
        "    VERSION, \n",
        "    lewisham_lat, \n",
        "    lewisham_long, \n",
        "    radius, \n",
        "    LIMIT)\n",
        "url"
      ],
      "execution_count": null,
      "outputs": []
    },
    {
      "cell_type": "code",
      "metadata": {
        "id": "2ikwn4taJo7o",
        "colab_type": "code",
        "colab": {}
      },
      "source": [
        "results = requests.get(url).json()\n",
        "results"
      ],
      "execution_count": null,
      "outputs": []
    },
    {
      "cell_type": "code",
      "metadata": {
        "id": "5S3Xt4qsJo5f",
        "colab_type": "code",
        "colab": {}
      },
      "source": [
        "def get_category_type(row):\n",
        "    try:\n",
        "        categories_list = row['categories']\n",
        "    except:\n",
        "        categories_list = row['venue.categories']\n",
        "        \n",
        "    if len(categories_list) == 0:\n",
        "        return None\n",
        "    else:\n",
        "        return categories_list[0]['name']"
      ],
      "execution_count": 188,
      "outputs": []
    },
    {
      "cell_type": "code",
      "metadata": {
        "id": "pkwC_u-FJowe",
        "colab_type": "code",
        "colab": {}
      },
      "source": [
        "venues = results['response']['groups'][0]['items']\n",
        "    \n",
        "nearby_venues = json_normalize(venues) \n",
        "filtered_columns = ['venue.name', 'venue.categories', 'venue.location.lat', 'venue.location.lng']\n",
        "nearby_venues =nearby_venues.loc[:, filtered_columns]\n",
        "nearby_venues['venue.categories'] = nearby_venues.apply(get_category_type, axis=1)\n",
        "nearby_venues.columns = [col.split(\".\")[-1] for col in nearby_venues.columns]"
      ],
      "execution_count": null,
      "outputs": []
    },
    {
      "cell_type": "code",
      "metadata": {
        "id": "x4x0SnAEJouY",
        "colab_type": "code",
        "colab": {}
      },
      "source": [
        "nearby_venues\n"
      ],
      "execution_count": null,
      "outputs": []
    },
    {
      "cell_type": "code",
      "metadata": {
        "id": "tasrh8koJoqm",
        "colab_type": "code",
        "colab": {}
      },
      "source": [
        "nearby_venues_lewisham_unique = nearby_venues['categories'].value_counts().to_frame(name='Count')\n"
      ],
      "execution_count": null,
      "outputs": []
    },
    {
      "cell_type": "code",
      "metadata": {
        "id": "PWBw1n1eKnaV",
        "colab_type": "code",
        "colab": {}
      },
      "source": [
        "nearby_venues_lewisham_unique.head(5)\n"
      ],
      "execution_count": null,
      "outputs": []
    },
    {
      "cell_type": "code",
      "metadata": {
        "id": "W84_IBKQKnjY",
        "colab_type": "code",
        "colab": {}
      },
      "source": [
        "print('{} venues were returned by Foursquare.'.format(nearby_venues.shape[0]))"
      ],
      "execution_count": null,
      "outputs": []
    },
    {
      "cell_type": "code",
      "metadata": {
        "id": "iMKrOu5WKne2",
        "colab_type": "code",
        "colab": {}
      },
      "source": [
        "def getNearbyVenues(names, latitudes, longitudes, radius=2000):\n",
        "    venues_list=[]\n",
        "    for name, lat, lng in zip(names, latitudes, longitudes):\n",
        "        print(name)\n",
        "        url = 'https://api.foursquare.com/v2/venues/explore?&client_id={}&client_secret={}&v={}&ll={},{}&radius={}&limit={}'.format(\n",
        "            CLIENT_ID, \n",
        "            CLIENT_SECRET, \n",
        "            VERSION, \n",
        "            lat, \n",
        "            lng, \n",
        "            radius, \n",
        "            LIMIT)\n",
        "        results = requests.get(url).json()[\"response\"]['groups'][0]['items']\n",
        "        venues_list.append([(\n",
        "            name, \n",
        "            lat, \n",
        "            lng, \n",
        "            v['venue']['name'], \n",
        "            v['venue']['location']['lat'], \n",
        "            v['venue']['location']['lng'],  \n",
        "            v['venue']['categories'][0]['name']) for v in results])\n",
        "    nearby_venues = pd.DataFrame([item for venue_list in venues_list for item in venue_list])\n",
        "    nearby_venues.columns = ['Neighbourhood', \n",
        "                  'Neighbourhood Latitude', \n",
        "                  'Neighbourhood Longitude', \n",
        "                  'Venue', \n",
        "                  'Venue Latitude', \n",
        "                  'Venue Longitude', \n",
        "                  'Venue Category']\n",
        "    return(nearby_venues)"
      ],
      "execution_count": 194,
      "outputs": []
    },
    {
      "cell_type": "code",
      "metadata": {
        "id": "vmulrA3YKnXY",
        "colab_type": "code",
        "colab": {}
      },
      "source": [
        "se_venues = getNearbyVenues(names=se_df['Location'],\n",
        "                                   latitudes=se_df['Latitude'],\n",
        "                                   longitudes=se_df['Longitude']\n",
        "                                  )"
      ],
      "execution_count": null,
      "outputs": []
    },
    {
      "cell_type": "code",
      "metadata": {
        "id": "h5ez8WJSKnT2",
        "colab_type": "code",
        "colab": {}
      },
      "source": [
        "se_venues.shape\n"
      ],
      "execution_count": null,
      "outputs": []
    },
    {
      "cell_type": "code",
      "metadata": {
        "id": "F9UxH5N-KnQd",
        "colab_type": "code",
        "colab": {}
      },
      "source": [
        "len(se_venues)\n"
      ],
      "execution_count": null,
      "outputs": []
    },
    {
      "cell_type": "code",
      "metadata": {
        "id": "RC5UE2nyKnOn",
        "colab_type": "code",
        "colab": {}
      },
      "source": [
        "se_venues['Neighbourhood'].value_counts()\n",
        "se_venues.to_csv('se_venues.csv')"
      ],
      "execution_count": null,
      "outputs": []
    },
    {
      "cell_type": "code",
      "metadata": {
        "id": "47P3PT4GLSWv",
        "colab_type": "code",
        "colab": {}
      },
      "source": [
        "se_venues.head(5)\n"
      ],
      "execution_count": null,
      "outputs": []
    },
    {
      "cell_type": "code",
      "metadata": {
        "id": "f-5YR2gULSUg",
        "colab_type": "code",
        "colab": {}
      },
      "source": [
        "se_venues.groupby('Neighbourhood').count()\n"
      ],
      "execution_count": null,
      "outputs": []
    },
    {
      "cell_type": "code",
      "metadata": {
        "id": "Fr8WdhxuLSRz",
        "colab_type": "code",
        "colab": {}
      },
      "source": [
        "print('There are {} uniques categories.'.format(len(se_venues['Venue Category'].unique())))\n"
      ],
      "execution_count": null,
      "outputs": []
    },
    {
      "cell_type": "code",
      "metadata": {
        "id": "Plc51TmZLSPF",
        "colab_type": "code",
        "colab": {}
      },
      "source": [
        "se_venue_unique_count = se_venues['Venue Category'].value_counts().to_frame(name='Count')\n"
      ],
      "execution_count": null,
      "outputs": []
    },
    {
      "cell_type": "code",
      "metadata": {
        "id": "nnmmntRdLSMw",
        "colab_type": "code",
        "colab": {}
      },
      "source": [
        "se_venue_unique_count.head(5)\n"
      ],
      "execution_count": null,
      "outputs": []
    },
    {
      "cell_type": "code",
      "metadata": {
        "id": "RvPN-cs-LSJL",
        "colab_type": "code",
        "colab": {}
      },
      "source": [
        "se_venue_unique_count.describe()\n"
      ],
      "execution_count": null,
      "outputs": []
    },
    {
      "cell_type": "code",
      "metadata": {
        "id": "A2FZ8nOmKnKH",
        "colab_type": "code",
        "colab": {
          "base_uri": "https://localhost:8080/",
          "height": 34
        },
        "outputId": "aeef5855-0230-4d6d-ae33-8b12470a10fc"
      },
      "source": [
        "address = 'London, United Kingdom'\n",
        "geolocator = Nominatim(user_agent=\"ln_explorer\")\n",
        "location = geolocator.geocode(address)\n",
        "latitude = location.latitude\n",
        "longitude = location.longitude\n",
        "print('The geograpical coordinate of London are {}, {}.'.format(latitude, longitude))"
      ],
      "execution_count": 205,
      "outputs": [
        {
          "output_type": "stream",
          "text": [
            "The geograpical coordinate of London are 51.5073219, -0.1276474.\n"
          ],
          "name": "stdout"
        }
      ]
    },
    {
      "cell_type": "code",
      "metadata": {
        "id": "pRqOG3sokvZO",
        "colab_type": "code",
        "colab": {
          "base_uri": "https://localhost:8080/",
          "height": 763
        },
        "outputId": "8bb7103f-6d1d-437d-b192-59d8ab977dbb"
      },
      "source": [
        "map_london = folium.Map(location = [latitude, longitude], zoom_start = 12)\n",
        "map_london"
      ],
      "execution_count": 206,
      "outputs": [
        {
          "output_type": "execute_result",
          "data": {
            "text/html": [
              "<div style=\"width:100%;\"><div style=\"position:relative;width:100%;height:0;padding-bottom:60%;\"><span style=\"color:#565656\">Make this Notebook Trusted to load map: File -> Trust Notebook</span><iframe src=\"about:blank\" style=\"position:absolute;width:100%;height:100%;left:0;top:0;border:none !important;\" data-html=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 onload=\"this.contentDocument.open();this.contentDocument.write(atob(this.getAttribute('data-html')));this.contentDocument.close();\" allowfullscreen webkitallowfullscreen mozallowfullscreen></iframe></div></div>"
            ],
            "text/plain": [
              "<folium.folium.Map at 0x7ff22bc12208>"
            ]
          },
          "metadata": {
            "tags": []
          },
          "execution_count": 206
        }
      ]
    },
    {
      "cell_type": "code",
      "metadata": {
        "id": "NQ09xUmRkvXZ",
        "colab_type": "code",
        "colab": {}
      },
      "source": [
        "for lat, lng, borough, loc in zip(se_df['Latitude'], \n",
        "                                  se_df['Longitude'],\n",
        "                                  se_df['Borough'],\n",
        "                                  se_df['Location']):\n",
        "    label = '{} - {}'.format(loc, borough)\n",
        "    label = folium.Popup(label, parse_html=True)\n",
        "    folium.CircleMarker(\n",
        "        [lat, lng],\n",
        "        radius=5,\n",
        "        popup=label,\n",
        "        color='blue',\n",
        "        fill=True,\n",
        "        fill_color='#3186cc',\n",
        "        fill_opacity=0.7).add_to(map_london)  \n",
        "display(map_london)"
      ],
      "execution_count": null,
      "outputs": []
    },
    {
      "cell_type": "code",
      "metadata": {
        "id": "rzag9yJlkvT1",
        "colab_type": "code",
        "colab": {
          "base_uri": "https://localhost:8080/",
          "height": 34
        },
        "outputId": "2db17a5d-6f0c-4d86-955e-bb130d076a28"
      },
      "source": [
        "type(se_df)\n"
      ],
      "execution_count": 208,
      "outputs": [
        {
          "output_type": "execute_result",
          "data": {
            "text/plain": [
              "pandas.core.frame.DataFrame"
            ]
          },
          "metadata": {
            "tags": []
          },
          "execution_count": 208
        }
      ]
    },
    {
      "cell_type": "code",
      "metadata": {
        "id": "Y2a7CW-skvQu",
        "colab_type": "code",
        "colab": {}
      },
      "source": [
        "se_onehot = pd.get_dummies(se_venues[['Venue Category']], prefix = \"\", prefix_sep = \"\")\n"
      ],
      "execution_count": null,
      "outputs": []
    },
    {
      "cell_type": "code",
      "metadata": {
        "id": "9ZERYGWXkvOR",
        "colab_type": "code",
        "colab": {}
      },
      "source": [
        "se_onehot['Neighbourhood'] = se_venues['Neighbourhood']\n"
      ],
      "execution_count": null,
      "outputs": []
    },
    {
      "cell_type": "code",
      "metadata": {
        "id": "gzkxGGZ1kvKg",
        "colab_type": "code",
        "colab": {}
      },
      "source": [
        "fixed_columns = [se_onehot.columns[-1]] + list(se_onehot.columns[:-1])\n",
        "se_onehot = se_onehot[fixed_columns]"
      ],
      "execution_count": null,
      "outputs": []
    },
    {
      "cell_type": "code",
      "metadata": {
        "id": "-CarJhEBkvIe",
        "colab_type": "code",
        "colab": {}
      },
      "source": [
        "se_oneshot.head(5)\n"
      ],
      "execution_count": null,
      "outputs": []
    },
    {
      "cell_type": "code",
      "metadata": {
        "id": "xzMD6021kvDn",
        "colab_type": "code",
        "colab": {}
      },
      "source": [
        "se_onehot.loc[se_onehot['African Restaurant'] != 0]"
      ],
      "execution_count": null,
      "outputs": []
    },
    {
      "cell_type": "code",
      "metadata": {
        "id": "wdMJ8ub0l_ZF",
        "colab_type": "code",
        "colab": {}
      },
      "source": [
        "se_onehot.loc[se_onehot['Neighbourhood'] == 'Lewisham']\n"
      ],
      "execution_count": null,
      "outputs": []
    },
    {
      "cell_type": "code",
      "metadata": {
        "id": "0ABz8dmpl_kX",
        "colab_type": "code",
        "colab": {}
      },
      "source": [
        "print(\"Before One-hot encoding:\", se_df.shape)\n",
        "print(\"After One-hot encoding:\", se_grouped.shape)"
      ],
      "execution_count": null,
      "outputs": []
    },
    {
      "cell_type": "code",
      "metadata": {
        "id": "IzJGQga9l_v4",
        "colab_type": "code",
        "colab": {}
      },
      "source": [
        "se_grouped.to_csv('london_grouped.csv', index = False)\n"
      ],
      "execution_count": null,
      "outputs": []
    },
    {
      "cell_type": "code",
      "metadata": {
        "id": "nonkFh6Ul_tt",
        "colab_type": "code",
        "colab": {}
      },
      "source": [
        "num_top_venues = 10 \n",
        "\n",
        "for hood in se_grouped['Neighbourhood']:\n",
        "    print(\"----\"+hood+\"----\")\n",
        "    temp = se_grouped[se_grouped['Neighbourhood'] == hood].T.reset_index()\n",
        "    temp.columns = ['venue', 'freq']\n",
        "    temp = temp.iloc[1:]\n",
        "    temp['freq'] = temp['freq'].astype(float)\n",
        "    temp = temp.round({'freq': 2})\n",
        "    print(temp.sort_values('freq', ascending = False).reset_index(drop = True).head(num_top_venues))\n",
        "    print('\\n')"
      ],
      "execution_count": null,
      "outputs": []
    },
    {
      "cell_type": "code",
      "metadata": {
        "id": "FJn_gDRzl_iW",
        "colab_type": "code",
        "colab": {}
      },
      "source": [
        "def return_most_common_venues(row, num_top_venues):\n",
        "    row_categories = row.iloc[1:]\n",
        "    row_categories_sorted = row_categories.sort_values(ascending = False)\n",
        "    return row_categories_sorted.index.values[0:num_top_venues]"
      ],
      "execution_count": 218,
      "outputs": []
    },
    {
      "cell_type": "code",
      "metadata": {
        "id": "1r4C__p6nqYk",
        "colab_type": "code",
        "colab": {}
      },
      "source": [
        "num_top_venues = 10\n",
        "indicators = ['st', 'nd', 'rd']\n",
        "columns = ['Neighbourhood']\n",
        "for ind in np.arange(num_top_venues):\n",
        "    try:\n",
        "        columns.append('{}{} Most Common Venue'.format(ind+1, indicators[ind]))\n",
        "    except:\n",
        "        columns.append('{}th Most Common Venue'.format(ind+1))\n",
        "neighbourhoods_venues_sorted = pd.DataFrame(columns=columns)\n",
        "neighbourhoods_venues_sorted['Neighbourhood'] = se_grouped['Neighbourhood']\n",
        "for ind in np.arange(se_grouped.shape[0]):\n",
        "    neighbourhoods_venues_sorted.iloc[ind, 1:] = return_most_common_venues(se_grouped.iloc[ind, :], num_top_venues)"
      ],
      "execution_count": null,
      "outputs": []
    },
    {
      "cell_type": "code",
      "metadata": {
        "id": "6X5leGwhnqhy",
        "colab_type": "code",
        "colab": {
          "base_uri": "https://localhost:8080/",
          "height": 66
        },
        "outputId": "fde4fba1-c6ae-4a0e-f1d8-04ff60e86af5"
      },
      "source": [
        "neighbourhoods_venues_sorted.head()\n"
      ],
      "execution_count": 221,
      "outputs": [
        {
          "output_type": "execute_result",
          "data": {
            "text/html": [
              "<div>\n",
              "<style scoped>\n",
              "    .dataframe tbody tr th:only-of-type {\n",
              "        vertical-align: middle;\n",
              "    }\n",
              "\n",
              "    .dataframe tbody tr th {\n",
              "        vertical-align: top;\n",
              "    }\n",
              "\n",
              "    .dataframe thead th {\n",
              "        text-align: right;\n",
              "    }\n",
              "</style>\n",
              "<table border=\"1\" class=\"dataframe\">\n",
              "  <thead>\n",
              "    <tr style=\"text-align: right;\">\n",
              "      <th></th>\n",
              "      <th>Neighbourhood</th>\n",
              "      <th>1st Most Common Venue</th>\n",
              "      <th>2nd Most Common Venue</th>\n",
              "      <th>3rd Most Common Venue</th>\n",
              "      <th>4th Most Common Venue</th>\n",
              "      <th>5th Most Common Venue</th>\n",
              "      <th>6th Most Common Venue</th>\n",
              "      <th>7th Most Common Venue</th>\n",
              "      <th>8th Most Common Venue</th>\n",
              "      <th>9th Most Common Venue</th>\n",
              "      <th>10th Most Common Venue</th>\n",
              "    </tr>\n",
              "  </thead>\n",
              "  <tbody>\n",
              "  </tbody>\n",
              "</table>\n",
              "</div>"
            ],
            "text/plain": [
              "Empty DataFrame\n",
              "Columns: [Neighbourhood, 1st Most Common Venue, 2nd Most Common Venue, 3rd Most Common Venue, 4th Most Common Venue, 5th Most Common Venue, 6th Most Common Venue, 7th Most Common Venue, 8th Most Common Venue, 9th Most Common Venue, 10th Most Common Venue]\n",
              "Index: []"
            ]
          },
          "metadata": {
            "tags": []
          },
          "execution_count": 221
        }
      ]
    },
    {
      "cell_type": "code",
      "metadata": {
        "id": "m6y8BIzxnqeO",
        "colab_type": "code",
        "colab": {}
      },
      "source": [
        "neighbourhoods_venues_sorted.to_csv('neighbourhoods_venues_sorted.csv', index = False)\n"
      ],
      "execution_count": 222,
      "outputs": []
    },
    {
      "cell_type": "code",
      "metadata": {
        "id": "6cp3yiLznqVS",
        "colab_type": "code",
        "colab": {}
      },
      "source": [
        "se_grouped_clustering = se_grouped.drop('Neighbourhood', 1)"
      ],
      "execution_count": null,
      "outputs": []
    },
    {
      "cell_type": "code",
      "metadata": {
        "id": "-zQnHM0CnqSn",
        "colab_type": "code",
        "colab": {}
      },
      "source": [
        "kclusters = 5\n",
        "kmeans = KMeans(n_clusters = kclusters, random_state=0).fit(se_grouped_clustering)\n",
        "kmeans.labels_[0:10]"
      ],
      "execution_count": null,
      "outputs": []
    },
    {
      "cell_type": "code",
      "metadata": {
        "id": "s02zvz3nnqOE",
        "colab_type": "code",
        "colab": {}
      },
      "source": [
        "kmeans.labels_[0:10]\n"
      ],
      "execution_count": null,
      "outputs": []
    },
    {
      "cell_type": "code",
      "metadata": {
        "id": "yNfN6N5DooeW",
        "colab_type": "code",
        "colab": {}
      },
      "source": [
        "neighbourhoods_venues_sorted.insert(0, 'Cluster Labels', kmeans.labels_)\n"
      ],
      "execution_count": null,
      "outputs": []
    },
    {
      "cell_type": "code",
      "metadata": {
        "id": "oFZnwr9coomH",
        "colab_type": "code",
        "colab": {}
      },
      "source": [
        "se_merged = se_df\n"
      ],
      "execution_count": 227,
      "outputs": []
    },
    {
      "cell_type": "code",
      "metadata": {
        "id": "KYX2JPyoooZa",
        "colab_type": "code",
        "colab": {
          "base_uri": "https://localhost:8080/",
          "height": 142
        },
        "outputId": "eeee59fd-fb56-45db-c4fb-bf7b9504fa20"
      },
      "source": [
        "se_merged.head(3)\n"
      ],
      "execution_count": 228,
      "outputs": [
        {
          "output_type": "execute_result",
          "data": {
            "text/html": [
              "<div>\n",
              "<style scoped>\n",
              "    .dataframe tbody tr th:only-of-type {\n",
              "        vertical-align: middle;\n",
              "    }\n",
              "\n",
              "    .dataframe tbody tr th {\n",
              "        vertical-align: top;\n",
              "    }\n",
              "\n",
              "    .dataframe thead th {\n",
              "        text-align: right;\n",
              "    }\n",
              "</style>\n",
              "<table border=\"1\" class=\"dataframe\">\n",
              "  <thead>\n",
              "    <tr style=\"text-align: right;\">\n",
              "      <th></th>\n",
              "      <th>Location</th>\n",
              "      <th>Borough</th>\n",
              "      <th>Postcode</th>\n",
              "    </tr>\n",
              "  </thead>\n",
              "  <tbody>\n",
              "    <tr>\n",
              "      <th>0</th>\n",
              "      <td>Crofton Park</td>\n",
              "      <td>Lewisham</td>\n",
              "      <td>SE4</td>\n",
              "    </tr>\n",
              "    <tr>\n",
              "      <th>1</th>\n",
              "      <td>Denmark Hill</td>\n",
              "      <td>Southwark</td>\n",
              "      <td>SE5</td>\n",
              "    </tr>\n",
              "    <tr>\n",
              "      <th>2</th>\n",
              "      <td>Deptford</td>\n",
              "      <td>Lewisham</td>\n",
              "      <td>SE8</td>\n",
              "    </tr>\n",
              "  </tbody>\n",
              "</table>\n",
              "</div>"
            ],
            "text/plain": [
              "       Location    Borough Postcode\n",
              "0  Crofton Park   Lewisham      SE4\n",
              "1  Denmark Hill  Southwark      SE5\n",
              "2      Deptford   Lewisham      SE8"
            ]
          },
          "metadata": {
            "tags": []
          },
          "execution_count": 228
        }
      ]
    },
    {
      "cell_type": "code",
      "metadata": {
        "id": "ddGdnVILooVr",
        "colab_type": "code",
        "colab": {}
      },
      "source": [
        "se_merged_latlong = se_merged.join(neighbourhoods_venues_sorted.set_index('Neighbourhood'), on = 'Location')\n"
      ],
      "execution_count": 229,
      "outputs": []
    },
    {
      "cell_type": "code",
      "metadata": {
        "id": "YRq0Q9T_pC6P",
        "colab_type": "code",
        "colab": {
          "base_uri": "https://localhost:8080/",
          "height": 289
        },
        "outputId": "77981a92-7090-4f92-facb-b8913ed8b56d"
      },
      "source": [
        "se_merged_latlong.head(5)\n"
      ],
      "execution_count": 230,
      "outputs": [
        {
          "output_type": "execute_result",
          "data": {
            "text/html": [
              "<div>\n",
              "<style scoped>\n",
              "    .dataframe tbody tr th:only-of-type {\n",
              "        vertical-align: middle;\n",
              "    }\n",
              "\n",
              "    .dataframe tbody tr th {\n",
              "        vertical-align: top;\n",
              "    }\n",
              "\n",
              "    .dataframe thead th {\n",
              "        text-align: right;\n",
              "    }\n",
              "</style>\n",
              "<table border=\"1\" class=\"dataframe\">\n",
              "  <thead>\n",
              "    <tr style=\"text-align: right;\">\n",
              "      <th></th>\n",
              "      <th>Location</th>\n",
              "      <th>Borough</th>\n",
              "      <th>Postcode</th>\n",
              "      <th>1st Most Common Venue</th>\n",
              "      <th>2nd Most Common Venue</th>\n",
              "      <th>3rd Most Common Venue</th>\n",
              "      <th>4th Most Common Venue</th>\n",
              "      <th>5th Most Common Venue</th>\n",
              "      <th>6th Most Common Venue</th>\n",
              "      <th>7th Most Common Venue</th>\n",
              "      <th>8th Most Common Venue</th>\n",
              "      <th>9th Most Common Venue</th>\n",
              "      <th>10th Most Common Venue</th>\n",
              "    </tr>\n",
              "  </thead>\n",
              "  <tbody>\n",
              "    <tr>\n",
              "      <th>0</th>\n",
              "      <td>Crofton Park</td>\n",
              "      <td>Lewisham</td>\n",
              "      <td>SE4</td>\n",
              "      <td>NaN</td>\n",
              "      <td>NaN</td>\n",
              "      <td>NaN</td>\n",
              "      <td>NaN</td>\n",
              "      <td>NaN</td>\n",
              "      <td>NaN</td>\n",
              "      <td>NaN</td>\n",
              "      <td>NaN</td>\n",
              "      <td>NaN</td>\n",
              "      <td>NaN</td>\n",
              "    </tr>\n",
              "    <tr>\n",
              "      <th>1</th>\n",
              "      <td>Denmark Hill</td>\n",
              "      <td>Southwark</td>\n",
              "      <td>SE5</td>\n",
              "      <td>NaN</td>\n",
              "      <td>NaN</td>\n",
              "      <td>NaN</td>\n",
              "      <td>NaN</td>\n",
              "      <td>NaN</td>\n",
              "      <td>NaN</td>\n",
              "      <td>NaN</td>\n",
              "      <td>NaN</td>\n",
              "      <td>NaN</td>\n",
              "      <td>NaN</td>\n",
              "    </tr>\n",
              "    <tr>\n",
              "      <th>2</th>\n",
              "      <td>Deptford</td>\n",
              "      <td>Lewisham</td>\n",
              "      <td>SE8</td>\n",
              "      <td>NaN</td>\n",
              "      <td>NaN</td>\n",
              "      <td>NaN</td>\n",
              "      <td>NaN</td>\n",
              "      <td>NaN</td>\n",
              "      <td>NaN</td>\n",
              "      <td>NaN</td>\n",
              "      <td>NaN</td>\n",
              "      <td>NaN</td>\n",
              "      <td>NaN</td>\n",
              "    </tr>\n",
              "    <tr>\n",
              "      <th>3</th>\n",
              "      <td>Dulwich</td>\n",
              "      <td>Southwark</td>\n",
              "      <td>SE21</td>\n",
              "      <td>NaN</td>\n",
              "      <td>NaN</td>\n",
              "      <td>NaN</td>\n",
              "      <td>NaN</td>\n",
              "      <td>NaN</td>\n",
              "      <td>NaN</td>\n",
              "      <td>NaN</td>\n",
              "      <td>NaN</td>\n",
              "      <td>NaN</td>\n",
              "      <td>NaN</td>\n",
              "    </tr>\n",
              "    <tr>\n",
              "      <th>4</th>\n",
              "      <td>East Dulwich</td>\n",
              "      <td>Southwark</td>\n",
              "      <td>SE22</td>\n",
              "      <td>NaN</td>\n",
              "      <td>NaN</td>\n",
              "      <td>NaN</td>\n",
              "      <td>NaN</td>\n",
              "      <td>NaN</td>\n",
              "      <td>NaN</td>\n",
              "      <td>NaN</td>\n",
              "      <td>NaN</td>\n",
              "      <td>NaN</td>\n",
              "      <td>NaN</td>\n",
              "    </tr>\n",
              "  </tbody>\n",
              "</table>\n",
              "</div>"
            ],
            "text/plain": [
              "       Location    Borough Postcode 1st Most Common Venue  \\\n",
              "0  Crofton Park   Lewisham      SE4                   NaN   \n",
              "1  Denmark Hill  Southwark      SE5                   NaN   \n",
              "2      Deptford   Lewisham      SE8                   NaN   \n",
              "3       Dulwich  Southwark     SE21                   NaN   \n",
              "4  East Dulwich  Southwark     SE22                   NaN   \n",
              "\n",
              "  2nd Most Common Venue 3rd Most Common Venue 4th Most Common Venue  \\\n",
              "0                   NaN                   NaN                   NaN   \n",
              "1                   NaN                   NaN                   NaN   \n",
              "2                   NaN                   NaN                   NaN   \n",
              "3                   NaN                   NaN                   NaN   \n",
              "4                   NaN                   NaN                   NaN   \n",
              "\n",
              "  5th Most Common Venue 6th Most Common Venue 7th Most Common Venue  \\\n",
              "0                   NaN                   NaN                   NaN   \n",
              "1                   NaN                   NaN                   NaN   \n",
              "2                   NaN                   NaN                   NaN   \n",
              "3                   NaN                   NaN                   NaN   \n",
              "4                   NaN                   NaN                   NaN   \n",
              "\n",
              "  8th Most Common Venue 9th Most Common Venue 10th Most Common Venue  \n",
              "0                   NaN                   NaN                    NaN  \n",
              "1                   NaN                   NaN                    NaN  \n",
              "2                   NaN                   NaN                    NaN  \n",
              "3                   NaN                   NaN                    NaN  \n",
              "4                   NaN                   NaN                    NaN  "
            ]
          },
          "metadata": {
            "tags": []
          },
          "execution_count": 230
        }
      ]
    },
    {
      "cell_type": "code",
      "metadata": {
        "id": "wtc87DSJpDCa",
        "colab_type": "code",
        "colab": {}
      },
      "source": [
        "se_clusters = se_merged_latlong\n"
      ],
      "execution_count": 231,
      "outputs": []
    },
    {
      "cell_type": "code",
      "metadata": {
        "id": "-KgLySzypC_2",
        "colab_type": "code",
        "colab": {}
      },
      "source": [
        "import matplotlib\n",
        "import numpy as np"
      ],
      "execution_count": 232,
      "outputs": []
    },
    {
      "cell_type": "code",
      "metadata": {
        "id": "WT1tjEbkpe4F",
        "colab_type": "code",
        "colab": {}
      },
      "source": [
        "from sklearn.cluster import KMeans\n",
        "import matplotlib.pyplot as plt\n",
        "sse = {}\n",
        "for n_cluster1 in range(2, 10):\n",
        "    kmeans1 = KMeans(n_clusters = n_cluster1, max_iter = 500).fit(se_grouped_clustering)\n",
        "    se_grouped_clustering[\"clusters\"] = kmeans1.labels_\n",
        "    \n",
        "    sse[n_cluster1] = kmeans1.inertia_ \n",
        "plt.figure()\n",
        "plt.plot(list(sse.keys()), list(sse.values()))\n",
        "plt.xlabel(\"Number of Clusters, k\")\n",
        "plt.ylabel(\"Sum of Squared Error, SSE\")\n",
        "plt.vlines(3, ymin = -2, ymax = 45, colors = 'red')\n",
        "plt.show()"
      ],
      "execution_count": null,
      "outputs": []
    },
    {
      "cell_type": "code",
      "metadata": {
        "id": "DPHLI0c8pe1t",
        "colab_type": "code",
        "colab": {}
      },
      "source": [
        "from sklearn.metrics import silhouette_score\n",
        "from sklearn.cluster import KMeans\n",
        "for n_cluster2 in range(2, 10):\n",
        "    kmeans2 = KMeans(n_clusters = n_cluster2, random_state = 0).fit(se_grouped_clustering)\n",
        "    label2 = kmeans2.labels_\n",
        "    sil_coeff = silhouette_score(se_grouped_clustering, label2, metric = 'euclidean')\n",
        "    print(\"Where n_clusters = {}, the Silhouette Coefficient is {}\".format(n_cluster2, sil_coeff))"
      ],
      "execution_count": null,
      "outputs": []
    },
    {
      "cell_type": "code",
      "metadata": {
        "id": "ujtKO33Mw-7j",
        "colab_type": "code",
        "colab": {
          "base_uri": "https://localhost:8080/",
          "height": 136
        },
        "outputId": "98c5482f-3007-4b7d-a04b-9ae63e90d140"
      },
      "source": [
        "se_clusters.columns\n"
      ],
      "execution_count": 235,
      "outputs": [
        {
          "output_type": "execute_result",
          "data": {
            "text/plain": [
              "Index(['Location', 'Borough', 'Postcode', '1st Most Common Venue',\n",
              "       '2nd Most Common Venue', '3rd Most Common Venue',\n",
              "       '4th Most Common Venue', '5th Most Common Venue',\n",
              "       '6th Most Common Venue', '7th Most Common Venue',\n",
              "       '8th Most Common Venue', '9th Most Common Venue',\n",
              "       '10th Most Common Venue'],\n",
              "      dtype='object')"
            ]
          },
          "metadata": {
            "tags": []
          },
          "execution_count": 235
        }
      ]
    },
    {
      "cell_type": "code",
      "metadata": {
        "id": "yVE5mBuJw-4q",
        "colab_type": "code",
        "colab": {}
      },
      "source": [
        "map_clusters = folium.Map(location=[latitude, longitude], zoom_start=11)\n",
        "x = np.arange(kclusters)\n",
        "ys = [i + x + (i*x)**2 for i in range(kclusters)]\n",
        "colors_array = cm.rainbow(np.linspace(0, 1, len(ys)))\n",
        "rainbow = [colors.rgb2hex(i) for i in colors_array]\n",
        "markers_colors = []\n",
        "for lat, lon, poi, cluster in zip(se_clusters['Latitude'], se_clusters['Longitude'], se_clusters['Location'], se_clusters['Cluster Labels']):\n",
        "    label = folium.Popup(str(poi) + ' Cluster ' + str(cluster), parse_html=True)\n",
        "    folium.CircleMarker(\n",
        "        [lat, lon],\n",
        "        radius=20,\n",
        "        popup=label,\n",
        "        color=rainbow[cluster-1],\n",
        "        fill=True,\n",
        "        fill_color=rainbow[cluster-1],\n",
        "        fill_opacity=0.7).add_to(map_clusters)\n",
        "display(map_clusters)"
      ],
      "execution_count": null,
      "outputs": []
    },
    {
      "cell_type": "code",
      "metadata": {
        "id": "PPKZi5QGw-1F",
        "colab_type": "code",
        "colab": {}
      },
      "source": [
        "se_clusters.loc[se_clusters['Cluster Labels'] == 0, se_clusters.columns[[1] + list(range(5, se_clusters.shape[1]))]]\n"
      ],
      "execution_count": null,
      "outputs": []
    },
    {
      "cell_type": "code",
      "metadata": {
        "id": "776d7kUmw-xi",
        "colab_type": "code",
        "colab": {}
      },
      "source": [
        "se_clusters.loc[se_clusters['Cluster Labels'] == 1, se_clusters.columns[[1] + list(range(5, se_clusters.shape[1]))]]\n"
      ],
      "execution_count": null,
      "outputs": []
    },
    {
      "cell_type": "code",
      "metadata": {
        "id": "8BeWuLRow-t_",
        "colab_type": "code",
        "colab": {}
      },
      "source": [
        "se_clusters.loc[se_clusters['Cluster Labels'] == 2, se_clusters.columns[[1] + list(range(5, se_clusters.shape[1]))]]\n"
      ],
      "execution_count": null,
      "outputs": []
    },
    {
      "cell_type": "code",
      "metadata": {
        "id": "9TQeab34xaAR",
        "colab_type": "code",
        "colab": {}
      },
      "source": [
        "se_clusters.loc[se_clusters['Cluster Labels'] == 3, se_clusters.columns[[1] + list(range(5, se_clusters.shape[1]))]]\n"
      ],
      "execution_count": null,
      "outputs": []
    },
    {
      "cell_type": "code",
      "metadata": {
        "id": "2LKsUdq_xaMI",
        "colab_type": "code",
        "colab": {}
      },
      "source": [
        "se_clusters.loc[se_clusters['Cluster Labels'] == 4, se_clusters.columns[[1] + list(range(5, se_clusters.shape[1]))]]\n"
      ],
      "execution_count": null,
      "outputs": []
    }
  ]
}